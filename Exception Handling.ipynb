{
 "cells": [
  {
   "attachments": {},
   "cell_type": "markdown",
   "metadata": {},
   "source": [
    "# Two types of errors:\n",
    "- **1:Compile Time Error**\n",
    "- **Compile Time Error also called a ``syntatical error``**\n",
    "- **like: above error i.e., ``print(\"hey)``**\n",
    "- **means syntax wise there is a problem in your code**"
   ]
  },
  {
   "attachments": {},
   "cell_type": "markdown",
   "metadata": {},
   "source": [
    "- **2:runtime error**\n",
    "- **runtime_error means syntax wise there is no**\n",
    "- **problem in your code**\n",
    " - **A program with a runtime error is one that passed the** \n",
    "- **interpreter’s syntax checks, and started to execute.**\n",
    "- **but at execution level they show error that is basically your**\n",
    "- **``runtime error``**"
   ]
  },
  {
   "cell_type": "code",
   "execution_count": 5,
   "metadata": {},
   "outputs": [
    {
     "ename": "FileNotFoundError",
     "evalue": "[Errno 2] No such file or directory: 'xyz.txt'",
     "output_type": "error",
     "traceback": [
      "\u001b[1;31m---------------------------------------------------------------------------\u001b[0m",
      "\u001b[1;31mFileNotFoundError\u001b[0m                         Traceback (most recent call last)",
      "\u001b[1;32mc:\\Users\\amitt\\OneDrive\\Desktop\\Exception Handling\\Exception Handling.ipynb Cell 3\u001b[0m in \u001b[0;36m<cell line: 2>\u001b[1;34m()\u001b[0m\n\u001b[0;32m      <a href='vscode-notebook-cell:/c%3A/Users/amitt/OneDrive/Desktop/Exception%20Handling/Exception%20Handling.ipynb#X13sZmlsZQ%3D%3D?line=0'>1</a>\u001b[0m \u001b[39m#eg:\u001b[39;00m\n\u001b[1;32m----> <a href='vscode-notebook-cell:/c%3A/Users/amitt/OneDrive/Desktop/Exception%20Handling/Exception%20Handling.ipynb#X13sZmlsZQ%3D%3D?line=1'>2</a>\u001b[0m f \u001b[39m=\u001b[39m \u001b[39mopen\u001b[39;49m(\u001b[39m\"\u001b[39;49m\u001b[39mxyz.txt\u001b[39;49m\u001b[39m\"\u001b[39;49m,\u001b[39m\"\u001b[39;49m\u001b[39mr\u001b[39;49m\u001b[39m\"\u001b[39;49m)\n\u001b[0;32m      <a href='vscode-notebook-cell:/c%3A/Users/amitt/OneDrive/Desktop/Exception%20Handling/Exception%20Handling.ipynb#X13sZmlsZQ%3D%3D?line=2'>3</a>\u001b[0m f\u001b[39m.\u001b[39mwrite(\u001b[39m\"\u001b[39m\u001b[39mmy name is amit\u001b[39m\u001b[39m\"\u001b[39m)\n\u001b[0;32m      <a href='vscode-notebook-cell:/c%3A/Users/amitt/OneDrive/Desktop/Exception%20Handling/Exception%20Handling.ipynb#X13sZmlsZQ%3D%3D?line=3'>4</a>\u001b[0m \u001b[39mprint\u001b[39m(\u001b[39m\"\u001b[39m\u001b[39mprint this  isvalid\u001b[39m\u001b[39m\"\u001b[39m)\n",
      "\u001b[1;31mFileNotFoundError\u001b[0m: [Errno 2] No such file or directory: 'xyz.txt'"
     ]
    }
   ],
   "source": [
    "#eg:\n",
    "f = open(\"xyz.txt\",\"r\")\n",
    "f.write(\"my name is amit\")\n",
    "print(\"print this  isvalid\")\n",
    "5+6"
   ]
  },
  {
   "attachments": {},
   "cell_type": "markdown",
   "metadata": {},
   "source": [
    "- **above you can see i unable to run the rest of the other**\n",
    "- **code due to the error coming in between**\n",
    "\n",
    "\n",
    "- **and this is big-issue**\n",
    "- **suppose, you are working with some 10K lines of code**\n",
    "- **and suddenly one code break in between**\n",
    "- **then rest code that i want to execute**\n",
    "- **will not be getting executed.**\n",
    "\n",
    "- ---------------------------------------------------------------------\n",
    "- **then, here comes ``Exception Handling``**\n",
    "- **with respect to production level code this is very very important**"
   ]
  },
  {
   "attachments": {},
   "cell_type": "markdown",
   "metadata": {},
   "source": [
    "There are 2 stages where error may happen in a program\n",
    "\n",
    "- During compilation -> Syntax Error\n",
    "- During execution -> Exceptions"
   ]
  },
  {
   "attachments": {},
   "cell_type": "markdown",
   "metadata": {},
   "source": [
    "### Syntax Error\n",
    "\n",
    "- Something in the program is not written according to the program grammar.\n",
    "- Error is raised by the interpreter/compiler\n",
    "- You can solve it by rectifying the program\n"
   ]
  },
  {
   "cell_type": "code",
   "execution_count": 1,
   "metadata": {},
   "outputs": [
    {
     "ename": "SyntaxError",
     "evalue": "Missing parentheses in call to 'print'. Did you mean print(...)? (528539990.py, line 2)",
     "output_type": "error",
     "traceback": [
      "\u001b[1;36m  Input \u001b[1;32mIn [1]\u001b[1;36m\u001b[0m\n\u001b[1;33m    print 'hello world'\u001b[0m\n\u001b[1;37m    ^\u001b[0m\n\u001b[1;31mSyntaxError\u001b[0m\u001b[1;31m:\u001b[0m Missing parentheses in call to 'print'. Did you mean print(...)?\n"
     ]
    }
   ],
   "source": [
    "# Examples of syntax error\n",
    "print 'hello world'"
   ]
  },
  {
   "attachments": {},
   "cell_type": "markdown",
   "metadata": {},
   "source": [
    "### Other examples of syntax error\n",
    "\n",
    "- Leaving symbols like colon,brackets\n",
    "- Misspelling a keyword\n",
    "- Incorrect indentation\n",
    "- empty if/else/loops/class/functions"
   ]
  },
  {
   "cell_type": "code",
   "execution_count": 3,
   "metadata": {},
   "outputs": [
    {
     "ename": "SyntaxError",
     "evalue": "expected ':' (3315782095.py, line 2)",
     "output_type": "error",
     "traceback": [
      "\u001b[1;36m  Input \u001b[1;32mIn [3]\u001b[1;36m\u001b[0m\n\u001b[1;33m    if a==3\u001b[0m\n\u001b[1;37m           ^\u001b[0m\n\u001b[1;31mSyntaxError\u001b[0m\u001b[1;31m:\u001b[0m expected ':'\n"
     ]
    }
   ],
   "source": [
    "a = 5\n",
    "if a==3\n",
    "  print('hello')"
   ]
  },
  {
   "attachments": {},
   "cell_type": "markdown",
   "metadata": {},
   "source": [
    "### Exceptions\n",
    "\n",
    "If things go wrong during the execution of the program(runtime). It generally happens when something unforeseen has happened.\n",
    "\n",
    "- Exceptions are raised by python runtime\n",
    "- You have to takle is on the fly\n",
    "\n",
    "#### **Examples**\n",
    "\n",
    "- Memory overflow\n",
    "- Divide by 0 -> logical error\n",
    "- Database error"
   ]
  },
  {
   "attachments": {},
   "cell_type": "markdown",
   "metadata": {},
   "source": [
    "- how to handle exceptions\n",
    "- -> Try except block"
   ]
  },
  {
   "attachments": {},
   "cell_type": "markdown",
   "metadata": {},
   "source": [
    "- ``why`` exception handling?\n",
    "- ``to make user experience good``\n",
    "- ``and`` second ``for security purpose``"
   ]
  },
  {
   "cell_type": "code",
   "execution_count": 1,
   "metadata": {},
   "outputs": [],
   "source": [
    "# let's create a file\n",
    "with open('sample.txt','w') as f:\n",
    "  f.write('hello world')"
   ]
  },
  {
   "cell_type": "code",
   "execution_count": 2,
   "metadata": {},
   "outputs": [
    {
     "name": "stdout",
     "output_type": "stream",
     "text": [
      "Sorry file not present\n"
     ]
    }
   ],
   "source": [
    "# try catch demo\n",
    "try:\n",
    "    with open('same.txt','r') as f:\n",
    "        print(f.read())\n",
    "except:\n",
    "    print(\"Sorry file not present\")"
   ]
  },
  {
   "cell_type": "code",
   "execution_count": 18,
   "metadata": {},
   "outputs": [
    {
     "name": "stdout",
     "output_type": "stream",
     "text": [
      "hello world\n",
      "Variable not defined\n"
     ]
    }
   ],
   "source": [
    "# catching specific expression\n",
    "try:\n",
    "    f = open(\"sample.txt\",'r') \n",
    "    print(f.read())\n",
    "    print(m)\n",
    "    print(5/2)\n",
    "    L = [1,23,2]\n",
    "    L[100]\n",
    "except FileNotFoundError:\n",
    "    print(\"File not found error\")\n",
    "except NameError:\n",
    "    print(\"Variable not defined\")    \n",
    "except ZeroDivisionError:\n",
    "    print(\"can't divide by 0\")\n",
    "except Exception as e: # automatically catch undefined error\n",
    "    print(e)    "
   ]
  },
  {
   "cell_type": "code",
   "execution_count": 21,
   "metadata": {},
   "outputs": [
    {
     "name": "stdout",
     "output_type": "stream",
     "text": [
      "hello world\n"
     ]
    }
   ],
   "source": [
    "# else\n",
    "# auto trigger if no fault in try \n",
    "try:\n",
    "    f = open(\"sample.txt\",'r')\n",
    "except FileNotFoundError:\n",
    "    print(\"file nhi hai\")\n",
    "except Exception:\n",
    "    print(\"kuch lafda hai\")\n",
    "else:\n",
    "    print(f.read())            "
   ]
  },
  {
   "cell_type": "code",
   "execution_count": 22,
   "metadata": {},
   "outputs": [
    {
     "name": "stdout",
     "output_type": "stream",
     "text": [
      "hello world\n",
      "yeh print hoga hi\n"
     ]
    }
   ],
   "source": [
    "# finally \n",
    "try:\n",
    "    f = open(\"sample.txt\",'r')\n",
    "except FileNotFoundError:\n",
    "    print(\"file nhi hai\")\n",
    "except Exception:\n",
    "    print(\"kuch lafda hai\")\n",
    "else:\n",
    "    print(f.read())       \n",
    "finally:\n",
    "    print(\"yeh print hoga hi\")"
   ]
  },
  {
   "cell_type": "code",
   "execution_count": 23,
   "metadata": {},
   "outputs": [],
   "source": [
    "# raise exception\n",
    "# in python programming ,exceptions are raised when errors occur at runtime.\n",
    "# we can also manually raise exceptions using the raise keyword.\n",
    "\n",
    "# we can optionally pass values to exception to clarify why exception was raised"
   ]
  },
  {
   "cell_type": "code",
   "execution_count": 24,
   "metadata": {},
   "outputs": [
    {
     "ename": "NameError",
     "evalue": "aise hi just try",
     "output_type": "error",
     "traceback": [
      "\u001b[1;31m---------------------------------------------------------------------------\u001b[0m",
      "\u001b[1;31mNameError\u001b[0m                                 Traceback (most recent call last)",
      "\u001b[1;32mc:\\Users\\amitt\\OneDrive\\Desktop\\Exception Handling\\Exception Handling.ipynb Cell 19\u001b[0m in \u001b[0;36m<cell line: 1>\u001b[1;34m()\u001b[0m\n\u001b[1;32m----> <a href='vscode-notebook-cell:/c%3A/Users/amitt/OneDrive/Desktop/Exception%20Handling/Exception%20Handling.ipynb#X24sZmlsZQ%3D%3D?line=0'>1</a>\u001b[0m \u001b[39mraise\u001b[39;00m \u001b[39mNameError\u001b[39;00m(\u001b[39m\"\u001b[39m\u001b[39maise hi just try\u001b[39m\u001b[39m\"\u001b[39m)\n",
      "\u001b[1;31mNameError\u001b[0m: aise hi just try"
     ]
    }
   ],
   "source": [
    "raise NameError(\"aise hi just try\")"
   ]
  },
  {
   "cell_type": "code",
   "execution_count": 25,
   "metadata": {},
   "outputs": [
    {
     "ename": "FileNotFoundError",
     "evalue": "aise hi just try",
     "output_type": "error",
     "traceback": [
      "\u001b[1;31m---------------------------------------------------------------------------\u001b[0m",
      "\u001b[1;31mFileNotFoundError\u001b[0m                         Traceback (most recent call last)",
      "\u001b[1;32mc:\\Users\\amitt\\OneDrive\\Desktop\\Exception Handling\\Exception Handling.ipynb Cell 20\u001b[0m in \u001b[0;36m<cell line: 2>\u001b[1;34m()\u001b[0m\n\u001b[0;32m      <a href='vscode-notebook-cell:/c%3A/Users/amitt/OneDrive/Desktop/Exception%20Handling/Exception%20Handling.ipynb#X25sZmlsZQ%3D%3D?line=0'>1</a>\u001b[0m \u001b[39m# even\u001b[39;00m\n\u001b[1;32m----> <a href='vscode-notebook-cell:/c%3A/Users/amitt/OneDrive/Desktop/Exception%20Handling/Exception%20Handling.ipynb#X25sZmlsZQ%3D%3D?line=1'>2</a>\u001b[0m \u001b[39mraise\u001b[39;00m \u001b[39mFileNotFoundError\u001b[39;00m(\u001b[39m\"\u001b[39m\u001b[39maise hi just try\u001b[39m\u001b[39m\"\u001b[39m)\n",
      "\u001b[1;31mFileNotFoundError\u001b[0m: aise hi just try"
     ]
    }
   ],
   "source": [
    "# even\n",
    "raise FileNotFoundError(\"aise hi just try\")"
   ]
  },
  {
   "cell_type": "code",
   "execution_count": 29,
   "metadata": {},
   "outputs": [
    {
     "name": "stdout",
     "output_type": "stream",
     "text": [
      "amount can't be negative\n"
     ]
    }
   ],
   "source": [
    "class Bank:\n",
    "\n",
    "    def __init__(self,balance):\n",
    "        self.balance = balance\n",
    "\n",
    "    def withdraw(self,amount):\n",
    "        if amount < 0:\n",
    "            raise Exception(\"amount can't be negative\")\n",
    "        if self.balance < amount:\n",
    "            raise Exception(\"paise nhi hai tere paas\")    \n",
    "        self.balance = self.balance - amount\n",
    "\n",
    "obj = Bank(9000000)\n",
    "try :\n",
    "    obj.withdraw(-100000)\n",
    "except Exception as e:\n",
    "    print(e)  \n",
    "else:\n",
    "    print(obj.balance)    "
   ]
  },
  {
   "cell_type": "code",
   "execution_count": 34,
   "metadata": {},
   "outputs": [
    {
     "name": "stdout",
     "output_type": "stream",
     "text": [
      "bhai teri to lag gayi\n",
      "logout\n",
      "database connection closed\n"
     ]
    }
   ],
   "source": [
    "class SecurityError(Exception):\n",
    "\n",
    "  def __init__(self,message):\n",
    "    print(message)\n",
    "\n",
    "  def logout(self):\n",
    "    print('logout')\n",
    "\n",
    "class Google:\n",
    "\n",
    "  def __init__(self,name,email,password,device):\n",
    "    self.name = name\n",
    "    self.email = email\n",
    "    self.password = password\n",
    "    self.device = device\n",
    "\n",
    "  def login(self,email,password,device):\n",
    "    if device != self.device:\n",
    "      raise SecurityError('bhai teri to lag gayi')\n",
    "    if email == self.email and password == self.password:\n",
    "      print('welcome')\n",
    "    else:\n",
    "      print('login error')\n",
    "\n",
    "\n",
    "\n",
    "obj = Google('nitish','nitish@gmail.com','1234','android')\n",
    "\n",
    "try:\n",
    "  obj.login('nitish@gmail.com','1234','windows')\n",
    "except SecurityError as e:\n",
    "  e.logout()\n",
    "else:\n",
    "  print(obj.name)\n",
    "finally:\n",
    "  print('database connection closed')"
   ]
  },
  {
   "cell_type": "code",
   "execution_count": null,
   "metadata": {},
   "outputs": [],
   "source": []
  }
 ],
 "metadata": {
  "kernelspec": {
   "display_name": "Python 3",
   "language": "python",
   "name": "python3"
  },
  "language_info": {
   "codemirror_mode": {
    "name": "ipython",
    "version": 3
   },
   "file_extension": ".py",
   "mimetype": "text/x-python",
   "name": "python",
   "nbconvert_exporter": "python",
   "pygments_lexer": "ipython3",
   "version": "3.10.0"
  },
  "orig_nbformat": 4,
  "vscode": {
   "interpreter": {
    "hash": "26de051ba29f2982a8de78e945f0abaf191376122a1563185a90213a26c5da77"
   }
  }
 },
 "nbformat": 4,
 "nbformat_minor": 2
}

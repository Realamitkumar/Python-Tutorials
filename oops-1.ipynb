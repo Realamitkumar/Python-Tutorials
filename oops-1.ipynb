{
 "cells": [
  {
   "cell_type": "markdown",
   "metadata": {},
   "source": [
    "# OOPs"
   ]
  },
  {
   "cell_type": "markdown",
   "metadata": {},
   "source": [
    "**``Course_Outline``**\n",
    "\n",
    "- What is OOP?\n",
    "- What is Class and Object\n",
    "- Atm Demo Code\n",
    "- Function vs Method\n",
    "- Constructor>>MagicMethod\n",
    "- Self\n",
    "- Class Diagram"
   ]
  },
  {
   "cell_type": "markdown",
   "metadata": {},
   "source": [
    "**Class**\n",
    "\n",
    "- Class is a blueprint\n",
    "\n",
    "eg: mobile phones >>> class\n",
    "\n",
    "    - samsung phone >>> obj."
   ]
  },
  {
   "cell_type": "markdown",
   "metadata": {},
   "source": [
    "Class\n",
    "- Data or Property \n",
    "- Functions or behavior\n",
    "\n",
    "eg: in Car >>data>> color,weight\n",
    "\n",
    "- calcualte speed>> function"
   ]
  },
  {
   "cell_type": "markdown",
   "metadata": {},
   "source": [
    "**Object**\n",
    "\n",
    "- it is an instance of the class.\n",
    "\n",
    "- to create object of class\n",
    "\n",
    "objectname = classname()"
   ]
  },
  {
   "cell_type": "markdown",
   "metadata": {},
   "source": [
    "#pascal case\n",
    "#HelloWorld"
   ]
  },
  {
   "cell_type": "markdown",
   "metadata": {},
   "source": [
    "# ``ATM Machine``"
   ]
  },
  {
   "cell_type": "code",
   "execution_count": 1,
   "metadata": {},
   "outputs": [],
   "source": [
    "class Atm:\n",
    "\n",
    "    #constructor\n",
    "    def __init__(self):\n",
    "      self.pin = ''\n",
    "      self.balance = 0 \n",
    "      self.menu()\n",
    "    \n",
    "\n",
    "\n",
    "\n",
    "    def menu(self):\n",
    "      user = input(\"\"\"\n",
    "      Hi How Can I Help You?\n",
    "      1. Press 1 to create pin\n",
    "      2. Press 2 to change pin\n",
    "      3. Press 3 to check balance\n",
    "      4. Press 4 to withdraw\n",
    "      5. Anything else to exit\n",
    "      \"\"\")\n",
    "      if user == '1':\n",
    "        self.create_pin()\n",
    "        \n",
    "      elif user == '2':\n",
    "        # change pin \n",
    "        self.change_pin()\n",
    "\n",
    "      elif user == '3':\n",
    "        # check balance\n",
    "        self.check_balance()\n",
    "    \n",
    "      elif user == '4':\n",
    "        # withdraw  \n",
    "        self.withdrawl()\n",
    "\n",
    "      else:\n",
    "        self.menu()\n",
    "\n",
    "\n",
    "    def create_pin(self):\n",
    "\n",
    "      user_pin = int(input(\"Enter pin\"))\n",
    "      self.pin = user_pin\n",
    "          \n",
    "      user_balance = int(input(\"Enter Balance \"))\n",
    "      self.balance = user_balance\n",
    "      print(\"Pin Set Successfully!\")  \n",
    "      self.menu()\n",
    "\n",
    "    def change_pin(self):\n",
    "      \n",
    "      old_pin = int(input(\"Enter the old pin\"))\n",
    "      if old_pin == self.pin :\n",
    "        new_pin = int(input(\"Enter The New Pin \"))\n",
    "        self.pin = new_pin\n",
    "        print(\"Pin Has Changed Successfully!\")\n",
    "      else:\n",
    "        print(\"Oops Wrong Pin!\") \n",
    "        self.menu()\n",
    "\n",
    "    def check_balance(self):\n",
    "      pin_ = int(input(\"Enter The Pin \"))\n",
    "      if pin_ == self.pin:\n",
    "        print(\"Your available balance is {}\".format (self.balance))\n",
    "        self.menu()\n",
    "      else:\n",
    "        print(\"Wrong pin entered!\")  \n",
    "        self.menu()\n",
    "\n",
    "    def withdrawl(self):\n",
    "      pin_ = int(input(\"Enter The Pin Here\"))\n",
    "      if pin_ == self.pin:\n",
    "        amount = int(input(\"Enter the amount want to withdraw\"))\n",
    "        if self.balance >= amount:\n",
    "          self.balance = self.balance - amount\n",
    "          print(\"you have withdrawn {}\".format(amount))\n",
    "          self.menu()\n",
    "        else:\n",
    "          print(\"Insufficient fund!\") \n",
    "          self.menu() \n",
    "\n",
    "\n"
   ]
  },
  {
   "cell_type": "code",
   "execution_count": 50,
   "metadata": {},
   "outputs": [
    {
     "name": "stdout",
     "output_type": "stream",
     "text": [
      "Pin Set Successfully!\n",
      "Your available balance is 200000\n"
     ]
    }
   ],
   "source": [
    "obj = Atm()"
   ]
  },
  {
   "cell_type": "markdown",
   "metadata": {},
   "source": [
    "# Function Vs Method:\n",
    "\n",
    "- Any function within class called method.\n",
    "- function >> outside >> class >> normal function. "
   ]
  },
  {
   "cell_type": "code",
   "execution_count": 5,
   "metadata": {},
   "outputs": [
    {
     "name": "stdout",
     "output_type": "stream",
     "text": [
      "<class 'list'>\n"
     ]
    }
   ],
   "source": [
    "L = [1,23,3]\n",
    "len(L) # function written outside class\n",
    "print(type(L)) #class>>list\n",
    "L.append(43) #method written within list class"
   ]
  },
  {
   "cell_type": "code",
   "execution_count": 6,
   "metadata": {},
   "outputs": [
    {
     "data": {
      "text/plain": [
       "[1, 23, 3, 43]"
      ]
     },
     "execution_count": 6,
     "metadata": {},
     "output_type": "execute_result"
    }
   ],
   "source": [
    "L"
   ]
  },
  {
   "cell_type": "markdown",
   "metadata": {},
   "source": [
    "**Class Diagram**\n",
    "\n",
    "c:\\Users\\amitt\\OneDrive\\Desktop\\class diagram .png  (Link)"
   ]
  },
  {
   "cell_type": "markdown",
   "metadata": {},
   "source": [
    "# Magic Method or Tunder Method"
   ]
  },
  {
   "cell_type": "code",
   "execution_count": 2,
   "metadata": {},
   "outputs": [
    {
     "name": "stdout",
     "output_type": "stream",
     "text": [
      "Hello\n"
     ]
    }
   ],
   "source": [
    "#Benfit of constructor(special function):\n",
    "#__init__\n",
    "#When you don't want to rely on customers\n",
    "# for execution part\n",
    "#helps to write configuration level code!\n",
    "\n",
    "class tem:\n",
    "\n",
    "    def __init__(self):\n",
    "        print(\"Hello\")\n",
    "\n",
    "obj = tem()        "
   ]
  },
  {
   "cell_type": "markdown",
   "metadata": {},
   "source": [
    "# Self\n",
    "\n",
    "- No ``matter`` what name you give in place of self even ``salman khan``"
   ]
  },
  {
   "cell_type": "markdown",
   "metadata": {},
   "source": [
    "**There is a golden rule of OOP:**\n",
    "- my method(func.inside class) not be able to interact with \n",
    "- another method in the same class\n",
    "\n",
    "- but indirectly we can make two methods within class interact with \n",
    "- each other by using a ``object`` that is ``self``\n",
    "\n",
    "---------------------------------------------------------------\n",
    "   Eg: Atm() --> Code we have written \n",
    "- def change_pin(self)\n",
    "- def change_pin() #self missing here\n",
    "\n",
    "- obj = class_name()\n",
    "\n",
    "- obj.change_pin()\n",
    "  --> inherently --> change_pin(``obj`` as arg or ``self`` as arg)\n",
    "\n",
    "- def change_pin() --> Error missing positional arg --.\n",
    "\n",
    "\n",
    "----------------------------------------------------------------\n",
    "**``Conclusion``**\n",
    "\n",
    "- For intraclass communication we need self\n",
    "\n",
    "----------------------------------------------------------------"
   ]
  },
  {
   "cell_type": "markdown",
   "metadata": {},
   "source": [
    "# Important\n",
    "- **Creating own data type**"
   ]
  },
  {
   "cell_type": "code",
   "execution_count": 56,
   "metadata": {},
   "outputs": [],
   "source": [
    "class fraction:\n",
    "\n",
    "    # parametrised constructor\n",
    "    def __init__(self,x,y):\n",
    "        self.num = x\n",
    "        self.den = y\n",
    "\n",
    "    #don't know\n",
    "    #  how fraction look like\n",
    "    # so second magic method\n",
    "    def __str__(self):# to display the visual or fraction.\n",
    "        return \"{}/{}\".format(self.num,self.den)  \n",
    "\n",
    "    #third magic method\n",
    "    # two frac.. addition logic\n",
    "    # 1/3 + 1/4\n",
    "    # 1*4 + 1*3 /3*4\n",
    "    def __add__(self,other):\n",
    "        new_num = self.num * other.den + other.num*self.den\n",
    "        new_den = self.den*other.den\n",
    "\n",
    "        return \"{}/{}\".format(new_num,new_den)\n",
    "\n",
    "    def __sub__(self,other):\n",
    "        new_num = self.num * other.den - other.num*self.den\n",
    "        new_den = self.den*other.den\n",
    "\n",
    "        return \"{}/{}\".format(new_num,new_den)   \n",
    "\n",
    "    def __mul__(self,other):\n",
    "        new_num = self.num * other.num\n",
    "        new_den = self.den*other.den\n",
    "\n",
    "        return \"{}/{}\".format(new_num,new_den) \n",
    "\n",
    "\n",
    "    def __truediv__(self,other):\n",
    "        new_num = self.num * other.den\n",
    "        new_den = self.den*other.num\n",
    "\n",
    "        return \"{}/{}\".format(new_num,new_den)        \n",
    "\n",
    "    #even can create non magic operation\n",
    "    def convert_to_decimal(self):# to display the visual or fraction.\n",
    "        return self.num/self.den  "
   ]
  },
  {
   "cell_type": "code",
   "execution_count": 57,
   "metadata": {},
   "outputs": [
    {
     "name": "stdout",
     "output_type": "stream",
     "text": [
      "3/4\n"
     ]
    }
   ],
   "source": [
    "\n",
    "fri = fraction(3,4)\n",
    "print(fri)"
   ]
  },
  {
   "cell_type": "code",
   "execution_count": 58,
   "metadata": {},
   "outputs": [],
   "source": [
    "fr1 = fraction(3,4)\n",
    "fr2 = fraction(1,2)"
   ]
  },
  {
   "cell_type": "code",
   "execution_count": 59,
   "metadata": {},
   "outputs": [
    {
     "name": "stdout",
     "output_type": "stream",
     "text": [
      "10/8\n"
     ]
    }
   ],
   "source": [
    "print(fr1+fr2)"
   ]
  },
  {
   "cell_type": "code",
   "execution_count": 60,
   "metadata": {},
   "outputs": [
    {
     "name": "stdout",
     "output_type": "stream",
     "text": [
      "2/8\n",
      "3/8\n",
      "6/4\n"
     ]
    }
   ],
   "source": [
    "print(fr1-fr2)\n",
    "print(fr1*fr2)\n",
    "print(fr1/fr2)"
   ]
  },
  {
   "cell_type": "code",
   "execution_count": 61,
   "metadata": {},
   "outputs": [
    {
     "data": {
      "text/plain": [
       "0.75"
      ]
     },
     "execution_count": 61,
     "metadata": {},
     "output_type": "execute_result"
    }
   ],
   "source": [
    "fr1.convert_to_decimal()"
   ]
  },
  {
   "cell_type": "code",
   "execution_count": null,
   "metadata": {},
   "outputs": [],
   "source": []
  }
 ],
 "metadata": {
  "kernelspec": {
   "display_name": "Python 3.8.8 ('base')",
   "language": "python",
   "name": "python3"
  },
  "language_info": {
   "codemirror_mode": {
    "name": "ipython",
    "version": 3
   },
   "file_extension": ".py",
   "mimetype": "text/x-python",
   "name": "python",
   "nbconvert_exporter": "python",
   "pygments_lexer": "ipython3",
   "version": "3.8.8"
  },
  "orig_nbformat": 4,
  "vscode": {
   "interpreter": {
    "hash": "ad2bdc8ecc057115af97d19610ffacc2b4e99fae6737bb82f5d7fb13d2f2c186"
   }
  }
 },
 "nbformat": 4,
 "nbformat_minor": 2
}

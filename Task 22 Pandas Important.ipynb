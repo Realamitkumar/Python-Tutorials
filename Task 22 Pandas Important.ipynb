{
 "cells": [
  {
   "cell_type": "code",
   "execution_count": 1,
   "id": "9484927f",
   "metadata": {},
   "outputs": [],
   "source": [
    "import pandas as pd\n",
    "import numpy as np\n",
    "import re\n",
    "\n",
    "pd.options.display.max_columns = None"
   ]
  },
  {
   "cell_type": "markdown",
   "id": "a426387a",
   "metadata": {},
   "source": [
    "### `Question-1:`\n",
    "\n",
    "The dataset is based on NFTs. This is quite large. So, when you will read the dataset, you have to wait. The link of the dataset: https://tinyurl.com/2pfhncqw\n",
    "\n",
    "Your task is to make a pivot table by using the columns \"verification_status\", \"contract_type\", \"rarity_score\" and \"last_sale_price\" to find out the total values."
   ]
  },
  {
   "cell_type": "code",
   "execution_count": 10,
   "id": "0b54793b",
   "metadata": {},
   "outputs": [],
   "source": [
    "# code here\n",
    "df = pd.read_csv('nfts_train - nfts_train.csv')"
   ]
  },
  {
   "cell_type": "code",
   "execution_count": 15,
   "id": "3b9e896e",
   "metadata": {},
   "outputs": [
    {
     "data": {
      "text/html": [
       "<div>\n",
       "<style scoped>\n",
       "    .dataframe tbody tr th:only-of-type {\n",
       "        vertical-align: middle;\n",
       "    }\n",
       "\n",
       "    .dataframe tbody tr th {\n",
       "        vertical-align: top;\n",
       "    }\n",
       "\n",
       "    .dataframe thead tr th {\n",
       "        text-align: left;\n",
       "    }\n",
       "\n",
       "    .dataframe thead tr:last-of-type th {\n",
       "        text-align: right;\n",
       "    }\n",
       "</style>\n",
       "<table border=\"1\" class=\"dataframe\">\n",
       "  <thead>\n",
       "    <tr>\n",
       "      <th></th>\n",
       "      <th colspan=\"2\" halign=\"left\">last_sale_price</th>\n",
       "      <th colspan=\"2\" halign=\"left\">rarity_score</th>\n",
       "    </tr>\n",
       "    <tr>\n",
       "      <th>contract_type</th>\n",
       "      <th>default</th>\n",
       "      <th>own</th>\n",
       "      <th>default</th>\n",
       "      <th>own</th>\n",
       "    </tr>\n",
       "    <tr>\n",
       "      <th>verification_status</th>\n",
       "      <th></th>\n",
       "      <th></th>\n",
       "      <th></th>\n",
       "      <th></th>\n",
       "    </tr>\n",
       "  </thead>\n",
       "  <tbody>\n",
       "    <tr>\n",
       "      <th>approved</th>\n",
       "      <td>658.931935</td>\n",
       "      <td>1684.819488</td>\n",
       "      <td>3.973082e+08</td>\n",
       "      <td>3.929607e+06</td>\n",
       "    </tr>\n",
       "    <tr>\n",
       "      <th>verified</th>\n",
       "      <td>370.304092</td>\n",
       "      <td>667394.862655</td>\n",
       "      <td>2.475007e+06</td>\n",
       "      <td>4.165654e+07</td>\n",
       "    </tr>\n",
       "  </tbody>\n",
       "</table>\n",
       "</div>"
      ],
      "text/plain": [
       "                    last_sale_price                 rarity_score              \n",
       "contract_type               default            own       default           own\n",
       "verification_status                                                           \n",
       "approved                 658.931935    1684.819488  3.973082e+08  3.929607e+06\n",
       "verified                 370.304092  667394.862655  2.475007e+06  4.165654e+07"
      ]
     },
     "execution_count": 15,
     "metadata": {},
     "output_type": "execute_result"
    }
   ],
   "source": [
    "df.pivot_table(index='verification_status',columns='contract_type',values=['rarity_score','last_sale_price'],aggfunc='sum')"
   ]
  },
  {
   "cell_type": "markdown",
   "id": "b845c606",
   "metadata": {},
   "source": [
    "### `Question-2:`\n",
    "\n",
    "You are given a dataset about the cars' price and miles driven of different cars throughout the different years. The link of the dataset: https://tinyurl.com/2r24n45l. Your tasks are\n",
    "- make a pivot table of the brands (the required brands are given below) from the \"Year\" 2018 to the year 2022 in which the \"Price\" is shown as average values and \"Miles\" are in median values. In this pivote table, every row represents a particular brand and each column represents either average \"Price\" of a partucular year or median values of \"Miles\" of a particular year.\n",
    "- At the end plot a kde chart for the \"Price\" and \"Miles\" by using your pivot table.\n",
    "\n",
    "There are some challenges to solve this task:\n",
    "- There is no column that is represented to the brand name of the car. You have to find out on your own.\n",
    "- Some values of \"Years\" column are misleading. You have to reset this column too that every value should tell a valid meaning."
   ]
  },
  {
   "cell_type": "code",
   "execution_count": 20,
   "id": "f43e41de",
   "metadata": {},
   "outputs": [
    {
     "data": {
      "text/html": [
       "<div>\n",
       "<style scoped>\n",
       "    .dataframe tbody tr th:only-of-type {\n",
       "        vertical-align: middle;\n",
       "    }\n",
       "\n",
       "    .dataframe tbody tr th {\n",
       "        vertical-align: top;\n",
       "    }\n",
       "\n",
       "    .dataframe thead th {\n",
       "        text-align: right;\n",
       "    }\n",
       "</style>\n",
       "<table border=\"1\" class=\"dataframe\">\n",
       "  <thead>\n",
       "    <tr style=\"text-align: right;\">\n",
       "      <th></th>\n",
       "      <th>Name</th>\n",
       "      <th>Year</th>\n",
       "      <th>Miles</th>\n",
       "      <th>Price</th>\n",
       "    </tr>\n",
       "  </thead>\n",
       "  <tbody>\n",
       "    <tr>\n",
       "      <th>0</th>\n",
       "      <td>Chevrolet Trax</td>\n",
       "      <td>2018</td>\n",
       "      <td>41946</td>\n",
       "      <td>16990</td>\n",
       "    </tr>\n",
       "    <tr>\n",
       "      <th>1</th>\n",
       "      <td>GMC Terrain</td>\n",
       "      <td>2020</td>\n",
       "      <td>45328</td>\n",
       "      <td>23990</td>\n",
       "    </tr>\n",
       "    <tr>\n",
       "      <th>2</th>\n",
       "      <td>Jeep Wrangler</td>\n",
       "      <td>2012</td>\n",
       "      <td>81068</td>\n",
       "      <td>21590</td>\n",
       "    </tr>\n",
       "    <tr>\n",
       "      <th>3</th>\n",
       "      <td>Jeep Renegade</td>\n",
       "      <td>2019</td>\n",
       "      <td>35372</td>\n",
       "      <td>21590</td>\n",
       "    </tr>\n",
       "    <tr>\n",
       "      <th>4</th>\n",
       "      <td>BMW X</td>\n",
       "      <td>20173</td>\n",
       "      <td>68992</td>\n",
       "      <td>22990</td>\n",
       "    </tr>\n",
       "  </tbody>\n",
       "</table>\n",
       "</div>"
      ],
      "text/plain": [
       "             Name   Year  Miles  Price\n",
       "0  Chevrolet Trax   2018  41946  16990\n",
       "1     GMC Terrain   2020  45328  23990\n",
       "2   Jeep Wrangler   2012  81068  21590\n",
       "3   Jeep Renegade   2019  35372  21590\n",
       "4           BMW X  20173  68992  22990"
      ]
     },
     "execution_count": 20,
     "metadata": {},
     "output_type": "execute_result"
    }
   ],
   "source": [
    "# code here\n",
    "df = pd.read_csv('carvana - carvana.csv')\n",
    "df.head()"
   ]
  },
  {
   "cell_type": "code",
   "execution_count": 27,
   "id": "b30a9902",
   "metadata": {},
   "outputs": [],
   "source": [
    "#1st problem solved\n",
    "df['brand'] = df['Name'].str.split(' ').str.get(0)"
   ]
  },
  {
   "cell_type": "code",
   "execution_count": 29,
   "id": "0184635d",
   "metadata": {},
   "outputs": [
    {
     "data": {
      "text/plain": [
       "2015"
      ]
     },
     "execution_count": 29,
     "metadata": {},
     "output_type": "execute_result"
    }
   ],
   "source": [
    "#2nd problem solved that is problem in dates\n",
    "import re\n",
    "int(re.findall(r\"\\d{4}\",str(x))[0])"
   ]
  },
  {
   "cell_type": "code",
   "execution_count": 30,
   "id": "579830b7",
   "metadata": {},
   "outputs": [],
   "source": [
    "#solved\n",
    "df['Year'] = df['Year'].apply(lambda x:int(re.findall(r\"\\d{4}\",str(x))[0]))"
   ]
  },
  {
   "cell_type": "code",
   "execution_count": 37,
   "id": "33fbbfc4",
   "metadata": {},
   "outputs": [],
   "source": [
    "pt = df.query('Year >= 2018 and Year <= 2022').pivot_table(index='brand',columns='Year',values=['Price','Miles'],aggfunc={'Price':'mean','Miles':'median'})"
   ]
  },
  {
   "cell_type": "code",
   "execution_count": 39,
   "id": "64922635",
   "metadata": {},
   "outputs": [
    {
     "data": {
      "text/plain": [
       "<AxesSubplot:ylabel='Density'>"
      ]
     },
     "execution_count": 39,
     "metadata": {},
     "output_type": "execute_result"
    },
    {
     "data": {
      "image/png": "[encoded data removed]",
      "text/plain": [
       "<Figure size 432x288 with 1 Axes>"
      ]
     },
     "metadata": {
      "needs_background": "light"
     },
     "output_type": "display_data"
    }
   ],
   "source": [
    "pt['Miles'].plot(kind='kde')"
   ]
  },
  {
   "cell_type": "code",
   "execution_count": 40,
   "id": "32a89b33",
   "metadata": {},
   "outputs": [
    {
     "data": {
      "text/plain": [
       "<AxesSubplot:ylabel='Density'>"
      ]
     },
     "execution_count": 40,
     "metadata": {},
     "output_type": "execute_result"
    },
    {
     "data": {
      "image/png": "[encoded data removed]",
      "text/plain": [
       "<Figure size 432x288 with 1 Axes>"
      ]
     },
     "metadata": {
      "needs_background": "light"
     },
     "output_type": "display_data"
    }
   ],
   "source": [
    "pt['Price'].plot(kind='kde')"
   ]
  },
  {
   "cell_type": "markdown",
   "id": "eae8ab5b",
   "metadata": {},
   "source": [
    "### `Question-3:`\n",
    "\n",
    "You are given a dataset of **Daily Power Generation in India** of regional wise of all Power Stations. Link of the dataset: https://tinyurl.com/2nq6kugt\n",
    "\n",
    "Task\n",
    "- In this dataset, there are many columns. Two of them are `Actual(MU)` and `Excess(+) / Shortfall (-)`. `Actual(MU)` represents the actual power generation. `Excess(+) / Shortfall (-)` tells is that generated power is excess or shortfall for that particular day of a power station. You have to find out what should be the actual power generation required for that day by the power stations that there would not be any excess or shorfall power. For the result, make a new column.\n",
    "- Find out the month of the day and store it as a new column.\n",
    "- Find out top 10 frequently appeared power stations in this dataframe.\n",
    "- Next create a pivot table of which every row represents a power station and every column represents a month in a order. Like January, February, March...\n",
    "- It is hard to get inside if you look through the only pivot table. So plot the pivot table."
   ]
  },
  {
   "cell_type": "code",
   "execution_count": 2,
   "id": "aa694855",
   "metadata": {},
   "outputs": [
    {
     "data": {
      "text/html": [
       "<div>\n",
       "<style scoped>\n",
       "    .dataframe tbody tr th:only-of-type {\n",
       "        vertical-align: middle;\n",
       "    }\n",
       "\n",
       "    .dataframe tbody tr th {\n",
       "        vertical-align: top;\n",
       "    }\n",
       "\n",
       "    .dataframe thead th {\n",
       "        text-align: right;\n",
       "    }\n",
       "</style>\n",
       "<table border=\"1\" class=\"dataframe\">\n",
       "  <thead>\n",
       "    <tr style=\"text-align: right;\">\n",
       "      <th></th>\n",
       "      <th>Dates</th>\n",
       "      <th>Power Station</th>\n",
       "      <th>Monitored Cap.(MW)</th>\n",
       "      <th>Total Cap. Under Maintenace (MW)</th>\n",
       "      <th>Planned Maintanence (MW)</th>\n",
       "      <th>Forced Maintanence(MW)</th>\n",
       "      <th>Other Reasons (MW)</th>\n",
       "      <th>Programme or Expected(MU)</th>\n",
       "      <th>Actual(MU)</th>\n",
       "      <th>Excess(+) / Shortfall (-)</th>\n",
       "      <th>Deviation</th>\n",
       "    </tr>\n",
       "  </thead>\n",
       "  <tbody>\n",
       "    <tr>\n",
       "      <th>0</th>\n",
       "      <td>2017-09-01</td>\n",
       "      <td>Delhi</td>\n",
       "      <td>2235.4</td>\n",
       "      <td>135.00</td>\n",
       "      <td>0.00</td>\n",
       "      <td>135.0</td>\n",
       "      <td>0</td>\n",
       "      <td>13</td>\n",
       "      <td>18</td>\n",
       "      <td>5.00</td>\n",
       "      <td>0.0</td>\n",
       "    </tr>\n",
       "    <tr>\n",
       "      <th>1</th>\n",
       "      <td>2017-09-01</td>\n",
       "      <td>Haryana</td>\n",
       "      <td>2720.0</td>\n",
       "      <td>2470.00</td>\n",
       "      <td>0.00</td>\n",
       "      <td>2470.0</td>\n",
       "      <td>0</td>\n",
       "      <td>28</td>\n",
       "      <td>7</td>\n",
       "      <td>-21.80</td>\n",
       "      <td>0.0</td>\n",
       "    </tr>\n",
       "    <tr>\n",
       "      <th>2</th>\n",
       "      <td>2017-09-01</td>\n",
       "      <td>Himachal Pradesh</td>\n",
       "      <td>3378.0</td>\n",
       "      <td>379.00</td>\n",
       "      <td>0.00</td>\n",
       "      <td>231.0</td>\n",
       "      <td>0</td>\n",
       "      <td>40</td>\n",
       "      <td>46</td>\n",
       "      <td>5.63</td>\n",
       "      <td>0.0</td>\n",
       "    </tr>\n",
       "    <tr>\n",
       "      <th>3</th>\n",
       "      <td>2017-09-01</td>\n",
       "      <td>Jammu and Kashmir</td>\n",
       "      <td>1285.0</td>\n",
       "      <td>150.00</td>\n",
       "      <td>0.00</td>\n",
       "      <td>0.0</td>\n",
       "      <td>0</td>\n",
       "      <td>14</td>\n",
       "      <td>23</td>\n",
       "      <td>9.43</td>\n",
       "      <td>0.0</td>\n",
       "    </tr>\n",
       "    <tr>\n",
       "      <th>4</th>\n",
       "      <td>2017-09-01</td>\n",
       "      <td>Punjab</td>\n",
       "      <td>3826.3</td>\n",
       "      <td>2697.65</td>\n",
       "      <td>77.65</td>\n",
       "      <td>2620.0</td>\n",
       "      <td>0</td>\n",
       "      <td>39</td>\n",
       "      <td>17</td>\n",
       "      <td>-21.69</td>\n",
       "      <td>0.0</td>\n",
       "    </tr>\n",
       "  </tbody>\n",
       "</table>\n",
       "</div>"
      ],
      "text/plain": [
       "        Dates      Power Station  Monitored Cap.(MW)  \\\n",
       "0  2017-09-01              Delhi              2235.4   \n",
       "1  2017-09-01            Haryana              2720.0   \n",
       "2  2017-09-01   Himachal Pradesh              3378.0   \n",
       "3  2017-09-01  Jammu and Kashmir              1285.0   \n",
       "4  2017-09-01             Punjab              3826.3   \n",
       "\n",
       "   Total Cap. Under Maintenace (MW)  Planned Maintanence (MW)  \\\n",
       "0                            135.00                      0.00   \n",
       "1                           2470.00                      0.00   \n",
       "2                            379.00                      0.00   \n",
       "3                            150.00                      0.00   \n",
       "4                           2697.65                     77.65   \n",
       "\n",
       "   Forced Maintanence(MW)  Other Reasons (MW)  Programme or Expected(MU)  \\\n",
       "0                   135.0                   0                         13   \n",
       "1                  2470.0                   0                         28   \n",
       "2                   231.0                   0                         40   \n",
       "3                     0.0                   0                         14   \n",
       "4                  2620.0                   0                         39   \n",
       "\n",
       "   Actual(MU)  Excess(+) / Shortfall (-)  Deviation  \n",
       "0          18                       5.00        0.0  \n",
       "1           7                     -21.80        0.0  \n",
       "2          46                       5.63        0.0  \n",
       "3          23                       9.43        0.0  \n",
       "4          17                     -21.69        0.0  "
      ]
     },
     "execution_count": 2,
     "metadata": {},
     "output_type": "execute_result"
    }
   ],
   "source": [
    "# code here\n",
    "df = pd.read_csv('PowerGeneration - PowerGeneration.csv')\n",
    "df.head()"
   ]
  },
  {
   "cell_type": "code",
   "execution_count": 63,
   "id": "e7c5bdc1",
   "metadata": {},
   "outputs": [],
   "source": [
    "#1\n",
    "df['Required'] = df['Actual(MU)']-df['Excess(+) / Shortfall (-)']"
   ]
  },
  {
   "cell_type": "code",
   "execution_count": 64,
   "id": "594285cf",
   "metadata": {},
   "outputs": [],
   "source": [
    "import datetime as dt\n",
    "df['Dates']=pd.to_datetime(df['Dates'])"
   ]
  },
  {
   "cell_type": "code",
   "execution_count": 65,
   "id": "24319866",
   "metadata": {},
   "outputs": [],
   "source": [
    "#2\n",
    "df['Month']=df['Dates'].dt.month_name()"
   ]
  },
  {
   "cell_type": "code",
   "execution_count": 66,
   "id": "7dcd0e7c",
   "metadata": {},
   "outputs": [],
   "source": [
    "#3\n",
    "top_10 = df['Power Station'].value_counts().head(10).index.to_list()\n",
    "top_10_df = df[df['Power Station'].isin(top_10)]"
   ]
  },
  {
   "cell_type": "code",
   "execution_count": 70,
   "id": "5a1547bb",
   "metadata": {},
   "outputs": [],
   "source": [
    "#4 \n",
    "pt = top_10_df.pivot_table(index='Month',columns='Power Station',values='Required',aggfunc='sum')"
   ]
  },
  {
   "cell_type": "code",
   "execution_count": 71,
   "id": "8e8c4911",
   "metadata": {},
   "outputs": [
    {
     "data": {
      "text/plain": [
       "<AxesSubplot:xlabel='Month'>"
      ]
     },
     "execution_count": 71,
     "metadata": {},
     "output_type": "execute_result"
    },
    {
     "data": {
      "image/png": "[encoded data removed]",
      "text/plain": [
       "<Figure size 432x288 with 1 Axes>"
      ]
     },
     "metadata": {
      "needs_background": "light"
     },
     "output_type": "display_data"
    }
   ],
   "source": [
    "pt.plot(kind='line')"
   ]
  },
  {
   "cell_type": "markdown",
   "id": "611c6818",
   "metadata": {},
   "source": [
    "###`Q-4` You are given a file `question-answer.csv`. Your task is to make a dataframe from it with two columns - `question` and `answers`.\n",
    "\n",
    "* Questions in the file start from `Q<number>`; E.g.  `Q1` denotes question no. `1`\n",
    "* Answers starts from `Ans<number>`; Eg. `Ans1` denotes answer of question no `1`\n",
    "* MAke sure you look at columns name carefully\n",
    "\n",
    "CSV File - \"https://drive.google.com/file/d/10rmV3XrVtzpDTtYZF3UtCdcU0ajBJjGY/view?usp=share_link\""
   ]
  },
  {
   "cell_type": "code",
   "execution_count": 134,
   "id": "17bcd112",
   "metadata": {},
   "outputs": [],
   "source": [
    "# code here\n",
    "df = pd.read_csv(\"question-answer.csv\")"
   ]
  },
  {
   "cell_type": "code",
   "execution_count": 146,
   "id": "b87cbab1",
   "metadata": {},
   "outputs": [
    {
     "data": {
      "text/html": [
       "<div>\n",
       "<style scoped>\n",
       "    .dataframe tbody tr th:only-of-type {\n",
       "        vertical-align: middle;\n",
       "    }\n",
       "\n",
       "    .dataframe tbody tr th {\n",
       "        vertical-align: top;\n",
       "    }\n",
       "\n",
       "    .dataframe thead th {\n",
       "        text-align: right;\n",
       "    }\n",
       "</style>\n",
       "<table border=\"1\" class=\"dataframe\">\n",
       "  <thead>\n",
       "    <tr style=\"text-align: right;\">\n",
       "      <th></th>\n",
       "      <th>index</th>\n",
       "      <th>2</th>\n",
       "    </tr>\n",
       "  </thead>\n",
       "  <tbody>\n",
       "    <tr>\n",
       "      <th>0</th>\n",
       "      <td>0</td>\n",
       "      <td>What is Data Science?</td>\n",
       "    </tr>\n",
       "    <tr>\n",
       "      <th>1</th>\n",
       "      <td>2</td>\n",
       "      <td>2. How is logistic regression done?</td>\n",
       "    </tr>\n",
       "    <tr>\n",
       "      <th>2</th>\n",
       "      <td>4</td>\n",
       "      <td>How do you build a random forest model?</td>\n",
       "    </tr>\n",
       "    <tr>\n",
       "      <th>3</th>\n",
       "      <td>6</td>\n",
       "      <td>How can you avoid overfitting your model?</td>\n",
       "    </tr>\n",
       "    <tr>\n",
       "      <th>4</th>\n",
       "      <td>8</td>\n",
       "      <td>You are given a data set consisting of variabl...</td>\n",
       "    </tr>\n",
       "    <tr>\n",
       "      <th>5</th>\n",
       "      <td>10</td>\n",
       "      <td>What is bag of words? How we can use it for te...</td>\n",
       "    </tr>\n",
       "    <tr>\n",
       "      <th>6</th>\n",
       "      <td>12</td>\n",
       "      <td>How can we use machine learning for text class...</td>\n",
       "    </tr>\n",
       "    <tr>\n",
       "      <th>7</th>\n",
       "      <td>14</td>\n",
       "      <td>What is a time series?</td>\n",
       "    </tr>\n",
       "    <tr>\n",
       "      <th>8</th>\n",
       "      <td>16</td>\n",
       "      <td>How is time series different from the usual re...</td>\n",
       "    </tr>\n",
       "    <tr>\n",
       "      <th>9</th>\n",
       "      <td>18</td>\n",
       "      <td>What are the different types of joins? What ar...</td>\n",
       "    </tr>\n",
       "  </tbody>\n",
       "</table>\n",
       "</div>"
      ],
      "text/plain": [
       "   index                                                  2\n",
       "0      0                              What is Data Science?\n",
       "1      2                2. How is logistic regression done?\n",
       "2      4            How do you build a random forest model?\n",
       "3      6          How can you avoid overfitting your model?\n",
       "4      8  You are given a data set consisting of variabl...\n",
       "5     10  What is bag of words? How we can use it for te...\n",
       "6     12  How can we use machine learning for text class...\n",
       "7     14                             What is a time series?\n",
       "8     16  How is time series different from the usual re...\n",
       "9     18  What are the different types of joins? What ar..."
      ]
     },
     "execution_count": 146,
     "metadata": {},
     "output_type": "execute_result"
    }
   ],
   "source": [
    "question = df[df['2'].str.startswith(\"Q\")]\n",
    "question = question['2'].str.split(\"-\").str.get(1).reset_index()\n",
    "question"
   ]
  },
  {
   "cell_type": "code",
   "execution_count": 151,
   "id": "823c2feb",
   "metadata": {},
   "outputs": [
    {
     "data": {
      "text/html": [
       "<div>\n",
       "<style scoped>\n",
       "    .dataframe tbody tr th:only-of-type {\n",
       "        vertical-align: middle;\n",
       "    }\n",
       "\n",
       "    .dataframe tbody tr th {\n",
       "        vertical-align: top;\n",
       "    }\n",
       "\n",
       "    .dataframe thead th {\n",
       "        text-align: right;\n",
       "    }\n",
       "</style>\n",
       "<table border=\"1\" class=\"dataframe\">\n",
       "  <thead>\n",
       "    <tr style=\"text-align: right;\">\n",
       "      <th></th>\n",
       "      <th>index</th>\n",
       "      <th>2</th>\n",
       "    </tr>\n",
       "  </thead>\n",
       "  <tbody>\n",
       "    <tr>\n",
       "      <th>0</th>\n",
       "      <td>1</td>\n",
       "      <td>Data Science combines statistics, maths, speci...</td>\n",
       "    </tr>\n",
       "    <tr>\n",
       "      <th>1</th>\n",
       "      <td>3</td>\n",
       "      <td>Logistic regression measures the relationship ...</td>\n",
       "    </tr>\n",
       "    <tr>\n",
       "      <th>2</th>\n",
       "      <td>5</td>\n",
       "      <td>A random forest is built up of a number of dec...</td>\n",
       "    </tr>\n",
       "    <tr>\n",
       "      <th>3</th>\n",
       "      <td>7</td>\n",
       "      <td>Overfitting refers to a model that is only set...</td>\n",
       "    </tr>\n",
       "    <tr>\n",
       "      <th>4</th>\n",
       "      <td>9</td>\n",
       "      <td>The following are ways to handle missing data ...</td>\n",
       "    </tr>\n",
       "    <tr>\n",
       "      <th>5</th>\n",
       "      <td>11</td>\n",
       "      <td>Bag of Words is a representation of text that ...</td>\n",
       "    </tr>\n",
       "    <tr>\n",
       "      <th>6</th>\n",
       "      <td>13</td>\n",
       "      <td>Machine learning classification algorithms pre...</td>\n",
       "    </tr>\n",
       "    <tr>\n",
       "      <th>7</th>\n",
       "      <td>15</td>\n",
       "      <td>A time series is a set of observations ordered...</td>\n",
       "    </tr>\n",
       "    <tr>\n",
       "      <th>8</th>\n",
       "      <td>17</td>\n",
       "      <td>The principle behind causal forecasting is tha...</td>\n",
       "    </tr>\n",
       "    <tr>\n",
       "      <th>9</th>\n",
       "      <td>19</td>\n",
       "      <td>(INNER) JOIN: Returns records that have matchi...</td>\n",
       "    </tr>\n",
       "  </tbody>\n",
       "</table>\n",
       "</div>"
      ],
      "text/plain": [
       "   index                                                  2\n",
       "0      1  Data Science combines statistics, maths, speci...\n",
       "1      3  Logistic regression measures the relationship ...\n",
       "2      5  A random forest is built up of a number of dec...\n",
       "3      7  Overfitting refers to a model that is only set...\n",
       "4      9  The following are ways to handle missing data ...\n",
       "5     11  Bag of Words is a representation of text that ...\n",
       "6     13  Machine learning classification algorithms pre...\n",
       "7     15  A time series is a set of observations ordered...\n",
       "8     17  The principle behind causal forecasting is tha...\n",
       "9     19  (INNER) JOIN: Returns records that have matchi..."
      ]
     },
     "execution_count": 151,
     "metadata": {},
     "output_type": "execute_result"
    }
   ],
   "source": [
    "answer = df[df['2'].str.startswith(\"Ans\")]\n",
    "ans = answer['2'].str.split('-').str.get(1).reset_index()\n",
    "ans"
   ]
  },
  {
   "cell_type": "code",
   "execution_count": 158,
   "id": "721d984d",
   "metadata": {},
   "outputs": [],
   "source": [
    "newdf = question.merge(ans,left_index=True,right_index=True)"
   ]
  },
  {
   "cell_type": "code",
   "execution_count": 159,
   "id": "2d1bc907",
   "metadata": {},
   "outputs": [],
   "source": [
    "newdf.drop(columns=['index_x','index_y'],inplace=True)"
   ]
  },
  {
   "cell_type": "code",
   "execution_count": 161,
   "id": "3255221b",
   "metadata": {},
   "outputs": [],
   "source": [
    "newdf.rename(columns={'2_x':'Questions',\"2_y\":'Answers'},inplace=True)"
   ]
  },
  {
   "cell_type": "code",
   "execution_count": 163,
   "id": "aad34bda",
   "metadata": {},
   "outputs": [
    {
     "data": {
      "text/html": [
       "<div>\n",
       "<style scoped>\n",
       "    .dataframe tbody tr th:only-of-type {\n",
       "        vertical-align: middle;\n",
       "    }\n",
       "\n",
       "    .dataframe tbody tr th {\n",
       "        vertical-align: top;\n",
       "    }\n",
       "\n",
       "    .dataframe thead th {\n",
       "        text-align: right;\n",
       "    }\n",
       "</style>\n",
       "<table border=\"1\" class=\"dataframe\">\n",
       "  <thead>\n",
       "    <tr style=\"text-align: right;\">\n",
       "      <th></th>\n",
       "      <th>Questions</th>\n",
       "      <th>Answers</th>\n",
       "    </tr>\n",
       "  </thead>\n",
       "  <tbody>\n",
       "    <tr>\n",
       "      <th>0</th>\n",
       "      <td>What is Data Science?</td>\n",
       "      <td>Data Science combines statistics, maths, speci...</td>\n",
       "    </tr>\n",
       "    <tr>\n",
       "      <th>1</th>\n",
       "      <td>2. How is logistic regression done?</td>\n",
       "      <td>Logistic regression measures the relationship ...</td>\n",
       "    </tr>\n",
       "    <tr>\n",
       "      <th>2</th>\n",
       "      <td>How do you build a random forest model?</td>\n",
       "      <td>A random forest is built up of a number of dec...</td>\n",
       "    </tr>\n",
       "    <tr>\n",
       "      <th>3</th>\n",
       "      <td>How can you avoid overfitting your model?</td>\n",
       "      <td>Overfitting refers to a model that is only set...</td>\n",
       "    </tr>\n",
       "    <tr>\n",
       "      <th>4</th>\n",
       "      <td>You are given a data set consisting of variabl...</td>\n",
       "      <td>The following are ways to handle missing data ...</td>\n",
       "    </tr>\n",
       "    <tr>\n",
       "      <th>5</th>\n",
       "      <td>What is bag of words? How we can use it for te...</td>\n",
       "      <td>Bag of Words is a representation of text that ...</td>\n",
       "    </tr>\n",
       "    <tr>\n",
       "      <th>6</th>\n",
       "      <td>How can we use machine learning for text class...</td>\n",
       "      <td>Machine learning classification algorithms pre...</td>\n",
       "    </tr>\n",
       "    <tr>\n",
       "      <th>7</th>\n",
       "      <td>What is a time series?</td>\n",
       "      <td>A time series is a set of observations ordered...</td>\n",
       "    </tr>\n",
       "    <tr>\n",
       "      <th>8</th>\n",
       "      <td>How is time series different from the usual re...</td>\n",
       "      <td>The principle behind causal forecasting is tha...</td>\n",
       "    </tr>\n",
       "    <tr>\n",
       "      <th>9</th>\n",
       "      <td>What are the different types of joins? What ar...</td>\n",
       "      <td>(INNER) JOIN: Returns records that have matchi...</td>\n",
       "    </tr>\n",
       "  </tbody>\n",
       "</table>\n",
       "</div>"
      ],
      "text/plain": [
       "                                           Questions  \\\n",
       "0                              What is Data Science?   \n",
       "1                2. How is logistic regression done?   \n",
       "2            How do you build a random forest model?   \n",
       "3          How can you avoid overfitting your model?   \n",
       "4  You are given a data set consisting of variabl...   \n",
       "5  What is bag of words? How we can use it for te...   \n",
       "6  How can we use machine learning for text class...   \n",
       "7                             What is a time series?   \n",
       "8  How is time series different from the usual re...   \n",
       "9  What are the different types of joins? What ar...   \n",
       "\n",
       "                                             Answers  \n",
       "0  Data Science combines statistics, maths, speci...  \n",
       "1  Logistic regression measures the relationship ...  \n",
       "2  A random forest is built up of a number of dec...  \n",
       "3  Overfitting refers to a model that is only set...  \n",
       "4  The following are ways to handle missing data ...  \n",
       "5  Bag of Words is a representation of text that ...  \n",
       "6  Machine learning classification algorithms pre...  \n",
       "7  A time series is a set of observations ordered...  \n",
       "8  The principle behind causal forecasting is tha...  \n",
       "9  (INNER) JOIN: Returns records that have matchi...  "
      ]
     },
     "execution_count": 163,
     "metadata": {},
     "output_type": "execute_result"
    }
   ],
   "source": [
    "# final result\n",
    "newdf"
   ]
  },
  {
   "cell_type": "markdown",
   "id": "837bc53d",
   "metadata": {},
   "source": [
    "# `Q-5`: Print Question and answer of those questions which does not contains any question mark (`?`).\n"
   ]
  },
  {
   "cell_type": "code",
   "execution_count": 168,
   "id": "6e6e8158",
   "metadata": {},
   "outputs": [
    {
     "data": {
      "text/html": [
       "<div>\n",
       "<style scoped>\n",
       "    .dataframe tbody tr th:only-of-type {\n",
       "        vertical-align: middle;\n",
       "    }\n",
       "\n",
       "    .dataframe tbody tr th {\n",
       "        vertical-align: top;\n",
       "    }\n",
       "\n",
       "    .dataframe thead th {\n",
       "        text-align: right;\n",
       "    }\n",
       "</style>\n",
       "<table border=\"1\" class=\"dataframe\">\n",
       "  <thead>\n",
       "    <tr style=\"text-align: right;\">\n",
       "      <th></th>\n",
       "      <th>Questions</th>\n",
       "      <th>Answers</th>\n",
       "    </tr>\n",
       "  </thead>\n",
       "  <tbody>\n",
       "  </tbody>\n",
       "</table>\n",
       "</div>"
      ],
      "text/plain": [
       "Empty DataFrame\n",
       "Columns: [Questions, Answers]\n",
       "Index: []"
      ]
     },
     "execution_count": 168,
     "metadata": {},
     "output_type": "execute_result"
    }
   ],
   "source": [
    "newdf[~ newdf['Questions'].str.endswith(\"?\")]"
   ]
  },
  {
   "cell_type": "code",
   "execution_count": 169,
   "id": "1e0ee572",
   "metadata": {},
   "outputs": [
    {
     "data": {
      "text/html": [
       "<div>\n",
       "<style scoped>\n",
       "    .dataframe tbody tr th:only-of-type {\n",
       "        vertical-align: middle;\n",
       "    }\n",
       "\n",
       "    .dataframe tbody tr th {\n",
       "        vertical-align: top;\n",
       "    }\n",
       "\n",
       "    .dataframe thead th {\n",
       "        text-align: right;\n",
       "    }\n",
       "</style>\n",
       "<table border=\"1\" class=\"dataframe\">\n",
       "  <thead>\n",
       "    <tr style=\"text-align: right;\">\n",
       "      <th></th>\n",
       "      <th>Questions</th>\n",
       "      <th>Answers</th>\n",
       "    </tr>\n",
       "  </thead>\n",
       "  <tbody>\n",
       "  </tbody>\n",
       "</table>\n",
       "</div>"
      ],
      "text/plain": [
       "Empty DataFrame\n",
       "Columns: [Questions, Answers]\n",
       "Index: []"
      ]
     },
     "execution_count": 169,
     "metadata": {},
     "output_type": "execute_result"
    }
   ],
   "source": [
    "# or using regex pattern \n",
    "newdf[~newdf['Questions'].str.contains('\\?')]"
   ]
  },
  {
   "cell_type": "markdown",
   "id": "6797a8b1",
   "metadata": {},
   "source": [
    "###`Q 6-10` LOG and EMPLOYEE \n",
    "\n",
    "6. Show `activity` details month wise. Show count for each `activity` \n",
    "7. Find employee who did most `activity` in January month.\n",
    "8. Employee who have worked most no of times on Weekends.\n",
    "9. Which activity is logged most on buisness days.\n",
    "10. Week Days wise activity table.\n",
    "\n",
    "```\n",
    "log_file = pd.read_csv(\"https://docs.google.com/spreadsheets/d/e/2PACX-1vT-OMrmmNdOTM-B5f5F1EpCutMVG230UZiLvqlsg0NIKUKR3yrqiI2r1pEX-LvSEk-3WwySPYtvbBC-/pub?gid=1937029224&single=true&output=csv\")\n",
    "employee = pd.read_csv(\"https://docs.google.com/spreadsheets/d/e/2PACX-1vQ5AuFqRjSZVBKm5zyDxquX6utubq1DJKkYDI70vjeidAnyAu70KMSYpMYzeVSNVTeUIJBpfF6jU5E6/pub?gid=798824749&single=true&output=csv\")\n",
    "\n",
    "```\n",
    "\n",
    "Note(for common field):- Employee file has `EMPLOYEE_ID` and LOG file has `emp_id`"
   ]
  },
  {
   "cell_type": "code",
   "execution_count": 170,
   "id": "b2511823",
   "metadata": {},
   "outputs": [],
   "source": [
    "# code here\n",
    "log_file = pd.read_csv(\"https://docs.google.com/spreadsheets/d/e/2PACX-1vT-OMrmmNdOTM-B5f5F1EpCutMVG230UZiLvqlsg0NIKUKR3yrqiI2r1pEX-LvSEk-3WwySPYtvbBC-/pub?gid=1937029224&single=true&output=csv\")\n",
    "employee = pd.read_csv(\"https://docs.google.com/spreadsheets/d/e/2PACX-1vQ5AuFqRjSZVBKm5zyDxquX6utubq1DJKkYDI70vjeidAnyAu70KMSYpMYzeVSNVTeUIJBpfF6jU5E6/pub?gid=798824749&single=true&output=csv\")"
   ]
  },
  {
   "cell_type": "code",
   "execution_count": 176,
   "id": "9e9d0982",
   "metadata": {},
   "outputs": [],
   "source": [
    "\n",
    "import datetime as dt\n",
    "log_file['dt']=pd.to_datetime(log_file.dt)"
   ]
  },
  {
   "cell_type": "code",
   "execution_count": 182,
   "id": "b43c2277",
   "metadata": {},
   "outputs": [],
   "source": [
    "#6\n",
    "log_file['months']=log_file.dt.dt.month_name()"
   ]
  },
  {
   "cell_type": "code",
   "execution_count": 191,
   "id": "c03a2692",
   "metadata": {},
   "outputs": [
    {
     "data": {
      "text/html": [
       "<div>\n",
       "<style scoped>\n",
       "    .dataframe tbody tr th:only-of-type {\n",
       "        vertical-align: middle;\n",
       "    }\n",
       "\n",
       "    .dataframe tbody tr th {\n",
       "        vertical-align: top;\n",
       "    }\n",
       "\n",
       "    .dataframe thead th {\n",
       "        text-align: right;\n",
       "    }\n",
       "</style>\n",
       "<table border=\"1\" class=\"dataframe\">\n",
       "  <thead>\n",
       "    <tr style=\"text-align: right;\">\n",
       "      <th>activity</th>\n",
       "      <th>Checking</th>\n",
       "      <th>Cleaning</th>\n",
       "      <th>Inspection</th>\n",
       "      <th>Repair</th>\n",
       "    </tr>\n",
       "    <tr>\n",
       "      <th>months</th>\n",
       "      <th></th>\n",
       "      <th></th>\n",
       "      <th></th>\n",
       "      <th></th>\n",
       "    </tr>\n",
       "  </thead>\n",
       "  <tbody>\n",
       "    <tr>\n",
       "      <th>April</th>\n",
       "      <td>5</td>\n",
       "      <td>11</td>\n",
       "      <td>9</td>\n",
       "      <td>5</td>\n",
       "    </tr>\n",
       "    <tr>\n",
       "      <th>August</th>\n",
       "      <td>8</td>\n",
       "      <td>10</td>\n",
       "      <td>9</td>\n",
       "      <td>4</td>\n",
       "    </tr>\n",
       "    <tr>\n",
       "      <th>December</th>\n",
       "      <td>6</td>\n",
       "      <td>7</td>\n",
       "      <td>12</td>\n",
       "      <td>6</td>\n",
       "    </tr>\n",
       "    <tr>\n",
       "      <th>February</th>\n",
       "      <td>7</td>\n",
       "      <td>7</td>\n",
       "      <td>4</td>\n",
       "      <td>10</td>\n",
       "    </tr>\n",
       "    <tr>\n",
       "      <th>January</th>\n",
       "      <td>7</td>\n",
       "      <td>10</td>\n",
       "      <td>9</td>\n",
       "      <td>5</td>\n",
       "    </tr>\n",
       "    <tr>\n",
       "      <th>July</th>\n",
       "      <td>6</td>\n",
       "      <td>6</td>\n",
       "      <td>14</td>\n",
       "      <td>5</td>\n",
       "    </tr>\n",
       "    <tr>\n",
       "      <th>June</th>\n",
       "      <td>5</td>\n",
       "      <td>7</td>\n",
       "      <td>8</td>\n",
       "      <td>10</td>\n",
       "    </tr>\n",
       "    <tr>\n",
       "      <th>March</th>\n",
       "      <td>8</td>\n",
       "      <td>6</td>\n",
       "      <td>5</td>\n",
       "      <td>12</td>\n",
       "    </tr>\n",
       "    <tr>\n",
       "      <th>May</th>\n",
       "      <td>5</td>\n",
       "      <td>8</td>\n",
       "      <td>7</td>\n",
       "      <td>11</td>\n",
       "    </tr>\n",
       "    <tr>\n",
       "      <th>November</th>\n",
       "      <td>8</td>\n",
       "      <td>9</td>\n",
       "      <td>6</td>\n",
       "      <td>7</td>\n",
       "    </tr>\n",
       "    <tr>\n",
       "      <th>October</th>\n",
       "      <td>13</td>\n",
       "      <td>4</td>\n",
       "      <td>5</td>\n",
       "      <td>9</td>\n",
       "    </tr>\n",
       "    <tr>\n",
       "      <th>September</th>\n",
       "      <td>8</td>\n",
       "      <td>3</td>\n",
       "      <td>12</td>\n",
       "      <td>7</td>\n",
       "    </tr>\n",
       "  </tbody>\n",
       "</table>\n",
       "</div>"
      ],
      "text/plain": [
       "activity   Checking  Cleaning  Inspection  Repair\n",
       "months                                           \n",
       "April             5        11           9       5\n",
       "August            8        10           9       4\n",
       "December          6         7          12       6\n",
       "February          7         7           4      10\n",
       "January           7        10           9       5\n",
       "July              6         6          14       5\n",
       "June              5         7           8      10\n",
       "March             8         6           5      12\n",
       "May               5         8           7      11\n",
       "November          8         9           6       7\n",
       "October          13         4           5       9\n",
       "September         8         3          12       7"
      ]
     },
     "execution_count": 191,
     "metadata": {},
     "output_type": "execute_result"
    }
   ],
   "source": [
    "log_file.pivot_table(index='months',columns='activity',aggfunc='count')['Log_ID']"
   ]
  },
  {
   "cell_type": "code",
   "execution_count": 196,
   "id": "3f46d87a",
   "metadata": {},
   "outputs": [
    {
     "data": {
      "text/plain": [
       "122    3\n",
       "112    2\n",
       "102    2\n",
       "135    2\n",
       "120    2\n",
       "116    2\n",
       "143    2\n",
       "128    1\n",
       "124    1\n",
       "119    1\n",
       "Name: emp_id, dtype: int64"
      ]
     },
     "execution_count": 196,
     "metadata": {},
     "output_type": "execute_result"
    }
   ],
   "source": [
    "#7\n",
    "#employee who did most activity in January month.\n",
    "log_file.query('months == \"January\"')['emp_id'].value_counts().head(10)"
   ]
  },
  {
   "cell_type": "code",
   "execution_count": 214,
   "id": "9c159cfc",
   "metadata": {},
   "outputs": [
    {
     "data": {
      "text/plain": [
       "144    6\n",
       "Name: emp_id, dtype: int64"
      ]
     },
     "execution_count": 214,
     "metadata": {},
     "output_type": "execute_result"
    }
   ],
   "source": [
    "#8\n",
    "#Employee who have worked most no of times on Weekends\n",
    "log_file[log_file.dt.dt.day_of_week > 4 ]['emp_id'].value_counts().head(1)"
   ]
  },
  {
   "cell_type": "code",
   "execution_count": 215,
   "id": "1b462fb9",
   "metadata": {},
   "outputs": [
    {
     "data": {
      "text/plain": [
       "Inspection    57\n",
       "Name: activity, dtype: int64"
      ]
     },
     "execution_count": 215,
     "metadata": {},
     "output_type": "execute_result"
    }
   ],
   "source": [
    "#9\n",
    "log_file[log_file.dt.dt.day_of_week < 4 ]['activity'].value_counts().head(1)"
   ]
  },
  {
   "cell_type": "code",
   "execution_count": 216,
   "id": "23a1c439",
   "metadata": {},
   "outputs": [],
   "source": [
    "#10\n",
    "log_file['day'] = log_file['dt'].dt.day_name()"
   ]
  },
  {
   "cell_type": "code",
   "execution_count": 218,
   "id": "124775fb",
   "metadata": {},
   "outputs": [
    {
     "data": {
      "text/html": [
       "<div>\n",
       "<style scoped>\n",
       "    .dataframe tbody tr th:only-of-type {\n",
       "        vertical-align: middle;\n",
       "    }\n",
       "\n",
       "    .dataframe tbody tr th {\n",
       "        vertical-align: top;\n",
       "    }\n",
       "\n",
       "    .dataframe thead th {\n",
       "        text-align: right;\n",
       "    }\n",
       "</style>\n",
       "<table border=\"1\" class=\"dataframe\">\n",
       "  <thead>\n",
       "    <tr style=\"text-align: right;\">\n",
       "      <th>activity</th>\n",
       "      <th>Checking</th>\n",
       "      <th>Cleaning</th>\n",
       "      <th>Inspection</th>\n",
       "      <th>Repair</th>\n",
       "    </tr>\n",
       "    <tr>\n",
       "      <th>day</th>\n",
       "      <th></th>\n",
       "      <th></th>\n",
       "      <th></th>\n",
       "      <th></th>\n",
       "    </tr>\n",
       "  </thead>\n",
       "  <tbody>\n",
       "    <tr>\n",
       "      <th>Friday</th>\n",
       "      <td>8</td>\n",
       "      <td>16</td>\n",
       "      <td>20</td>\n",
       "      <td>9</td>\n",
       "    </tr>\n",
       "    <tr>\n",
       "      <th>Monday</th>\n",
       "      <td>10</td>\n",
       "      <td>14</td>\n",
       "      <td>13</td>\n",
       "      <td>15</td>\n",
       "    </tr>\n",
       "    <tr>\n",
       "      <th>Saturday</th>\n",
       "      <td>18</td>\n",
       "      <td>11</td>\n",
       "      <td>8</td>\n",
       "      <td>15</td>\n",
       "    </tr>\n",
       "    <tr>\n",
       "      <th>Sunday</th>\n",
       "      <td>13</td>\n",
       "      <td>13</td>\n",
       "      <td>15</td>\n",
       "      <td>11</td>\n",
       "    </tr>\n",
       "    <tr>\n",
       "      <th>Thursday</th>\n",
       "      <td>8</td>\n",
       "      <td>16</td>\n",
       "      <td>16</td>\n",
       "      <td>12</td>\n",
       "    </tr>\n",
       "    <tr>\n",
       "      <th>Tuesday</th>\n",
       "      <td>15</td>\n",
       "      <td>9</td>\n",
       "      <td>15</td>\n",
       "      <td>13</td>\n",
       "    </tr>\n",
       "    <tr>\n",
       "      <th>Wednesday</th>\n",
       "      <td>14</td>\n",
       "      <td>9</td>\n",
       "      <td>13</td>\n",
       "      <td>16</td>\n",
       "    </tr>\n",
       "  </tbody>\n",
       "</table>\n",
       "</div>"
      ],
      "text/plain": [
       "activity   Checking  Cleaning  Inspection  Repair\n",
       "day                                              \n",
       "Friday            8        16          20       9\n",
       "Monday           10        14          13      15\n",
       "Saturday         18        11           8      15\n",
       "Sunday           13        13          15      11\n",
       "Thursday          8        16          16      12\n",
       "Tuesday          15         9          15      13\n",
       "Wednesday        14         9          13      16"
      ]
     },
     "execution_count": 218,
     "metadata": {},
     "output_type": "execute_result"
    }
   ],
   "source": [
    "log_file.pivot_table(index='day',columns='activity',aggfunc='count')['Log_ID']"
   ]
  },
  {
   "cell_type": "markdown",
   "id": "343cee03",
   "metadata": {},
   "source": [
    "### `Q-11`:\n",
    "\n",
    "1. There are missing value in first name of employee. Fill it using email and last name field.\n",
    "\n",
    "> E.g- `email` -> JMURMAN and `last_name` -> 'Urman' -> so make it's first name as 'JM', Sort of (Email- lastname). \n",
    "\n",
    "> Email is constructed from initials of first name concate with lastname. Your Task is to fill first name initials in missing data.\n",
    "\n",
    "2. You can see email field don't have any domain name. Change this to full email addreess with domain as 'campusx.com'.\n",
    "E.g- Email field -> `JMURMAN`  result -> `JMURMAN@CAMPUSX.COM`\n",
    "\n",
    "3. Show Full Name of all the employees whose name starts with 'A' and has done any of these activity ['Incpection', 'Cleaning', 'Checking]"
   ]
  },
  {
   "cell_type": "code",
   "execution_count": 219,
   "id": "96da33fb",
   "metadata": {},
   "outputs": [],
   "source": [
    "# code here\n",
    "employee = pd.read_csv(\"https://docs.google.com/spreadsheets/d/e/2PACX-1vQ5AuFqRjSZVBKm5zyDxquX6utubq1DJKkYDI70vjeidAnyAu70KMSYpMYzeVSNVTeUIJBpfF6jU5E6/pub?gid=798824749&single=true&output=csv\")"
   ]
  },
  {
   "cell_type": "code",
   "execution_count": 230,
   "id": "92aba657",
   "metadata": {},
   "outputs": [],
   "source": [
    "fill_values = employee[employee['FIRST_NAME'].isnull()].apply(lambda x:x['EMAIL'][0] + x['LAST_NAME'][0],axis=1)"
   ]
  },
  {
   "cell_type": "code",
   "execution_count": 231,
   "id": "9b54addd",
   "metadata": {},
   "outputs": [],
   "source": [
    "employee['FIRST_NAME'].fillna(fill_values,inplace=True)"
   ]
  },
  {
   "cell_type": "code",
   "execution_count": 233,
   "id": "82714053",
   "metadata": {},
   "outputs": [
    {
     "data": {
      "text/html": [
       "<div>\n",
       "<style scoped>\n",
       "    .dataframe tbody tr th:only-of-type {\n",
       "        vertical-align: middle;\n",
       "    }\n",
       "\n",
       "    .dataframe tbody tr th {\n",
       "        vertical-align: top;\n",
       "    }\n",
       "\n",
       "    .dataframe thead th {\n",
       "        text-align: right;\n",
       "    }\n",
       "</style>\n",
       "<table border=\"1\" class=\"dataframe\">\n",
       "  <thead>\n",
       "    <tr style=\"text-align: right;\">\n",
       "      <th></th>\n",
       "      <th>EMPLOYEE_ID</th>\n",
       "      <th>FIRST_NAME</th>\n",
       "      <th>LAST_NAME</th>\n",
       "      <th>EMAIL</th>\n",
       "    </tr>\n",
       "  </thead>\n",
       "  <tbody>\n",
       "    <tr>\n",
       "      <th>0</th>\n",
       "      <td>100</td>\n",
       "      <td>Steven</td>\n",
       "      <td>King</td>\n",
       "      <td>SKING</td>\n",
       "    </tr>\n",
       "    <tr>\n",
       "      <th>1</th>\n",
       "      <td>101</td>\n",
       "      <td>Neena</td>\n",
       "      <td>Kochhar</td>\n",
       "      <td>NKOCHHAR</td>\n",
       "    </tr>\n",
       "    <tr>\n",
       "      <th>2</th>\n",
       "      <td>102</td>\n",
       "      <td>Lex</td>\n",
       "      <td>De Haan</td>\n",
       "      <td>LDEHAAN</td>\n",
       "    </tr>\n",
       "  </tbody>\n",
       "</table>\n",
       "</div>"
      ],
      "text/plain": [
       "   EMPLOYEE_ID FIRST_NAME LAST_NAME     EMAIL\n",
       "0          100     Steven      King     SKING\n",
       "1          101      Neena   Kochhar  NKOCHHAR\n",
       "2          102        Lex   De Haan   LDEHAAN"
      ]
     },
     "execution_count": 233,
     "metadata": {},
     "output_type": "execute_result"
    }
   ],
   "source": [
    "employee.head(3)"
   ]
  },
  {
   "cell_type": "code",
   "execution_count": 236,
   "id": "94c4cfcb",
   "metadata": {},
   "outputs": [],
   "source": [
    "employee['EMAIL']=employee['EMAIL'] + \"@campusx.com\""
   ]
  },
  {
   "cell_type": "code",
   "execution_count": 240,
   "id": "0cebdc22",
   "metadata": {},
   "outputs": [],
   "source": [
    "temp_df = log_file[log_file['activity'].isin(['Inception','Cleaning','Checking'])]"
   ]
  },
  {
   "cell_type": "code",
   "execution_count": 242,
   "id": "bdf1eea0",
   "metadata": {},
   "outputs": [],
   "source": [
    "x_df = temp_df.merge(employee,right_on='EMPLOYEE_ID',left_on='emp_id')"
   ]
  },
  {
   "cell_type": "code",
   "execution_count": 245,
   "id": "8a67ec44",
   "metadata": {},
   "outputs": [],
   "source": [
    "x_df = x_df[x_df['FIRST_NAME'].str.startswith(\"A\")]"
   ]
  },
  {
   "cell_type": "code",
   "execution_count": 247,
   "id": "b19c6188",
   "metadata": {},
   "outputs": [
    {
     "data": {
      "text/plain": [
       "array(['Alexander Khoo', 'Alexander Hunold'], dtype=object)"
      ]
     },
     "execution_count": 247,
     "metadata": {},
     "output_type": "execute_result"
    }
   ],
   "source": [
    "(x_df['FIRST_NAME'] + \" \" + x_df['LAST_NAME']).unique()"
   ]
  }
 ],
 "metadata": {
  "kernelspec": {
   "display_name": "Python 3",
   "language": "python",
   "name": "python3"
  },
  "language_info": {
   "codemirror_mode": {
    "name": "ipython",
    "version": 3
   },
   "file_extension": ".py",
   "mimetype": "text/x-python",
   "name": "python",
   "nbconvert_exporter": "python",
   "pygments_lexer": "ipython3",
   "version": "3.8.8"
  }
 },
 "nbformat": 4,
 "nbformat_minor": 5
}

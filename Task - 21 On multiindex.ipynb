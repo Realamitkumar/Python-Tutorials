{
 "cells": [
  {
   "cell_type": "code",
   "execution_count": 1,
   "id": "f7cc9e90",
   "metadata": {},
   "outputs": [],
   "source": [
    "import pandas as pd"
   ]
  },
  {
   "cell_type": "markdown",
   "id": "2fa45fe9",
   "metadata": {},
   "source": [
    "###`Q-1:` You are given a Multi index DataFrame. You task is to swap level-0 index with level-0 column.\n",
    "* Change Branch -> ('cse', 'ece') as columns at level-0 and ('delhi'\t'mumbai') as level-0 Index\n",
    "* And Sort on row index level-0"
   ]
  },
  {
   "cell_type": "code",
   "execution_count": 61,
   "id": "29721687",
   "metadata": {},
   "outputs": [
    {
     "data": {
      "text/html": [
       "<div>\n",
       "<style scoped>\n",
       "    .dataframe tbody tr th:only-of-type {\n",
       "        vertical-align: middle;\n",
       "    }\n",
       "\n",
       "    .dataframe tbody tr th {\n",
       "        vertical-align: top;\n",
       "    }\n",
       "\n",
       "    .dataframe thead tr th {\n",
       "        text-align: left;\n",
       "    }\n",
       "</style>\n",
       "<table border=\"1\" class=\"dataframe\">\n",
       "  <thead>\n",
       "    <tr>\n",
       "      <th></th>\n",
       "      <th></th>\n",
       "      <th colspan=\"2\" halign=\"left\">Delhi</th>\n",
       "      <th colspan=\"2\" halign=\"left\">Mumbai</th>\n",
       "    </tr>\n",
       "    <tr>\n",
       "      <th></th>\n",
       "      <th></th>\n",
       "      <th>Average_score</th>\n",
       "      <th>Students</th>\n",
       "      <th>Average_score</th>\n",
       "      <th>Students</th>\n",
       "    </tr>\n",
       "  </thead>\n",
       "  <tbody>\n",
       "    <tr>\n",
       "      <th rowspan=\"4\" valign=\"top\">cse</th>\n",
       "      <th>2019</th>\n",
       "      <td>1</td>\n",
       "      <td>2</td>\n",
       "      <td>3</td>\n",
       "      <td>4</td>\n",
       "    </tr>\n",
       "    <tr>\n",
       "      <th>2020</th>\n",
       "      <td>1</td>\n",
       "      <td>2</td>\n",
       "      <td>3</td>\n",
       "      <td>4</td>\n",
       "    </tr>\n",
       "    <tr>\n",
       "      <th>2021</th>\n",
       "      <td>1</td>\n",
       "      <td>2</td>\n",
       "      <td>3</td>\n",
       "      <td>4</td>\n",
       "    </tr>\n",
       "    <tr>\n",
       "      <th>2022</th>\n",
       "      <td>1</td>\n",
       "      <td>2</td>\n",
       "      <td>3</td>\n",
       "      <td>4</td>\n",
       "    </tr>\n",
       "    <tr>\n",
       "      <th rowspan=\"4\" valign=\"top\">ece</th>\n",
       "      <th>2019</th>\n",
       "      <td>1</td>\n",
       "      <td>2</td>\n",
       "      <td>3</td>\n",
       "      <td>4</td>\n",
       "    </tr>\n",
       "    <tr>\n",
       "      <th>2020</th>\n",
       "      <td>1</td>\n",
       "      <td>2</td>\n",
       "      <td>3</td>\n",
       "      <td>4</td>\n",
       "    </tr>\n",
       "    <tr>\n",
       "      <th>2021</th>\n",
       "      <td>1</td>\n",
       "      <td>2</td>\n",
       "      <td>3</td>\n",
       "      <td>4</td>\n",
       "    </tr>\n",
       "    <tr>\n",
       "      <th>2022</th>\n",
       "      <td>1</td>\n",
       "      <td>2</td>\n",
       "      <td>3</td>\n",
       "      <td>4</td>\n",
       "    </tr>\n",
       "  </tbody>\n",
       "</table>\n",
       "</div>"
      ],
      "text/plain": [
       "                 Delhi                 Mumbai         \n",
       "         Average_score Students Average_score Students\n",
       "cse 2019             1        2             3        4\n",
       "    2020             1        2             3        4\n",
       "    2021             1        2             3        4\n",
       "    2022             1        2             3        4\n",
       "ece 2019             1        2             3        4\n",
       "    2020             1        2             3        4\n",
       "    2021             1        2             3        4\n",
       "    2022             1        2             3        4"
      ]
     },
     "execution_count": 61,
     "metadata": {},
     "output_type": "execute_result"
    }
   ],
   "source": [
    "index = pd.MultiIndex.from_product([['cse','ece'],[2019,2020,2021,2022]])\n",
    "df = pd.DataFrame([\n",
    "    [1,2,3,4],\n",
    "    [1,2,3,4],\n",
    "    [1,2,3,4],\n",
    "    [1,2,3,4],\n",
    "    [1,2,3,4],\n",
    "    [1,2,3,4],\n",
    "    [1,2,3,4],\n",
    "    [1,2,3,4],\n",
    "\n",
    "],index=index,columns=pd.MultiIndex.from_product([['Delhi','Mumbai'],['Average_score','Students']])\n",
    ")\n",
    "df"
   ]
  },
  {
   "cell_type": "code",
   "execution_count": 60,
   "id": "a5a6fab5",
   "metadata": {},
   "outputs": [
    {
     "data": {
      "text/html": [
       "<div>\n",
       "<style scoped>\n",
       "    .dataframe tbody tr th:only-of-type {\n",
       "        vertical-align: middle;\n",
       "    }\n",
       "\n",
       "    .dataframe tbody tr th {\n",
       "        vertical-align: top;\n",
       "    }\n",
       "\n",
       "    .dataframe thead tr th {\n",
       "        text-align: left;\n",
       "    }\n",
       "</style>\n",
       "<table border=\"1\" class=\"dataframe\">\n",
       "  <thead>\n",
       "    <tr>\n",
       "      <th></th>\n",
       "      <th></th>\n",
       "      <th>cse</th>\n",
       "      <th>ece</th>\n",
       "      <th>cse</th>\n",
       "      <th>ece</th>\n",
       "    </tr>\n",
       "    <tr>\n",
       "      <th></th>\n",
       "      <th></th>\n",
       "      <th>Average_score</th>\n",
       "      <th>Average_score</th>\n",
       "      <th>Students</th>\n",
       "      <th>Students</th>\n",
       "    </tr>\n",
       "  </thead>\n",
       "  <tbody>\n",
       "    <tr>\n",
       "      <th rowspan=\"4\" valign=\"top\">Delhi</th>\n",
       "      <th>2019</th>\n",
       "      <td>1</td>\n",
       "      <td>1</td>\n",
       "      <td>2</td>\n",
       "      <td>2</td>\n",
       "    </tr>\n",
       "    <tr>\n",
       "      <th>2020</th>\n",
       "      <td>1</td>\n",
       "      <td>1</td>\n",
       "      <td>2</td>\n",
       "      <td>2</td>\n",
       "    </tr>\n",
       "    <tr>\n",
       "      <th>2021</th>\n",
       "      <td>1</td>\n",
       "      <td>1</td>\n",
       "      <td>2</td>\n",
       "      <td>2</td>\n",
       "    </tr>\n",
       "    <tr>\n",
       "      <th>2022</th>\n",
       "      <td>1</td>\n",
       "      <td>1</td>\n",
       "      <td>2</td>\n",
       "      <td>2</td>\n",
       "    </tr>\n",
       "    <tr>\n",
       "      <th rowspan=\"4\" valign=\"top\">Mumbai</th>\n",
       "      <th>2019</th>\n",
       "      <td>3</td>\n",
       "      <td>3</td>\n",
       "      <td>4</td>\n",
       "      <td>4</td>\n",
       "    </tr>\n",
       "    <tr>\n",
       "      <th>2020</th>\n",
       "      <td>3</td>\n",
       "      <td>3</td>\n",
       "      <td>4</td>\n",
       "      <td>4</td>\n",
       "    </tr>\n",
       "    <tr>\n",
       "      <th>2021</th>\n",
       "      <td>3</td>\n",
       "      <td>3</td>\n",
       "      <td>4</td>\n",
       "      <td>4</td>\n",
       "    </tr>\n",
       "    <tr>\n",
       "      <th>2022</th>\n",
       "      <td>3</td>\n",
       "      <td>3</td>\n",
       "      <td>4</td>\n",
       "      <td>4</td>\n",
       "    </tr>\n",
       "  </tbody>\n",
       "</table>\n",
       "</div>"
      ],
      "text/plain": [
       "                      cse           ece      cse      ece\n",
       "            Average_score Average_score Students Students\n",
       "Delhi  2019             1             1        2        2\n",
       "       2020             1             1        2        2\n",
       "       2021             1             1        2        2\n",
       "       2022             1             1        2        2\n",
       "Mumbai 2019             3             3        4        4\n",
       "       2020             3             3        4        4\n",
       "       2021             3             3        4        4\n",
       "       2022             3             3        4        4"
      ]
     },
     "execution_count": 60,
     "metadata": {},
     "output_type": "execute_result"
    }
   ],
   "source": [
    "df.unstack(level=0).stack(level=0).swaplevel(axis=1).swaplevel().sort_index()"
   ]
  },
  {
   "cell_type": "markdown",
   "id": "3ac346ba",
   "metadata": {},
   "source": [
    "###`Q-2:` Covid Cases Data Set Problem\n",
    " Make a DataFrame Using both Covid Dataset. With Country name as Level-0 and Provinance/State as Level-1 Index and date, No of cases and No of Deaths as Columns."
   ]
  },
  {
   "cell_type": "code",
   "execution_count": 222,
   "id": "3a2084ae",
   "metadata": {},
   "outputs": [],
   "source": [
    "confirm = pd.read_csv('https://docs.google.com/spreadsheets/d/e/2PACX-1vTmqT3kxd0i0RUFiEnwA1Hboiunv28MeNTatZsIEqlPPB7mHrl0ttJL7utZ23_1s5FW8ZjODmB8jHIi/pub?gid=2142019845&single=true&output=csv')\n",
    "\n",
    "deaths = pd.read_csv(\"https://docs.google.com/spreadsheets/d/e/2PACX-1vQn4nLCKIVZMw4e89YeRqgKaSAAwRFaZ6ILMW_FUejZ2tkv3Np1f9gD4QOl3ASHeLzWjOjfmLDKcCOF/pub?gid=212966958&single=true&output=csv\")"
   ]
  },
  {
   "cell_type": "code",
   "execution_count": 223,
   "id": "b5302c52",
   "metadata": {},
   "outputs": [],
   "source": [
    "# country - level0 - index\n",
    "# Provinance/State - level1 - index\n",
    "\n",
    "# date -> column \n",
    "# No of cases - > columns\n",
    "# No of Deaths - > columns"
   ]
  },
  {
   "cell_type": "code",
   "execution_count": 224,
   "id": "6090f55e",
   "metadata": {},
   "outputs": [],
   "source": [
    "confirm = confirm.melt(id_vars=[\"Province/State\",\"Country/Region\",'Lat','Long'],var_name='date',value_name='Number_of_cases')"
   ]
  },
  {
   "cell_type": "code",
   "execution_count": 225,
   "id": "b4822e6d",
   "metadata": {},
   "outputs": [],
   "source": [
    "deaths=deaths.melt(id_vars=[\"Province/State\",\"Country/Region\",'Lat','Long'],var_name='date',value_name='Number_of_deaths')\n",
    "final = confirm.merge(deaths,on=[\"Province/State\",\"Country/Region\",'Lat','Long','date'])[[\"Province/State\",\"Country/Region\",'date','Number_of_cases','Number_of_deaths']]"
   ]
  },
  {
   "cell_type": "code",
   "execution_count": 226,
   "id": "91814ee2",
   "metadata": {},
   "outputs": [],
   "source": [
    "final.set_index([\"Country/Region\",'Province/State'],inplace=True)\n",
    "final_df = final[['date','Number_of_cases','Number_of_deaths']]"
   ]
  },
  {
   "cell_type": "markdown",
   "id": "cb234725",
   "metadata": {},
   "source": [
    "###`Q-3:` Show Country with Highest death percent out of confirmed Cases. "
   ]
  },
  {
   "cell_type": "code",
   "execution_count": 227,
   "id": "af922ef5",
   "metadata": {},
   "outputs": [
    {
     "data": {
      "text/html": [
       "<div>\n",
       "<style scoped>\n",
       "    .dataframe tbody tr th:only-of-type {\n",
       "        vertical-align: middle;\n",
       "    }\n",
       "\n",
       "    .dataframe tbody tr th {\n",
       "        vertical-align: top;\n",
       "    }\n",
       "\n",
       "    .dataframe thead th {\n",
       "        text-align: right;\n",
       "    }\n",
       "</style>\n",
       "<table border=\"1\" class=\"dataframe\">\n",
       "  <thead>\n",
       "    <tr style=\"text-align: right;\">\n",
       "      <th></th>\n",
       "      <th>Number_of_cases</th>\n",
       "      <th>Number_of_deaths</th>\n",
       "      <th>death_percent</th>\n",
       "    </tr>\n",
       "    <tr>\n",
       "      <th>Country/Region</th>\n",
       "      <th></th>\n",
       "      <th></th>\n",
       "      <th></th>\n",
       "    </tr>\n",
       "  </thead>\n",
       "  <tbody>\n",
       "    <tr>\n",
       "      <th>Afghanistan</th>\n",
       "      <td>116218938</td>\n",
       "      <td>4901323</td>\n",
       "      <td>4.217319</td>\n",
       "    </tr>\n",
       "    <tr>\n",
       "      <th>Albania</th>\n",
       "      <td>163505982</td>\n",
       "      <td>2248012</td>\n",
       "      <td>1.374881</td>\n",
       "    </tr>\n",
       "    <tr>\n",
       "      <th>Algeria</th>\n",
       "      <td>164830894</td>\n",
       "      <td>4447129</td>\n",
       "      <td>2.697995</td>\n",
       "    </tr>\n",
       "    <tr>\n",
       "      <th>Andorra</th>\n",
       "      <td>21390392</td>\n",
       "      <td>116300</td>\n",
       "      <td>0.543702</td>\n",
       "    </tr>\n",
       "    <tr>\n",
       "      <th>Angola</th>\n",
       "      <td>53083822</td>\n",
       "      <td>1104387</td>\n",
       "      <td>2.080459</td>\n",
       "    </tr>\n",
       "    <tr>\n",
       "      <th>...</th>\n",
       "      <td>...</td>\n",
       "      <td>...</td>\n",
       "      <td>...</td>\n",
       "    </tr>\n",
       "    <tr>\n",
       "      <th>West Bank and Gaza</th>\n",
       "      <td>366130648</td>\n",
       "      <td>3377981</td>\n",
       "      <td>0.922616</td>\n",
       "    </tr>\n",
       "    <tr>\n",
       "      <th>Winter Olympics 2022</th>\n",
       "      <td>179152</td>\n",
       "      <td>0</td>\n",
       "      <td>0.000000</td>\n",
       "    </tr>\n",
       "    <tr>\n",
       "      <th>Yemen</th>\n",
       "      <td>7091065</td>\n",
       "      <td>1372952</td>\n",
       "      <td>19.361718</td>\n",
       "    </tr>\n",
       "    <tr>\n",
       "      <th>Zambia</th>\n",
       "      <td>173488194</td>\n",
       "      <td>2364727</td>\n",
       "      <td>1.363048</td>\n",
       "    </tr>\n",
       "    <tr>\n",
       "      <th>Zimbabwe</th>\n",
       "      <td>123084606</td>\n",
       "      <td>3087612</td>\n",
       "      <td>2.508528</td>\n",
       "    </tr>\n",
       "  </tbody>\n",
       "</table>\n",
       "<p>201 rows × 3 columns</p>\n",
       "</div>"
      ],
      "text/plain": [
       "                      Number_of_cases  Number_of_deaths  death_percent\n",
       "Country/Region                                                        \n",
       "Afghanistan                 116218938           4901323       4.217319\n",
       "Albania                     163505982           2248012       1.374881\n",
       "Algeria                     164830894           4447129       2.697995\n",
       "Andorra                      21390392            116300       0.543702\n",
       "Angola                       53083822           1104387       2.080459\n",
       "...                               ...               ...            ...\n",
       "West Bank and Gaza          366130648           3377981       0.922616\n",
       "Winter Olympics 2022           179152                 0       0.000000\n",
       "Yemen                         7091065           1372952      19.361718\n",
       "Zambia                      173488194           2364727       1.363048\n",
       "Zimbabwe                    123084606           3087612       2.508528\n",
       "\n",
       "[201 rows x 3 columns]"
      ]
     },
     "execution_count": 227,
     "metadata": {},
     "output_type": "execute_result"
    }
   ],
   "source": [
    "final=final.groupby('Country/Region').sum()\n",
    "final['death_percent']=(final['Number_of_deaths']/final['Number_of_cases']) * 100\n",
    "final"
   ]
  },
  {
   "cell_type": "markdown",
   "id": "956e2128",
   "metadata": {},
   "source": [
    "### `Q-4` : Make a dataframe for India from \n",
    "\n",
    "Covid Data with one extra column representing no of new cases. \n",
    "\n",
    "* Just for Assumption \"No of new cases\" will be equal to difference of \"no of cases\" with previous day.\n",
    "* First day new cases will be NaN or equal to no of cases\n",
    "\n",
    "Say on 12/30/22 No of cases is - 44679608\tand a day previous (12/29/22) no of cases is - 44679382.\n",
    "\n",
    "Then for 12/30/22 -> No of New Cases  = 44679608 - 44679382 = \n",
    "\n",
    "Note:- Try using shift Function\n"
   ]
  },
  {
   "cell_type": "code",
   "execution_count": 245,
   "id": "29c9230c",
   "metadata": {},
   "outputs": [
    {
     "data": {
      "text/plain": [
       "0    NaN\n",
       "1    1.0\n",
       "2    2.0\n",
       "3    3.0\n",
       "4    4.0\n",
       "5    5.0\n",
       "dtype: float64"
      ]
     },
     "execution_count": 245,
     "metadata": {},
     "output_type": "execute_result"
    }
   ],
   "source": [
    "final\n",
    "s = pd.Series([1,2,3,4,5,6])\n",
    "s.shift(1)"
   ]
  },
  {
   "cell_type": "code",
   "execution_count": 234,
   "id": "db5723be",
   "metadata": {},
   "outputs": [],
   "source": [
    "final = final_df.loc['India'].copy()"
   ]
  },
  {
   "cell_type": "code",
   "execution_count": 247,
   "id": "6422e93b",
   "metadata": {},
   "outputs": [],
   "source": [
    "final['No_of_new_cases']=final['Number_of_cases']-final['Number_of_cases'].shift(1)"
   ]
  },
  {
   "cell_type": "code",
   "execution_count": 248,
   "id": "0e581f75",
   "metadata": {},
   "outputs": [
    {
     "data": {
      "text/html": [
       "<div>\n",
       "<style scoped>\n",
       "    .dataframe tbody tr th:only-of-type {\n",
       "        vertical-align: middle;\n",
       "    }\n",
       "\n",
       "    .dataframe tbody tr th {\n",
       "        vertical-align: top;\n",
       "    }\n",
       "\n",
       "    .dataframe thead th {\n",
       "        text-align: right;\n",
       "    }\n",
       "</style>\n",
       "<table border=\"1\" class=\"dataframe\">\n",
       "  <thead>\n",
       "    <tr style=\"text-align: right;\">\n",
       "      <th></th>\n",
       "      <th>date</th>\n",
       "      <th>Number_of_cases</th>\n",
       "      <th>Number_of_deaths</th>\n",
       "      <th>No_of_new_cases</th>\n",
       "    </tr>\n",
       "    <tr>\n",
       "      <th>Province/State</th>\n",
       "      <th></th>\n",
       "      <th></th>\n",
       "      <th></th>\n",
       "      <th></th>\n",
       "    </tr>\n",
       "  </thead>\n",
       "  <tbody>\n",
       "    <tr>\n",
       "      <th>NaN</th>\n",
       "      <td>1/22/20</td>\n",
       "      <td>0</td>\n",
       "      <td>0</td>\n",
       "      <td>NaN</td>\n",
       "    </tr>\n",
       "    <tr>\n",
       "      <th>NaN</th>\n",
       "      <td>1/23/20</td>\n",
       "      <td>0</td>\n",
       "      <td>0</td>\n",
       "      <td>0.0</td>\n",
       "    </tr>\n",
       "    <tr>\n",
       "      <th>NaN</th>\n",
       "      <td>1/24/20</td>\n",
       "      <td>0</td>\n",
       "      <td>0</td>\n",
       "      <td>0.0</td>\n",
       "    </tr>\n",
       "    <tr>\n",
       "      <th>NaN</th>\n",
       "      <td>1/25/20</td>\n",
       "      <td>0</td>\n",
       "      <td>0</td>\n",
       "      <td>0.0</td>\n",
       "    </tr>\n",
       "    <tr>\n",
       "      <th>NaN</th>\n",
       "      <td>1/26/20</td>\n",
       "      <td>0</td>\n",
       "      <td>0</td>\n",
       "      <td>0.0</td>\n",
       "    </tr>\n",
       "    <tr>\n",
       "      <th>...</th>\n",
       "      <td>...</td>\n",
       "      <td>...</td>\n",
       "      <td>...</td>\n",
       "      <td>...</td>\n",
       "    </tr>\n",
       "    <tr>\n",
       "      <th>NaN</th>\n",
       "      <td>12/29/22</td>\n",
       "      <td>44679382</td>\n",
       "      <td>530699</td>\n",
       "      <td>243.0</td>\n",
       "    </tr>\n",
       "    <tr>\n",
       "      <th>NaN</th>\n",
       "      <td>12/30/22</td>\n",
       "      <td>44679608</td>\n",
       "      <td>530702</td>\n",
       "      <td>226.0</td>\n",
       "    </tr>\n",
       "    <tr>\n",
       "      <th>NaN</th>\n",
       "      <td>12/31/22</td>\n",
       "      <td>44679873</td>\n",
       "      <td>530705</td>\n",
       "      <td>265.0</td>\n",
       "    </tr>\n",
       "    <tr>\n",
       "      <th>NaN</th>\n",
       "      <td>1/1/23</td>\n",
       "      <td>44680046</td>\n",
       "      <td>530707</td>\n",
       "      <td>173.0</td>\n",
       "    </tr>\n",
       "    <tr>\n",
       "      <th>NaN</th>\n",
       "      <td>1/2/23</td>\n",
       "      <td>44680180</td>\n",
       "      <td>530707</td>\n",
       "      <td>134.0</td>\n",
       "    </tr>\n",
       "  </tbody>\n",
       "</table>\n",
       "<p>1077 rows × 4 columns</p>\n",
       "</div>"
      ],
      "text/plain": [
       "                    date  Number_of_cases  Number_of_deaths  No_of_new_cases\n",
       "Province/State                                                              \n",
       "NaN              1/22/20                0                 0              NaN\n",
       "NaN              1/23/20                0                 0              0.0\n",
       "NaN              1/24/20                0                 0              0.0\n",
       "NaN              1/25/20                0                 0              0.0\n",
       "NaN              1/26/20                0                 0              0.0\n",
       "...                  ...              ...               ...              ...\n",
       "NaN             12/29/22         44679382            530699            243.0\n",
       "NaN             12/30/22         44679608            530702            226.0\n",
       "NaN             12/31/22         44679873            530705            265.0\n",
       "NaN               1/1/23         44680046            530707            173.0\n",
       "NaN               1/2/23         44680180            530707            134.0\n",
       "\n",
       "[1077 rows x 4 columns]"
      ]
     },
     "execution_count": 248,
     "metadata": {},
     "output_type": "execute_result"
    }
   ],
   "source": [
    "final"
   ]
  },
  {
   "cell_type": "markdown",
   "id": "bb84eda9",
   "metadata": {},
   "source": [
    "### `Q-5:` Read the Dataset using the below given link and create a multi-index dataframe using the columns \"Country\" and \"City/Town\". \n",
    "\n",
    "This dataset is about the most polluted cities in the world. You can get details from [here](https://www.kaggle.com/datasets/rajkumarpandey02/worlds-most-air-polluted-countries-cities).\n",
    "\n",
    "**Dataset link:** https://tinyurl.com/2fe6vz4u Directly use this link to read.\n",
    "\n",
    "**Task:**\n",
    "1. Find out the name of the city of India which is most poluted based on PM10.\n",
    "2. Find out the name of the city of India which has minumum pollution level based on PM10.\n",
    "3. Do same operations (like 1 and 2) with the country China.\n",
    "4. Make a pie chart based on the column \"PM10\" of the country Poland.\n",
    "5. Make a bar chart based on the columns \"PM2.5\" and \"PM10\" of the countries Israel and Qatar.\n",
    "6. Convert this MultiIndex DataFrame to Series by retaining the informations."
   ]
  },
  {
   "cell_type": "code",
   "execution_count": 2,
   "id": "421db5bd",
   "metadata": {},
   "outputs": [],
   "source": [
    "df = pd.read_csv('List of most-polluted cities by particulate matter concentration - List of most-polluted cities by particulate matter concentration (1).csv')"
   ]
  },
  {
   "cell_type": "code",
   "execution_count": 40,
   "id": "043d3933",
   "metadata": {},
   "outputs": [
    {
     "data": {
      "text/plain": [
       "'Kanpur'"
      ]
     },
     "execution_count": 40,
     "metadata": {},
     "output_type": "execute_result"
    }
   ],
   "source": [
    "#df.drop(columns=['Unnamed: 0'],inplace=True)\n",
    "final = df.set_index(['Country','City/Town'])[['PM10','PM2.5']]\n",
    "india = final.loc['India']\n",
    "#Q1\n",
    "india['PM10'].sort_values(ascending=False).head(1).index[0]"
   ]
  },
  {
   "cell_type": "code",
   "execution_count": 46,
   "id": "2912682c",
   "metadata": {},
   "outputs": [
    {
     "data": {
      "text/plain": [
       "'Aizawl'"
      ]
     },
     "execution_count": 46,
     "metadata": {},
     "output_type": "execute_result"
    }
   ],
   "source": [
    "#Q2\n",
    "india['PM10'].sort_values().head(1).index[0]"
   ]
  },
  {
   "cell_type": "code",
   "execution_count": 54,
   "id": "2d334ac3",
   "metadata": {},
   "outputs": [
    {
     "data": {
      "text/plain": [
       "'Jinan'"
      ]
     },
     "execution_count": 54,
     "metadata": {},
     "output_type": "execute_result"
    }
   ],
   "source": [
    "#Q3\n",
    "final.loc['China']['PM10'].sort_values(ascending=False).head(1).index[0]"
   ]
  },
  {
   "cell_type": "code",
   "execution_count": 55,
   "id": "e284980c",
   "metadata": {},
   "outputs": [
    {
     "data": {
      "text/plain": [
       "'Anshun'"
      ]
     },
     "execution_count": 55,
     "metadata": {},
     "output_type": "execute_result"
    }
   ],
   "source": [
    "#Q4\n",
    "final.loc['China']['PM10'].sort_values().head(1).index[0]"
   ]
  },
  {
   "cell_type": "code",
   "execution_count": 111,
   "id": "2b018036",
   "metadata": {},
   "outputs": [],
   "source": [
    "ind = final.loc['Poland']['PM10'].index[0:]\n",
    "val = final.loc['Poland']['PM10'].values"
   ]
  },
  {
   "cell_type": "code",
   "execution_count": 115,
   "id": "5003764f",
   "metadata": {},
   "outputs": [
    {
     "data": {
      "image/png": "[encoded data removed]",
      "text/plain": [
       "<Figure size 432x288 with 1 Axes>"
      ]
     },
     "metadata": {},
     "output_type": "display_data"
    }
   ],
   "source": [
    "import matplotlib.pyplot as plt\n",
    "plt.pie(val,labels=ind,autopct='%0.1f%%');"
   ]
  },
  {
   "cell_type": "code",
   "execution_count": 104,
   "id": "5e0bbdb1",
   "metadata": {},
   "outputs": [
    {
     "data": {
      "image/png": "[encoded data removed]",
      "text/plain": [
       "<Figure size 432x288 with 1 Axes>"
      ]
     },
     "metadata": {
      "needs_background": "light"
     },
     "output_type": "display_data"
    }
   ],
   "source": [
    "#Q6\n",
    "is_qa = final.loc[['Israel','Qatar']][['PM10','PM2.5']]\n",
    "\n",
    "is_qa.plot(kind='bar');\n",
    "plt.xlabel(\"Country/Region\");"
   ]
  },
  {
   "cell_type": "code",
   "execution_count": 119,
   "id": "d1e52d99",
   "metadata": {},
   "outputs": [
    {
     "data": {
      "text/plain": [
       "pandas.core.series.Series"
      ]
     },
     "execution_count": 119,
     "metadata": {},
     "output_type": "execute_result"
    }
   ],
   "source": [
    "#Q7\n",
    "type(final.stack())"
   ]
  },
  {
   "cell_type": "code",
   "execution_count": null,
   "id": "90612a5f",
   "metadata": {},
   "outputs": [],
   "source": []
  }
 ],
 "metadata": {
  "kernelspec": {
   "display_name": "Python 3",
   "language": "python",
   "name": "python3"
  },
  "language_info": {
   "codemirror_mode": {
    "name": "ipython",
    "version": 3
   },
   "file_extension": ".py",
   "mimetype": "text/x-python",
   "name": "python",
   "nbconvert_exporter": "python",
   "pygments_lexer": "ipython3",
   "version": "3.8.8"
  }
 },
 "nbformat": 4,
 "nbformat_minor": 5
}

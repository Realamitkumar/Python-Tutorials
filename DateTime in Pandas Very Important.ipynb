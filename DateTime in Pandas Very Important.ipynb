{
 "cells": [
  {
   "cell_type": "markdown",
   "id": "22a85c8b",
   "metadata": {},
   "source": [
    "# **DateTime in Pandas**"
   ]
  },
  {
   "cell_type": "code",
   "execution_count": 1,
   "id": "2c878b88",
   "metadata": {},
   "outputs": [],
   "source": [
    "import pandas as pd\n",
    "import numpy as np"
   ]
  },
  {
   "cell_type": "markdown",
   "id": "6d1d238f",
   "metadata": {},
   "source": [
    "### Timestamp Object\n",
    "\n",
    "Time stamps reference particular moments in time (e.g., Oct 24th, 2022 at 7:00pm)"
   ]
  },
  {
   "cell_type": "markdown",
   "id": "df766045",
   "metadata": {},
   "source": [
    "### Creating Timestamp objects"
   ]
  },
  {
   "cell_type": "code",
   "execution_count": 4,
   "id": "bb15ab80",
   "metadata": {},
   "outputs": [
    {
     "data": {
      "text/plain": [
       "pandas._libs.tslibs.timestamps.Timestamp"
      ]
     },
     "execution_count": 4,
     "metadata": {},
     "output_type": "execute_result"
    }
   ],
   "source": [
    "# creating a timestamp\n",
    "# preferable to give format like\n",
    "# this: \"Year/Month/Day\"\n",
    "type(pd.Timestamp('2023/1/05'))"
   ]
  },
  {
   "cell_type": "code",
   "execution_count": 5,
   "id": "16b14915",
   "metadata": {},
   "outputs": [
    {
     "data": {
      "text/plain": [
       "Timestamp('2023-01-05 00:00:00')"
      ]
     },
     "execution_count": 5,
     "metadata": {},
     "output_type": "execute_result"
    }
   ],
   "source": [
    "# variations\n",
    "pd.Timestamp(\"2023-1-5\")\n",
    "pd.Timestamp(\"2023, 1, 5\")"
   ]
  },
  {
   "cell_type": "code",
   "execution_count": 6,
   "id": "f1921e72",
   "metadata": {},
   "outputs": [
    {
     "data": {
      "text/plain": [
       "Timestamp('2023-01-13 00:00:00')"
      ]
     },
     "execution_count": 6,
     "metadata": {},
     "output_type": "execute_result"
    }
   ],
   "source": [
    "# using text\n",
    "pd.Timestamp(\"13th january 2023\")"
   ]
  },
  {
   "cell_type": "code",
   "execution_count": 9,
   "id": "1acb49b4",
   "metadata": {},
   "outputs": [
    {
     "data": {
      "text/plain": [
       "Timestamp('2023-01-13 18:49:00')"
      ]
     },
     "execution_count": 9,
     "metadata": {},
     "output_type": "execute_result"
    }
   ],
   "source": [
    "# providing time also\n",
    "pd.Timestamp(\"13th january 2023 6:49PM\")"
   ]
  },
  {
   "cell_type": "code",
   "execution_count": 10,
   "id": "71e3eb9d",
   "metadata": {},
   "outputs": [],
   "source": [
    "# AM and PM"
   ]
  },
  {
   "cell_type": "code",
   "execution_count": 17,
   "id": "539bb46e",
   "metadata": {},
   "outputs": [],
   "source": [
    "# using datetime.datetime object of python\n",
    "import datetime as dt\n",
    "\n",
    "#always remember Timestamp is of pandas\n",
    "# and datetime is of python , but\n",
    "# both are work same way\n",
    "\n",
    "\n",
    "x = pd.Timestamp(dt.datetime(2023,1,5,9,21,56))"
   ]
  },
  {
   "cell_type": "code",
   "execution_count": 16,
   "id": "d5966aa2",
   "metadata": {
    "scrolled": true
   },
   "outputs": [
    {
     "data": {
      "text/plain": [
       "56"
      ]
     },
     "execution_count": 16,
     "metadata": {},
     "output_type": "execute_result"
    }
   ],
   "source": [
    "# fetching attributes \n",
    "x.year\n",
    "x.month\n",
    "x.day\n",
    "x.second"
   ]
  },
  {
   "cell_type": "markdown",
   "id": "94961284",
   "metadata": {},
   "source": [
    "# why separate objects to handle data and time when python already has datetime functionality?\n",
    "\n",
    "- syntax wise datetime is very convenient\n",
    "- But the performance takes a hit while working with huge data. List vs Numpy Array\n",
    "- The weaknesses of Python's datetime format inspired the NumPy team to add a set of native time series data type to NumPy.\n",
    "- The datetime64 dtype encodes dates as 64-bit integers, and thus allows arrays of dates to be represented very compactly."
   ]
  },
  {
   "cell_type": "code",
   "execution_count": 18,
   "id": "66c346d2",
   "metadata": {},
   "outputs": [],
   "source": [
    "import numpy as np\n",
    "date = np.array('2023-07-04',dtype=np.datetime64)"
   ]
  },
  {
   "cell_type": "code",
   "execution_count": 19,
   "id": "fb8dfff7",
   "metadata": {},
   "outputs": [
    {
     "data": {
      "text/plain": [
       "array(['2023-07-04', '2023-07-05', '2023-07-06', '2023-07-07',\n",
       "       '2023-07-08', '2023-07-09', '2023-07-10', '2023-07-11',\n",
       "       '2023-07-12', '2023-07-13', '2023-07-14', '2023-07-15'],\n",
       "      dtype='datetime64[D]')"
      ]
     },
     "execution_count": 19,
     "metadata": {},
     "output_type": "execute_result"
    }
   ],
   "source": [
    "date + np.arange(12)"
   ]
  },
  {
   "cell_type": "markdown",
   "id": "d3b86cdf",
   "metadata": {},
   "source": [
    "- Because of the uniform type in NumPy datetime64 arrays, this type of operation can be accomplished much more quickly than if we were working directly with Python's datetime objects, especially as arrays get large \n",
    "\n",
    "- Pandas Timestamp object combines the ease-of-use of python datetime with the efficient storage and vectorized interface of numpy.datetime64\n",
    "\n",
    "- From a group of these Timestamp objects, Pandas can construct a DatetimeIndex that can be used to index data in a Series or DataFrame"
   ]
  },
  {
   "cell_type": "markdown",
   "id": "e1bb840a",
   "metadata": {},
   "source": [
    "### DatetimeIndex Object\n",
    "\n",
    "A collection of pandas timestamp"
   ]
  },
  {
   "cell_type": "code",
   "execution_count": 23,
   "id": "fedd47f7",
   "metadata": {},
   "outputs": [
    {
     "data": {
      "text/plain": [
       "pandas.core.indexes.datetimes.DatetimeIndex"
      ]
     },
     "execution_count": 23,
     "metadata": {},
     "output_type": "execute_result"
    }
   ],
   "source": [
    "# from strings\n",
    "type(pd.DatetimeIndex(['2023/1/13','2022/1/13','2021/1/13']))"
   ]
  },
  {
   "cell_type": "code",
   "execution_count": 25,
   "id": "4ccf1683",
   "metadata": {},
   "outputs": [
    {
     "data": {
      "text/plain": [
       "DatetimeIndex(['2023-01-13', '2022-01-13', '2021-01-13'], dtype='datetime64[ns]', freq=None)"
      ]
     },
     "execution_count": 25,
     "metadata": {},
     "output_type": "execute_result"
    }
   ],
   "source": [
    "# using python datetime object\n",
    "pd.DatetimeIndex([dt.datetime(2023,1,13),dt.datetime(2022,1,13),dt.datetime(2021,1,13)])"
   ]
  },
  {
   "cell_type": "code",
   "execution_count": 27,
   "id": "d7e69de7",
   "metadata": {},
   "outputs": [],
   "source": [
    "# using pd.Timestamps\n",
    "dt_index = pd.DatetimeIndex([pd.Timestamp(2023,1,13),pd.Timestamp(2022,1,13),pd.Timestamp(2021,1,13)])"
   ]
  },
  {
   "cell_type": "code",
   "execution_count": 28,
   "id": "1dbd8b5c",
   "metadata": {},
   "outputs": [
    {
     "data": {
      "text/plain": [
       "2023-01-13    1\n",
       "2022-01-13    2\n",
       "2021-01-13    3\n",
       "dtype: int64"
      ]
     },
     "execution_count": 28,
     "metadata": {},
     "output_type": "execute_result"
    }
   ],
   "source": [
    "#using datetimeindex as index of the series\n",
    "\n",
    "pd.Series([1,2,3],index=dt_index)"
   ]
  },
  {
   "cell_type": "markdown",
   "id": "c8733ffe",
   "metadata": {},
   "source": [
    "# ``date_range`` function"
   ]
  },
  {
   "cell_type": "code",
   "execution_count": 31,
   "id": "4b143569",
   "metadata": {},
   "outputs": [
    {
     "data": {
      "text/plain": [
       "DatetimeIndex(['2023-01-13', '2023-01-14', '2023-01-15', '2023-01-16',\n",
       "               '2023-01-17', '2023-01-18', '2023-01-19', '2023-01-20',\n",
       "               '2023-01-21', '2023-01-22', '2023-01-23', '2023-01-24',\n",
       "               '2023-01-25', '2023-01-26', '2023-01-27', '2023-01-28',\n",
       "               '2023-01-29', '2023-01-30', '2023-01-31'],\n",
       "              dtype='datetime64[ns]', freq='D')"
      ]
     },
     "execution_count": 31,
     "metadata": {},
     "output_type": "execute_result"
    }
   ],
   "source": [
    "# generate daily dates in a given range\n",
    "pd.date_range(start ='2023/1/13',end = '2023/1/31',freq='D')"
   ]
  },
  {
   "cell_type": "code",
   "execution_count": 32,
   "id": "60be5c9c",
   "metadata": {},
   "outputs": [
    {
     "data": {
      "text/plain": [
       "DatetimeIndex(['2023-01-13', '2023-01-16', '2023-01-19', '2023-01-22',\n",
       "               '2023-01-25', '2023-01-28', '2023-01-31'],\n",
       "              dtype='datetime64[ns]', freq='3D')"
      ]
     },
     "execution_count": 32,
     "metadata": {},
     "output_type": "execute_result"
    }
   ],
   "source": [
    "# alternate days in a given range\n",
    "pd.date_range(start ='2023/1/13',end = '2023/1/31',freq='3D') #2-2 din chod kar"
   ]
  },
  {
   "cell_type": "code",
   "execution_count": 34,
   "id": "5fe41174",
   "metadata": {},
   "outputs": [
    {
     "data": {
      "text/plain": [
       "DatetimeIndex(['2023-01-13', '2023-01-16', '2023-01-17', '2023-01-18',\n",
       "               '2023-01-19', '2023-01-20', '2023-01-23', '2023-01-24',\n",
       "               '2023-01-25', '2023-01-26', '2023-01-27', '2023-01-30',\n",
       "               '2023-01-31'],\n",
       "              dtype='datetime64[ns]', freq='B')"
      ]
     },
     "execution_count": 34,
     "metadata": {},
     "output_type": "execute_result"
    }
   ],
   "source": [
    "# B-> business days \n",
    "# skipped the business days that is saturday and sunday\n",
    "pd.date_range(start ='2023/1/13',end = '2023/1/31',freq='B')"
   ]
  },
  {
   "cell_type": "code",
   "execution_count": 37,
   "id": "269ff99d",
   "metadata": {},
   "outputs": [
    {
     "data": {
      "text/plain": [
       "DatetimeIndex(['2023-01-14', '2023-01-21', '2023-01-28'], dtype='datetime64[ns]', freq='W-SAT')"
      ]
     },
     "execution_count": 37,
     "metadata": {},
     "output_type": "execute_result"
    }
   ],
   "source": [
    "# W -> one week per day\n",
    "# let suppose i want `saturday` only \n",
    "pd.date_range(start ='2023/1/13',end = '2023/1/31',freq='W-SAT')"
   ]
  },
  {
   "cell_type": "code",
   "execution_count": 38,
   "id": "e27e4f0c",
   "metadata": {},
   "outputs": [
    {
     "data": {
      "text/plain": [
       "DatetimeIndex(['2023-01-13 00:00:00', '2023-01-13 01:00:00',\n",
       "               '2023-01-13 02:00:00', '2023-01-13 03:00:00',\n",
       "               '2023-01-13 04:00:00', '2023-01-13 05:00:00',\n",
       "               '2023-01-13 06:00:00', '2023-01-13 07:00:00',\n",
       "               '2023-01-13 08:00:00', '2023-01-13 09:00:00',\n",
       "               ...\n",
       "               '2023-01-30 15:00:00', '2023-01-30 16:00:00',\n",
       "               '2023-01-30 17:00:00', '2023-01-30 18:00:00',\n",
       "               '2023-01-30 19:00:00', '2023-01-30 20:00:00',\n",
       "               '2023-01-30 21:00:00', '2023-01-30 22:00:00',\n",
       "               '2023-01-30 23:00:00', '2023-01-31 00:00:00'],\n",
       "              dtype='datetime64[ns]', length=433, freq='H')"
      ]
     },
     "execution_count": 38,
     "metadata": {},
     "output_type": "execute_result"
    }
   ],
   "source": [
    "# H-> Hourly data\n",
    "pd.date_range(start ='2023/1/13',end = '2023/1/31',freq='H')"
   ]
  },
  {
   "cell_type": "code",
   "execution_count": 40,
   "id": "fdf3a257",
   "metadata": {},
   "outputs": [
    {
     "data": {
      "text/plain": [
       "DatetimeIndex(['2023-01-13 00:00:00', '2023-01-13 06:00:00',\n",
       "               '2023-01-13 12:00:00', '2023-01-13 18:00:00',\n",
       "               '2023-01-14 00:00:00', '2023-01-14 06:00:00',\n",
       "               '2023-01-14 12:00:00', '2023-01-14 18:00:00',\n",
       "               '2023-01-15 00:00:00', '2023-01-15 06:00:00',\n",
       "               '2023-01-15 12:00:00', '2023-01-15 18:00:00',\n",
       "               '2023-01-16 00:00:00', '2023-01-16 06:00:00',\n",
       "               '2023-01-16 12:00:00', '2023-01-16 18:00:00',\n",
       "               '2023-01-17 00:00:00', '2023-01-17 06:00:00',\n",
       "               '2023-01-17 12:00:00', '2023-01-17 18:00:00',\n",
       "               '2023-01-18 00:00:00', '2023-01-18 06:00:00',\n",
       "               '2023-01-18 12:00:00', '2023-01-18 18:00:00',\n",
       "               '2023-01-19 00:00:00', '2023-01-19 06:00:00',\n",
       "               '2023-01-19 12:00:00', '2023-01-19 18:00:00',\n",
       "               '2023-01-20 00:00:00', '2023-01-20 06:00:00',\n",
       "               '2023-01-20 12:00:00', '2023-01-20 18:00:00',\n",
       "               '2023-01-21 00:00:00', '2023-01-21 06:00:00',\n",
       "               '2023-01-21 12:00:00', '2023-01-21 18:00:00',\n",
       "               '2023-01-22 00:00:00', '2023-01-22 06:00:00',\n",
       "               '2023-01-22 12:00:00', '2023-01-22 18:00:00',\n",
       "               '2023-01-23 00:00:00', '2023-01-23 06:00:00',\n",
       "               '2023-01-23 12:00:00', '2023-01-23 18:00:00',\n",
       "               '2023-01-24 00:00:00', '2023-01-24 06:00:00',\n",
       "               '2023-01-24 12:00:00', '2023-01-24 18:00:00',\n",
       "               '2023-01-25 00:00:00', '2023-01-25 06:00:00',\n",
       "               '2023-01-25 12:00:00', '2023-01-25 18:00:00',\n",
       "               '2023-01-26 00:00:00', '2023-01-26 06:00:00',\n",
       "               '2023-01-26 12:00:00', '2023-01-26 18:00:00',\n",
       "               '2023-01-27 00:00:00', '2023-01-27 06:00:00',\n",
       "               '2023-01-27 12:00:00', '2023-01-27 18:00:00',\n",
       "               '2023-01-28 00:00:00', '2023-01-28 06:00:00',\n",
       "               '2023-01-28 12:00:00', '2023-01-28 18:00:00',\n",
       "               '2023-01-29 00:00:00', '2023-01-29 06:00:00',\n",
       "               '2023-01-29 12:00:00', '2023-01-29 18:00:00',\n",
       "               '2023-01-30 00:00:00', '2023-01-30 06:00:00',\n",
       "               '2023-01-30 12:00:00', '2023-01-30 18:00:00',\n",
       "               '2023-01-31 00:00:00'],\n",
       "              dtype='datetime64[ns]', freq='6H')"
      ]
     },
     "execution_count": 40,
     "metadata": {},
     "output_type": "execute_result"
    }
   ],
   "source": [
    "# Every 6 hour  data\n",
    "pd.date_range(start ='2023/1/13',end = '2023/1/31',freq='6H')"
   ]
  },
  {
   "cell_type": "code",
   "execution_count": 47,
   "id": "48d20eb1",
   "metadata": {},
   "outputs": [
    {
     "data": {
      "text/plain": [
       "DatetimeIndex(['2023-01-31'], dtype='datetime64[ns]', freq='M')"
      ]
     },
     "execution_count": 47,
     "metadata": {},
     "output_type": "execute_result"
    }
   ],
   "source": [
    "# M - > Month end\n",
    "\n",
    "pd.date_range(start ='2023/1/1',end = '2023/1/31',freq='M')"
   ]
  },
  {
   "cell_type": "code",
   "execution_count": 50,
   "id": "2d325f11",
   "metadata": {},
   "outputs": [
    {
     "data": {
      "text/plain": [
       "DatetimeIndex(['2023-01-01'], dtype='datetime64[ns]', freq='MS')"
      ]
     },
     "execution_count": 50,
     "metadata": {},
     "output_type": "execute_result"
    }
   ],
   "source": [
    "# MS - > Month start\n",
    "\n",
    "pd.date_range(start ='2023/1/1',end = '2023/1/31',freq='MS')"
   ]
  },
  {
   "cell_type": "code",
   "execution_count": 53,
   "id": "f333cff9",
   "metadata": {},
   "outputs": [
    {
     "data": {
      "text/plain": [
       "DatetimeIndex(['2023-12-31'], dtype='datetime64[ns]', freq='A-DEC')"
      ]
     },
     "execution_count": 53,
     "metadata": {},
     "output_type": "execute_result"
    }
   ],
   "source": [
    "# A-> Year end\n",
    "\n",
    "\n",
    "pd.date_range(start ='2023/1/13',end = '2024/1/31',freq='A')"
   ]
  },
  {
   "cell_type": "code",
   "execution_count": 67,
   "id": "58b757fd",
   "metadata": {},
   "outputs": [
    {
     "data": {
      "text/plain": [
       "DatetimeIndex(['2023-01-31', '2023-02-28', '2023-03-31', '2023-04-30',\n",
       "               '2023-05-31', '2023-06-30'],\n",
       "              dtype='datetime64[ns]', freq='M')"
      ]
     },
     "execution_count": 67,
     "metadata": {},
     "output_type": "execute_result"
    }
   ],
   "source": [
    "# using periods= (number of results)\n",
    "# next days want to extract from 'start'\n",
    "\n",
    "pd.date_range(start ='2023/1/13',periods=6,freq='M')"
   ]
  },
  {
   "cell_type": "markdown",
   "id": "f376a423",
   "metadata": {},
   "source": [
    "# **to_datetime functioninging**\n",
    "converts an existing objects to pandas timestamp/datetimeindex object"
   ]
  },
  {
   "cell_type": "code",
   "execution_count": 76,
   "id": "b6e34aa5",
   "metadata": {},
   "outputs": [
    {
     "data": {
      "text/plain": [
       "0      Sunday\n",
       "1    Saturday\n",
       "2      Friday\n",
       "dtype: object"
      ]
     },
     "execution_count": 76,
     "metadata": {},
     "output_type": "execute_result"
    }
   ],
   "source": [
    "# simple series example\n",
    "\n",
    "s=pd.Series(['2023/1/1','2022/1/1','2021/1/1'])\n",
    "pd.to_datetime(s).dt.day_name()"
   ]
  },
  {
   "cell_type": "code",
   "execution_count": 81,
   "id": "005c0745",
   "metadata": {},
   "outputs": [
    {
     "data": {
      "text/plain": [
       "0          NaT\n",
       "1   2022-01-01\n",
       "2   2021-01-01\n",
       "dtype: datetime64[ns]"
      ]
     },
     "execution_count": 81,
     "metadata": {},
     "output_type": "execute_result"
    }
   ],
   "source": [
    "# with errors\n",
    "s=pd.Series(['2023/111/1','2022/1/1','2021/1/1'])\n",
    "pd.to_datetime(s,errors='coerce')\n",
    "# coerce means ignore the incorrect format\n",
    "# of date"
   ]
  },
  {
   "cell_type": "code",
   "execution_count": 82,
   "id": "dde2bc25",
   "metadata": {},
   "outputs": [
    {
     "data": {
      "text/plain": [
       "(277, 11)"
      ]
     },
     "execution_count": 82,
     "metadata": {},
     "output_type": "execute_result"
    }
   ],
   "source": [
    "df = pd.read_csv(\"expense_data.csv\")\n",
    "df.shape"
   ]
  },
  {
   "cell_type": "code",
   "execution_count": 83,
   "id": "06363e1f",
   "metadata": {},
   "outputs": [
    {
     "data": {
      "text/html": [
       "<div>\n",
       "<style scoped>\n",
       "    .dataframe tbody tr th:only-of-type {\n",
       "        vertical-align: middle;\n",
       "    }\n",
       "\n",
       "    .dataframe tbody tr th {\n",
       "        vertical-align: top;\n",
       "    }\n",
       "\n",
       "    .dataframe thead th {\n",
       "        text-align: right;\n",
       "    }\n",
       "</style>\n",
       "<table border=\"1\" class=\"dataframe\">\n",
       "  <thead>\n",
       "    <tr style=\"text-align: right;\">\n",
       "      <th></th>\n",
       "      <th>Date</th>\n",
       "      <th>Account</th>\n",
       "      <th>Category</th>\n",
       "      <th>Subcategory</th>\n",
       "      <th>Note</th>\n",
       "      <th>INR</th>\n",
       "      <th>Income/Expense</th>\n",
       "      <th>Note.1</th>\n",
       "      <th>Amount</th>\n",
       "      <th>Currency</th>\n",
       "      <th>Account.1</th>\n",
       "    </tr>\n",
       "  </thead>\n",
       "  <tbody>\n",
       "    <tr>\n",
       "      <th>0</th>\n",
       "      <td>3/2/2022 10:11</td>\n",
       "      <td>CUB - online payment</td>\n",
       "      <td>Food</td>\n",
       "      <td>NaN</td>\n",
       "      <td>Brownie</td>\n",
       "      <td>50.0</td>\n",
       "      <td>Expense</td>\n",
       "      <td>NaN</td>\n",
       "      <td>50.0</td>\n",
       "      <td>INR</td>\n",
       "      <td>50.0</td>\n",
       "    </tr>\n",
       "    <tr>\n",
       "      <th>1</th>\n",
       "      <td>3/2/2022 10:11</td>\n",
       "      <td>CUB - online payment</td>\n",
       "      <td>Other</td>\n",
       "      <td>NaN</td>\n",
       "      <td>To lended people</td>\n",
       "      <td>300.0</td>\n",
       "      <td>Expense</td>\n",
       "      <td>NaN</td>\n",
       "      <td>300.0</td>\n",
       "      <td>INR</td>\n",
       "      <td>300.0</td>\n",
       "    </tr>\n",
       "    <tr>\n",
       "      <th>2</th>\n",
       "      <td>3/1/2022 19:50</td>\n",
       "      <td>CUB - online payment</td>\n",
       "      <td>Food</td>\n",
       "      <td>NaN</td>\n",
       "      <td>Dinner</td>\n",
       "      <td>78.0</td>\n",
       "      <td>Expense</td>\n",
       "      <td>NaN</td>\n",
       "      <td>78.0</td>\n",
       "      <td>INR</td>\n",
       "      <td>78.0</td>\n",
       "    </tr>\n",
       "    <tr>\n",
       "      <th>3</th>\n",
       "      <td>3/1/2022 18:56</td>\n",
       "      <td>CUB - online payment</td>\n",
       "      <td>Transportation</td>\n",
       "      <td>NaN</td>\n",
       "      <td>Metro</td>\n",
       "      <td>30.0</td>\n",
       "      <td>Expense</td>\n",
       "      <td>NaN</td>\n",
       "      <td>30.0</td>\n",
       "      <td>INR</td>\n",
       "      <td>30.0</td>\n",
       "    </tr>\n",
       "    <tr>\n",
       "      <th>4</th>\n",
       "      <td>3/1/2022 18:22</td>\n",
       "      <td>CUB - online payment</td>\n",
       "      <td>Food</td>\n",
       "      <td>NaN</td>\n",
       "      <td>Snacks</td>\n",
       "      <td>67.0</td>\n",
       "      <td>Expense</td>\n",
       "      <td>NaN</td>\n",
       "      <td>67.0</td>\n",
       "      <td>INR</td>\n",
       "      <td>67.0</td>\n",
       "    </tr>\n",
       "  </tbody>\n",
       "</table>\n",
       "</div>"
      ],
      "text/plain": [
       "             Date               Account        Category  Subcategory  \\\n",
       "0  3/2/2022 10:11  CUB - online payment            Food          NaN   \n",
       "1  3/2/2022 10:11  CUB - online payment           Other          NaN   \n",
       "2  3/1/2022 19:50  CUB - online payment            Food          NaN   \n",
       "3  3/1/2022 18:56  CUB - online payment  Transportation          NaN   \n",
       "4  3/1/2022 18:22  CUB - online payment            Food          NaN   \n",
       "\n",
       "               Note    INR Income/Expense  Note.1  Amount Currency  Account.1  \n",
       "0           Brownie   50.0        Expense     NaN    50.0      INR       50.0  \n",
       "1  To lended people  300.0        Expense     NaN   300.0      INR      300.0  \n",
       "2            Dinner   78.0        Expense     NaN    78.0      INR       78.0  \n",
       "3             Metro   30.0        Expense     NaN    30.0      INR       30.0  \n",
       "4            Snacks   67.0        Expense     NaN    67.0      INR       67.0  "
      ]
     },
     "execution_count": 83,
     "metadata": {},
     "output_type": "execute_result"
    }
   ],
   "source": [
    "df.head()"
   ]
  },
  {
   "cell_type": "code",
   "execution_count": 90,
   "id": "15296c8f",
   "metadata": {},
   "outputs": [],
   "source": [
    "# converting from object or str type to datetime\n",
    "df['Date']=pd.to_datetime(df['Date'])"
   ]
  },
  {
   "cell_type": "code",
   "execution_count": 91,
   "id": "230e949f",
   "metadata": {},
   "outputs": [
    {
     "data": {
      "text/plain": [
       "0     2022-03-02 10:11:00\n",
       "1     2022-03-02 10:11:00\n",
       "2     2022-03-01 19:50:00\n",
       "3     2022-03-01 18:56:00\n",
       "4     2022-03-01 18:22:00\n",
       "              ...        \n",
       "272   2021-11-22 14:16:00\n",
       "273   2021-11-22 14:16:00\n",
       "274   2021-11-21 17:07:00\n",
       "275   2021-11-21 15:50:00\n",
       "276   2021-11-21 13:30:00\n",
       "Name: Date, Length: 277, dtype: datetime64[ns]"
      ]
     },
     "execution_count": 91,
     "metadata": {},
     "output_type": "execute_result"
    }
   ],
   "source": [
    "df['Date']"
   ]
  },
  {
   "cell_type": "markdown",
   "id": "b2dc8331",
   "metadata": {},
   "source": [
    "### dt accessor\n",
    "\n",
    "Accessor object for datetimelike properties of the Series values."
   ]
  },
  {
   "cell_type": "code",
   "execution_count": 103,
   "id": "095468ae",
   "metadata": {},
   "outputs": [
    {
     "data": {
      "text/plain": [
       "0      Wednesday\n",
       "1      Wednesday\n",
       "2        Tuesday\n",
       "3        Tuesday\n",
       "4        Tuesday\n",
       "         ...    \n",
       "272       Monday\n",
       "273       Monday\n",
       "274       Sunday\n",
       "275       Sunday\n",
       "276       Sunday\n",
       "Name: Date, Length: 277, dtype: object"
      ]
     },
     "execution_count": 103,
     "metadata": {},
     "output_type": "execute_result"
    }
   ],
   "source": [
    "df['Date'].dt.is_quarter_end\n",
    "df['Date'].dt.is_quarter_start\n",
    "df['Date'].dt.month_name()\n",
    "df['Date'].dt.is_month_end\n",
    "df['Date'].dt.day_name()"
   ]
  },
  {
   "cell_type": "code",
   "execution_count": 104,
   "id": "102d19fe",
   "metadata": {},
   "outputs": [
    {
     "data": {
      "text/plain": [
       "[<matplotlib.lines.Line2D at 0x19ed494db20>]"
      ]
     },
     "execution_count": 104,
     "metadata": {},
     "output_type": "execute_result"
    },
    {
     "data": {
      "image/png": "[encoded data removed]",
      "text/plain": [
       "<Figure size 432x288 with 1 Axes>"
      ]
     },
     "metadata": {
      "needs_background": "light"
     },
     "output_type": "display_data"
    }
   ],
   "source": [
    "# plot graph\n",
    "import matplotlib.pyplot as plt\n",
    "plt.plot(df['Date'],df['INR'])"
   ]
  },
  {
   "cell_type": "code",
   "execution_count": 108,
   "id": "320336ef",
   "metadata": {},
   "outputs": [],
   "source": [
    "# day name wise bar chart/month wise bar chart\n",
    "\n",
    "df['day_name']=df['Date'].dt.day_name()"
   ]
  },
  {
   "cell_type": "code",
   "execution_count": 111,
   "id": "1ad5e58e",
   "metadata": {},
   "outputs": [
    {
     "data": {
      "image/png": "[encoded data removed]",
      "text/plain": [
       "<Figure size 432x288 with 1 Axes>"
      ]
     },
     "metadata": {
      "needs_background": "light"
     },
     "output_type": "display_data"
    }
   ],
   "source": [
    "df.groupby(\"day_name\")['INR'].sum().plot(kind='bar');"
   ]
  },
  {
   "cell_type": "code",
   "execution_count": 112,
   "id": "64e5d0d8",
   "metadata": {},
   "outputs": [],
   "source": [
    "df['month_name']=df['Date'].dt.month_name()"
   ]
  },
  {
   "cell_type": "code",
   "execution_count": 114,
   "id": "d5b316f6",
   "metadata": {},
   "outputs": [
    {
     "data": {
      "image/png": "[encoded data removed]",
      "text/plain": [
       "<Figure size 432x288 with 1 Axes>"
      ]
     },
     "metadata": {
      "needs_background": "light"
     },
     "output_type": "display_data"
    }
   ],
   "source": [
    "df.groupby(\"month_name\")['INR'].sum().plot(kind='bar');"
   ]
  },
  {
   "cell_type": "code",
   "execution_count": 115,
   "id": "36f2eecc",
   "metadata": {},
   "outputs": [
    {
     "data": {
      "image/png": "[encoded data removed]",
      "text/plain": [
       "<Figure size 432x288 with 1 Axes>"
      ]
     },
     "metadata": {
      "needs_background": "light"
     },
     "output_type": "display_data"
    }
   ],
   "source": [
    "#on averge expense day wise\n",
    "df.groupby(\"day_name\")['INR'].mean().plot(kind='bar');"
   ]
  },
  {
   "cell_type": "markdown",
   "id": "401e6879",
   "metadata": {},
   "source": [
    "**Month end expense**"
   ]
  },
  {
   "cell_type": "code",
   "execution_count": 120,
   "id": "4c7b9343",
   "metadata": {},
   "outputs": [
    {
     "data": {
      "image/png": "[encoded data removed]",
      "text/plain": [
       "<Figure size 432x288 with 1 Axes>"
      ]
     },
     "metadata": {
      "needs_background": "light"
     },
     "output_type": "display_data"
    }
   ],
   "source": [
    "df[df['Date'].dt.is_month_end].groupby(\"Date\")['INR'].sum().plot(kind=\"bar\");"
   ]
  }
 ],
 "metadata": {
  "kernelspec": {
   "display_name": "Python 3",
   "language": "python",
   "name": "python3"
  },
  "language_info": {
   "codemirror_mode": {
    "name": "ipython",
    "version": 3
   },
   "file_extension": ".py",
   "mimetype": "text/x-python",
   "name": "python",
   "nbconvert_exporter": "python",
   "pygments_lexer": "ipython3",
   "version": "3.8.8"
  }
 },
 "nbformat": 4,
 "nbformat_minor": 5
}

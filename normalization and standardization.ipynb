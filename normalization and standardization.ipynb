{
 "cells": [
  {
   "cell_type": "markdown",
   "id": "2292d01b",
   "metadata": {},
   "source": [
    "# **Normalization vs Standardization**\n",
    "The two most important feature scaling techniques"
   ]
  },
  {
   "cell_type": "markdown",
   "id": "beb20bfe",
   "metadata": {},
   "source": [
    "- In Machine Learning, a model will be as good (or as bad) as the data you train the model with.\n",
    "- The magnitude of different features affects different machine learning models for various reasons."
   ]
  },
  {
   "cell_type": "markdown",
   "id": "db1ad56d",
   "metadata": {},
   "source": [
    "- For example,\n",
    "- consider a data set containing two features, ``age``, and ``income``.\n",
    "- Here age ranges from 0–100, while income ranges from 0 to a huge amount which is mostly higher than 100.\n",
    "- ``Income`` is about ``1,000`` ``times`` ``larger`` ``than age``. \n",
    "- So, these two features are in very different ranges. \n",
    "- When we do further analysis, like multivariate linear regression,\n",
    "- for example, the attributed ``income`` will ``intrinsically influence`` the **``result``** ``more`` ``due`` to its ``larger value``.\n",
    "- But this doesn’t necessarily mean it is more important as a predictor.\n",
    "\n",
    "\n",
    "- Therefore, the range of all features should be scaled so that each feature contributes approximately proportionately to the final distance.\n",
    "\n",
    "For this exact purpose, using Feature Scaling is essential.\n",
    "\n",
    "- ***Feature scaling***\n",
    "\n",
    "* Feature scaling is a technique to change the values of numeric columns in the\n",
    "* dataset within a  common scale,\n",
    "* without distorting differences in the ranges of values or losing information."
   ]
  },
  {
   "attachments": {
    "1_QWFEYIKWrBSiEqhdrGZGcA.webp": {
     "image/webp": "[encoded data removed]"
    }
   },
   "cell_type": "markdown",
   "id": "c12a4901",
   "metadata": {},
   "source": [
    "Why use Feature Scaling?\n",
    "\n",
    "- Gradient descent converges much faster with feature scaling than without it.\n",
    "\n",
    "- Many classifiers (like KNN, K-means) calculate the distance between two points by the Euclidean distance.\n",
    "- If one of the features has a broad range of values, the distance will be governed by this particular feature.\n",
    "- So the range of features should be scaled so that each feature contributes approximately proportionately to the final distance.\n",
    "\n",
    "\n",
    "- However, ``every dataset does not require features scaling``.\n",
    "- It is required only when features have different ranges.\n",
    "\n",
    "\n",
    "# Normalization\n",
    "- Normalization (also called, Min-Max normalization) is a scaling technique\n",
    "- such that when it is applied the features will be rescaled so that the data will fall\n",
    "- in the range of [0,1]\n",
    "\n",
    "\n",
    "The mathematical formula for Normalization\n",
    "\n",
    "![1_QWFEYIKWrBSiEqhdrGZGcA.webp](attachment:1_QWFEYIKWrBSiEqhdrGZGcA.webp)\n",
    "Here ‘x’ is the original value and ‘x`’ is the normalized value.\n",
    "\n",
    "# Standardization\n",
    "- It is calculated based on standard normal distribution\n",
    "- where , miu that is mean = 0 and std = 1\n",
    "- Standardization (also called, Z-score normalization) is a scaling technique\n",
    "- such that when it is applied the features will be - rescaled \n",
    "- so that they’ll have the properties\n",
    "- of a standard normal distribution with mean,μ=0 and standard deviation, σ=1;\n",
    "- where μ is the mean (average) and σ is the standard deviation from the mean.\n",
    "\n",
    "Standard scores (also called z scores) of the samples are calculated as follows:"
   ]
  },
  {
   "attachments": {
    "1_2Nx37E6IvuITArzIs5EcCg.webp": {
     "image/webp": "[encoded data removed]"
    }
   },
   "cell_type": "markdown",
   "id": "c04e03c0",
   "metadata": {},
   "source": [
    "![1_2Nx37E6IvuITArzIs5EcCg.webp](attachment:1_2Nx37E6IvuITArzIs5EcCg.webp)\n",
    "This scales the features in a way that they range between [-1,1]"
   ]
  },
  {
   "cell_type": "markdown",
   "id": "1ed8095c",
   "metadata": {},
   "source": [
    "# Implementation"
   ]
  },
  {
   "cell_type": "markdown",
   "id": "89bfe15f",
   "metadata": {},
   "source": [
    "**About the dataset:**\n",
    "\n",
    "- This data set is the result of a chemical analysis of wines grown in the same region\n",
    "- in Italy but derived from three different cultivars.\n",
    "- The analysis determined the quantities of 13 constituents found \n",
    "- in each of the three types of wines."
   ]
  },
  {
   "cell_type": "code",
   "execution_count": 1,
   "id": "85f09842",
   "metadata": {},
   "outputs": [],
   "source": [
    "import pandas as pd"
   ]
  },
  {
   "cell_type": "code",
   "execution_count": 8,
   "id": "ee9ed220",
   "metadata": {},
   "outputs": [],
   "source": [
    "wine = pd.read_csv(\"Wine.csv\",usecols=[0,1,2])\n",
    "wine.rename(columns={'1':'Class','14.23':'Alcohol','1.71':'Malic'},inplace=True)"
   ]
  },
  {
   "cell_type": "code",
   "execution_count": 9,
   "id": "ebba70ef",
   "metadata": {},
   "outputs": [
    {
     "data": {
      "text/html": [
       "<div>\n",
       "<style scoped>\n",
       "    .dataframe tbody tr th:only-of-type {\n",
       "        vertical-align: middle;\n",
       "    }\n",
       "\n",
       "    .dataframe tbody tr th {\n",
       "        vertical-align: top;\n",
       "    }\n",
       "\n",
       "    .dataframe thead th {\n",
       "        text-align: right;\n",
       "    }\n",
       "</style>\n",
       "<table border=\"1\" class=\"dataframe\">\n",
       "  <thead>\n",
       "    <tr style=\"text-align: right;\">\n",
       "      <th></th>\n",
       "      <th>Class</th>\n",
       "      <th>Alcohol</th>\n",
       "      <th>Malic</th>\n",
       "    </tr>\n",
       "  </thead>\n",
       "  <tbody>\n",
       "    <tr>\n",
       "      <th>0</th>\n",
       "      <td>1</td>\n",
       "      <td>13.20</td>\n",
       "      <td>1.78</td>\n",
       "    </tr>\n",
       "    <tr>\n",
       "      <th>1</th>\n",
       "      <td>1</td>\n",
       "      <td>13.16</td>\n",
       "      <td>2.36</td>\n",
       "    </tr>\n",
       "    <tr>\n",
       "      <th>2</th>\n",
       "      <td>1</td>\n",
       "      <td>14.37</td>\n",
       "      <td>1.95</td>\n",
       "    </tr>\n",
       "    <tr>\n",
       "      <th>3</th>\n",
       "      <td>1</td>\n",
       "      <td>13.24</td>\n",
       "      <td>2.59</td>\n",
       "    </tr>\n",
       "    <tr>\n",
       "      <th>4</th>\n",
       "      <td>1</td>\n",
       "      <td>14.20</td>\n",
       "      <td>1.76</td>\n",
       "    </tr>\n",
       "  </tbody>\n",
       "</table>\n",
       "</div>"
      ],
      "text/plain": [
       "   Class  Alcohol  Malic\n",
       "0      1    13.20   1.78\n",
       "1      1    13.16   2.36\n",
       "2      1    14.37   1.95\n",
       "3      1    13.24   2.59\n",
       "4      1    14.20   1.76"
      ]
     },
     "execution_count": 9,
     "metadata": {},
     "output_type": "execute_result"
    }
   ],
   "source": [
    "wine.head()"
   ]
  },
  {
   "cell_type": "code",
   "execution_count": 13,
   "id": "57b16b18",
   "metadata": {},
   "outputs": [
    {
     "data": {
      "image/png": "[encoded data removed]",
      "text/plain": [
       "<Figure size 432x288 with 1 Axes>"
      ]
     },
     "metadata": {
      "needs_background": "light"
     },
     "output_type": "display_data"
    }
   ],
   "source": [
    "import seaborn as sns\n",
    "sns.boxplot(x='Alcohol',data=wine);"
   ]
  },
  {
   "cell_type": "markdown",
   "id": "b638efd6",
   "metadata": {},
   "source": [
    "feature alcohol range from 11–15"
   ]
  },
  {
   "cell_type": "code",
   "execution_count": 14,
   "id": "a9e984aa",
   "metadata": {},
   "outputs": [
    {
     "data": {
      "text/plain": [
       "count    177.000000\n",
       "mean      12.993672\n",
       "std        0.808808\n",
       "min       11.030000\n",
       "25%       12.360000\n",
       "50%       13.050000\n",
       "75%       13.670000\n",
       "max       14.830000\n",
       "Name: Alcohol, dtype: float64"
      ]
     },
     "execution_count": 14,
     "metadata": {},
     "output_type": "execute_result"
    }
   ],
   "source": [
    "wine['Alcohol'].describe()"
   ]
  },
  {
   "cell_type": "markdown",
   "id": "042f9fb5",
   "metadata": {},
   "source": [
    "minimum value around 11.03 and maximum value around 14.83"
   ]
  },
  {
   "cell_type": "code",
   "execution_count": 16,
   "id": "7ccd3348",
   "metadata": {},
   "outputs": [
    {
     "data": {
      "text/plain": [
       "<AxesSubplot:xlabel='Malic'>"
      ]
     },
     "execution_count": 16,
     "metadata": {},
     "output_type": "execute_result"
    },
    {
     "data": {
      "image/png": "[encoded data removed]",
      "text/plain": [
       "<Figure size 432x288 with 1 Axes>"
      ]
     },
     "metadata": {
      "needs_background": "light"
     },
     "output_type": "display_data"
    }
   ],
   "source": [
    "sns.boxplot(x='Malic', data=wine)"
   ]
  },
  {
   "cell_type": "markdown",
   "id": "dbd92e13",
   "metadata": {},
   "source": [
    "features malic lie in the range of 1–6 with few outliers."
   ]
  },
  {
   "cell_type": "code",
   "execution_count": 18,
   "id": "22d34f51",
   "metadata": {},
   "outputs": [
    {
     "data": {
      "text/plain": [
       "count    177.000000\n",
       "mean       2.339887\n",
       "std        1.119314\n",
       "min        0.740000\n",
       "25%        1.600000\n",
       "50%        1.870000\n",
       "75%        3.100000\n",
       "max        5.800000\n",
       "Name: Malic, dtype: float64"
      ]
     },
     "execution_count": 18,
     "metadata": {},
     "output_type": "execute_result"
    }
   ],
   "source": [
    "wine['Malic'].describe()"
   ]
  },
  {
   "cell_type": "markdown",
   "id": "04964e37",
   "metadata": {},
   "source": [
    "Observations:\n",
    "\n",
    "- Feature alcohol ranges between [11,15]\n",
    "- Feature malic ranges in [0.5,6]\n",
    "- When we perform a machine learning algorithm (like KNN)\n",
    "- in which distances are considered, \n",
    "- the model will be biased to the feature, alcohol.\n",
    "- Hence, Feature scaling is necessary for this data set."
   ]
  },
  {
   "cell_type": "markdown",
   "id": "78ad3126",
   "metadata": {},
   "source": [
    "Let us now perform normalization and standardization"
   ]
  },
  {
   "cell_type": "markdown",
   "id": "21c3d8d9",
   "metadata": {},
   "source": [
    "# **Applying Normalization**"
   ]
  },
  {
   "cell_type": "code",
   "execution_count": 19,
   "id": "be3acf4b",
   "metadata": {},
   "outputs": [],
   "source": [
    "from sklearn.preprocessing import MinMaxScaler"
   ]
  },
  {
   "cell_type": "markdown",
   "id": "1fe62d67",
   "metadata": {},
   "source": [
    "Normalization can be achieved using MinMaxScaler."
   ]
  },
  {
   "cell_type": "code",
   "execution_count": 21,
   "id": "04ac2999",
   "metadata": {},
   "outputs": [],
   "source": [
    "# object of MinMaxScaler\n",
    "m = MinMaxScaler()"
   ]
  },
  {
   "cell_type": "code",
   "execution_count": 25,
   "id": "1564f689",
   "metadata": {},
   "outputs": [],
   "source": [
    "new_wine = m.fit_transform(wine[[\"Alcohol\",'Malic']])"
   ]
  },
  {
   "cell_type": "code",
   "execution_count": 59,
   "id": "09114fd3",
   "metadata": {
    "scrolled": true
   },
   "outputs": [
    {
     "name": "stdout",
     "output_type": "stream",
     "text": [
      "Min-value after normalization:\n",
      "Alcohol=0.0, Malic acid=0.0\n",
      "------------------------------\n",
      "Max-value after normalization:\n",
      "Alcohol=1.0, Malic acid=1.0\n"
     ]
    }
   ],
   "source": [
    "print('Min-value after normalization:\\nAlcohol={}, Malic acid={}'.format(new_wine[:,0].min(), new_wine[:,1].min()))\n",
    "print(\"--\"*15)\n",
    "print('Max-value after normalization:\\nAlcohol={}, Malic acid={}'.format(new_wine[:,0].max(), new_wine[:,1].max()))"
   ]
  },
  {
   "cell_type": "markdown",
   "id": "416c1374",
   "metadata": {},
   "source": [
    "**rescaled**"
   ]
  },
  {
   "cell_type": "markdown",
   "id": "d73cabe0",
   "metadata": {},
   "source": [
    "# Applying Standardization"
   ]
  },
  {
   "cell_type": "code",
   "execution_count": 60,
   "id": "55867d37",
   "metadata": {},
   "outputs": [],
   "source": [
    "from sklearn.preprocessing import StandardScaler"
   ]
  },
  {
   "cell_type": "code",
   "execution_count": 61,
   "id": "435c468d",
   "metadata": {},
   "outputs": [],
   "source": [
    "# obj of StandardScaler\n",
    "s = StandardScaler()"
   ]
  },
  {
   "cell_type": "code",
   "execution_count": 63,
   "id": "3e670415",
   "metadata": {},
   "outputs": [],
   "source": [
    "new_wine = s.fit_transform(wine[['Alcohol','Malic']])"
   ]
  },
  {
   "cell_type": "code",
   "execution_count": 77,
   "id": "cf6443c4",
   "metadata": {},
   "outputs": [
    {
     "name": "stdout",
     "output_type": "stream",
     "text": [
      "Mean Value after standardization:\n",
      "Alcohol -0.00 Malic 0.00\n",
      "------------------------------------\n",
      "Standard_deviation Value after standardization:\n",
      "Alcohol 1.00 Malic 1.00\n"
     ]
    }
   ],
   "source": [
    "print(\"Mean Value after standardization:\\nAlcohol {:.2f} Malic {:.2f}\".format(new_wine[:,0].mean(),new_wine[:,1].mean()))\n",
    "print(\"--\"*18)\n",
    "print(\"Standard_deviation Value after standardization:\\nAlcohol {:.2f} Malic {:.2f}\".format(new_wine[:,1].std(),new_wine[:,1].std()))"
   ]
  },
  {
   "cell_type": "markdown",
   "id": "f9439b09",
   "metadata": {},
   "source": [
    "# When to use what?\n",
    "\n",
    "``“ Normalization or Standardization?”`` \n",
    "- There is no obvious answer to this question: it really depends on the application.\n",
    "\n",
    "- For example, in clustering analyses, standardization may be especially\n",
    "- crucial in order to compare similarities between features based on certain distance measures.\n",
    "- Another prominent example is the Principal Component Analysis,\n",
    "- where we usually prefer standardization over\n",
    "- normalization since we are interested in the components that maximize the variance.\n",
    "\n",
    "\n",
    "\n",
    "- However, this doesn’t mean that normalization is not useful at all!\n",
    "- A popular application is image processing, where pixel intensities \n",
    "- have to be normalized to fit within a certain range (i.e., 0 to 255 for the RGB color range).\n",
    "- Also, a typical neural network algorithm requires data on a 0–1 scale."
   ]
  }
 ],
 "metadata": {
  "kernelspec": {
   "display_name": "Python 3",
   "language": "python",
   "name": "python3"
  },
  "language_info": {
   "codemirror_mode": {
    "name": "ipython",
    "version": 3
   },
   "file_extension": ".py",
   "mimetype": "text/x-python",
   "name": "python",
   "nbconvert_exporter": "python",
   "pygments_lexer": "ipython3",
   "version": "3.8.8"
  }
 },
 "nbformat": 4,
 "nbformat_minor": 5
}

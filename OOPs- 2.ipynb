{
 "cells": [
  {
   "cell_type": "markdown",
   "metadata": {},
   "source": [
    "# OOPs-- Part 2"
   ]
  },
  {
   "cell_type": "markdown",
   "metadata": {},
   "source": [
    "**Write OOP classes to handle the following scenarios:**\n",
    "\n",
    "- A user can create and view 2D coordinates\n",
    "- A user can find out the distance between 2 coordinates\n",
    "- A user can find the distance of a coordinate from origin\n",
    "- A user can check if a point lies on a given line\n",
    "- A user can find the distance between a given 2D point and a given line"
   ]
  },
  {
   "cell_type": "code",
   "execution_count": 1,
   "metadata": {},
   "outputs": [],
   "source": [
    "import numpy as np\n",
    "\n",
    "class Point:\n",
    "\n",
    "    def __init__(self,x,y):\n",
    "        #two cordinates\n",
    "        self.x_cod = x\n",
    "        self.y_cod = y\n",
    "\n",
    "\n",
    "    def __str__(self):\n",
    "        return \"<{},{}>\".format(self.x_cod,self.y_cod)\n",
    "\n",
    "    #distance between cordinates\n",
    "    def eculidean_distance(self,other):\n",
    "        return np.sqrt((self.x_cod-other.x_cod )**2  + (self.y_cod - other.y_cod)**2)   \n",
    "\n",
    "    #distance of cordinates from origin\n",
    "    def distance_from_origin(self):\n",
    "        #return np.sqrt((self.x_cod)**2 + (self.y_cod)**2)\n",
    "\n",
    "        #or\n",
    "\n",
    "        return self.eculidean_distance(Point(0,0))      \n",
    "\n",
    "    #if point lies on a given line\n",
    "#2nd class\n",
    "\n",
    "class Line:\n",
    "\n",
    "    def __init__(self,A,B,C):\n",
    "        self.A = A\n",
    "        self.B = B\n",
    "        self.C = C\n",
    "\n",
    "    def __str__(self):\n",
    "        return \"{}x + {}y + {} = 0\".format(self.A,self.B,self.C) \n",
    "\n",
    "    # line>>> self\n",
    "    def point_on_line(line,point):\n",
    "        if line.A*point.x_cod + line.B*point.y_cod + line.C == 0:\n",
    "            return \"lies on line\" \n",
    "        else:\n",
    "            return \"not lie on line\"    \n",
    "\n",
    "    def shortest_distance_btw_line_point(line,point):\n",
    "        return abs(line.A*point.x_cod + line.B*point.y_cod + line.C)/(line.A**2 + line.B**2) \n"
   ]
  },
  {
   "cell_type": "code",
   "execution_count": 2,
   "metadata": {},
   "outputs": [
    {
     "data": {
      "text/plain": [
       "13.45362404707371"
      ]
     },
     "execution_count": 2,
     "metadata": {},
     "output_type": "execute_result"
    }
   ],
   "source": [
    "p1 = Point(1,0) #x_cod,y_cod\n",
    "p2 = Point(10,10)\n",
    "p1.eculidean_distance(p2)"
   ]
  },
  {
   "cell_type": "code",
   "execution_count": 49,
   "metadata": {},
   "outputs": [
    {
     "data": {
      "text/plain": [
       "14.142135623730951"
      ]
     },
     "execution_count": 49,
     "metadata": {},
     "output_type": "execute_result"
    }
   ],
   "source": [
    "p2.distance_from_origin()"
   ]
  },
  {
   "cell_type": "code",
   "execution_count": 53,
   "metadata": {},
   "outputs": [
    {
     "name": "stdout",
     "output_type": "stream",
     "text": [
      "1x + 2y + 0 = 0\n"
     ]
    },
    {
     "data": {
      "text/plain": [
       "'lies on line'"
      ]
     },
     "execution_count": 53,
     "metadata": {},
     "output_type": "execute_result"
    }
   ],
   "source": [
    "l = Line(1,2,0)\n",
    "print(l)\n",
    "p = Point(0,0)\n",
    "l.point_on_line(p) #self that is ''line'' take as l here , & 2nd one is p (point)"
   ]
  },
  {
   "cell_type": "code",
   "execution_count": 64,
   "metadata": {},
   "outputs": [
    {
     "name": "stdout",
     "output_type": "stream",
     "text": [
      "1x + 1y + -2 = 0\n"
     ]
    },
    {
     "data": {
      "text/plain": [
       "4.5"
      ]
     },
     "execution_count": 64,
     "metadata": {},
     "output_type": "execute_result"
    }
   ],
   "source": [
    "l = Line(1,1,-2)\n",
    "print(l)\n",
    "p = Point(1,10)\n",
    "l.shortest_distance_btw_line_point(p)"
   ]
  },
  {
   "cell_type": "markdown",
   "metadata": {},
   "source": [
    "***43:30***"
   ]
  },
  {
   "cell_type": "markdown",
   "metadata": {},
   "source": [
    "# How objects access attributes of the class"
   ]
  },
  {
   "cell_type": "code",
   "execution_count": 1,
   "metadata": {},
   "outputs": [],
   "source": [
    "class Person:\n",
    "\n",
    "    def __init__(self,name_input,country_input):\n",
    "        self.name = name_input\n",
    "        self.country = country_input\n",
    "\n",
    "    def greet(self):\n",
    "        if self.country == 'india':\n",
    "            print(\"Namaste\",self.name)\n",
    "        else:\n",
    "            print(\"Hello\",self.name)        "
   ]
  },
  {
   "cell_type": "code",
   "execution_count": 3,
   "metadata": {},
   "outputs": [
    {
     "name": "stdout",
     "output_type": "stream",
     "text": [
      "Namaste Amit\n"
     ]
    }
   ],
   "source": [
    "# how to access attributes\n",
    "p = Person('Amit','india')\n",
    "p.greet()"
   ]
  },
  {
   "cell_type": "markdown",
   "metadata": {},
   "source": [
    "# Attribute creation from outside of the class"
   ]
  },
  {
   "cell_type": "code",
   "execution_count": 16,
   "metadata": {},
   "outputs": [],
   "source": [
    "p.gender = 'male'"
   ]
  },
  {
   "cell_type": "code",
   "execution_count": 17,
   "metadata": {},
   "outputs": [
    {
     "data": {
      "text/plain": [
       "'male'"
      ]
     },
     "execution_count": 17,
     "metadata": {},
     "output_type": "execute_result"
    }
   ],
   "source": [
    "p.gender"
   ]
  },
  {
   "cell_type": "markdown",
   "metadata": {},
   "source": [
    "# Reference variables\n",
    "\n",
    "- Ref.. vari.. hold the objects\n",
    "- We can create objects without ref.. vari.. as well\n",
    "eg: don't need to do this:\n",
    "p = person() instead also can do: person() \n",
    "- An object can have multiple ref. vari..\n",
    "- Assigning a new ref.. variable to an existing object does not create a new object.\n"
   ]
  },
  {
   "cell_type": "markdown",
   "metadata": {},
   "source": [
    "# Why need ref.. variable to create object just to store \n",
    "- object address it doesn't mean we can not create obj.. without reff. var we\n",
    "- can but to further use or reuse that object we have create ref. variable."
   ]
  },
  {
   "cell_type": "code",
   "execution_count": 18,
   "metadata": {},
   "outputs": [],
   "source": [
    "#object without a reference\n",
    "class Person:\n",
    "\n",
    "    def __init__(self):\n",
    "        self.name = 'amit'\n",
    "        self.gender = 'male'\n",
    "\n",
    "#here , p is n't obj.. it's reference\n",
    "#variable which stores address of the \n",
    "#object.\n",
    "p = Person()\n",
    "#you can also create multiple references\n",
    "q = p"
   ]
  },
  {
   "cell_type": "code",
   "execution_count": 19,
   "metadata": {},
   "outputs": [
    {
     "name": "stdout",
     "output_type": "stream",
     "text": [
      "1578811151888\n",
      "1578811151888\n"
     ]
    }
   ],
   "source": [
    "#multi.. reference\n",
    "print(id(p))\n",
    "print(id(q))"
   ]
  },
  {
   "cell_type": "markdown",
   "metadata": {},
   "source": [
    "**change attrib... value with help of 2nd obj.. or 2nd ref. variable**"
   ]
  },
  {
   "cell_type": "code",
   "execution_count": 21,
   "metadata": {},
   "outputs": [
    {
     "name": "stdout",
     "output_type": "stream",
     "text": [
      "amit\n",
      "amit\n",
      "shardha\n",
      "shardha\n"
     ]
    }
   ],
   "source": [
    "print(p.name)\n",
    "print(q.name)\n",
    "#changes\n",
    "q.name = 'shardha'\n",
    "\n",
    "print(p.name)\n",
    "print(q.name)"
   ]
  },
  {
   "cell_type": "markdown",
   "metadata": {},
   "source": [
    "# Pass by reference\n",
    "\n",
    "- you can pass object of class as input in the  function"
   ]
  },
  {
   "cell_type": "code",
   "execution_count": 6,
   "metadata": {},
   "outputs": [
    {
     "name": "stdout",
     "output_type": "stream",
     "text": [
      "Hi my name is Amit and I am a Male\n"
     ]
    }
   ],
   "source": [
    "class Person:\n",
    "\n",
    "    def __init__(self,name_input,gender_input):\n",
    "        self.name = name_input\n",
    "        self.gender = gender_input\n",
    "# outside the class >> function\n",
    "def greet(person):\n",
    "    print(\"Hi my name is\",person.name,'and I am a',person.gender)\n",
    "\n",
    "p = Person(\"Amit\",\"Male\")\n",
    "greet(p)\n"
   ]
  },
  {
   "cell_type": "code",
   "execution_count": 7,
   "metadata": {},
   "outputs": [
    {
     "name": "stdout",
     "output_type": "stream",
     "text": [
      "Hi my name is Amit and I am a Male\n",
      "Shardha\n",
      "Female\n"
     ]
    }
   ],
   "source": [
    "#return object from function\n",
    "def greet(person):\n",
    "    print(\"Hi my name is\",person.name,'and I am a',person.gender)\n",
    "    p1 = Person(\"Shardha\",\"Female\")\n",
    "    return p1\n",
    "\n",
    "p = Person(\"Amit\",\"Male\")\n",
    "x = greet(p)\n",
    "print(x.name)\n",
    "print(x.gender)    "
   ]
  },
  {
   "cell_type": "markdown",
   "metadata": {},
   "source": [
    "# Object ki mutability\n",
    "- if obj... is mutable then address same else not\n",
    "- generally object of function is mutable"
   ]
  },
  {
   "cell_type": "code",
   "execution_count": 41,
   "metadata": {},
   "outputs": [
    {
     "name": "stdout",
     "output_type": "stream",
     "text": [
      "1578825839760\n",
      "1578825839760\n"
     ]
    }
   ],
   "source": [
    "class Person:\n",
    "\n",
    "    def __init__(self,name_input,gender_input):\n",
    "        self.name = name_input\n",
    "        self.gender = gender_input\n",
    "# outside the class >> function\n",
    "def greet(person):\n",
    "    person.name = 'shrad'\n",
    "    return person\n",
    "\n",
    "p = Person(\"Amit\",\"Male\")\n",
    "print(id(p))\n",
    "p1 = greet(p)\n",
    "print(id(p1))"
   ]
  },
  {
   "cell_type": "markdown",
   "metadata": {},
   "source": [
    "# Encapsulation"
   ]
  },
  {
   "cell_type": "code",
   "execution_count": 44,
   "metadata": {},
   "outputs": [
    {
     "name": "stdout",
     "output_type": "stream",
     "text": [
      "Amit\n",
      "Shradha\n"
     ]
    }
   ],
   "source": [
    "# Instance var -> python tutor\n",
    "# IV is those kind of variable for \n",
    "# which the values will be different\n",
    "# for different objects.\n",
    "# like here in this case IV are name and country\n",
    "# -----------------------------------\n",
    "class Person:\n",
    "\n",
    "    def __init__(self,name_input,country_input):\n",
    "        self.name = name_input\n",
    "        self.country = country_input\n",
    "\n",
    "    p1 = Person(\"Amit\",\"India\")\n",
    "    p2 = Person(\"Shradha\",\"India\")\n",
    "    print(p1.name)\n",
    "    print(p2.name)"
   ]
  },
  {
   "cell_type": "code",
   "execution_count": 17,
   "metadata": {},
   "outputs": [],
   "source": [
    "class Atm:\n",
    "\n",
    "    #constructor\n",
    "    def __init__(self):\n",
    "      self.pin = ''\n",
    "      self.__balance = 0 \n",
    "      self.menu()\n",
    "    \n",
    "    def get_balance(self):\n",
    "      return self.__balance\n",
    "\n",
    "    def set_balance(self,new_value):\n",
    "      if type(new_value) == int:\n",
    "        self.__balance = new_value\n",
    "      else:\n",
    "        print(\"beta bohot maarenge\")    \n",
    "\n",
    "\n",
    "    def menu(self):\n",
    "      user = input(\"\"\"\n",
    "      Hi How Can I Help You?\n",
    "      1. Press 1 to create pin\n",
    "      2. Press 2 to change pin\n",
    "      3. Press 3 to check balance\n",
    "      4. Press 4 to withdraw\n",
    "      5. Anything else to exit\n",
    "      \"\"\")\n",
    "      if user == '1':\n",
    "        self.create_pin()\n",
    "        \n",
    "      elif user == '2':\n",
    "        # change pin \n",
    "        self.change_pin()\n",
    "\n",
    "      elif user == '3':\n",
    "        # check balance\n",
    "        self.check_balance()\n",
    "      elif user == '4':\n",
    "        # withdraw  \n",
    "        self.withdrawl()\n",
    "\n",
    "      else:\n",
    "        print(\"Exited\")\n",
    "\n",
    "\n",
    "    def create_pin(self):\n",
    "\n",
    "      user_pin = int(input(\"Enter pin\"))\n",
    "      self.pin = user_pin\n",
    "          \n",
    "      user_balance = int(input(\"Enter Balance \"))\n",
    "      self.__balance = user_balance\n",
    "      print(\"Pin Set Successfully!\")  \n",
    "      self.menu()\n",
    "\n",
    "    def change_pin(self):\n",
    "      \n",
    "      old_pin = int(input(\"Enter the old pin\"))\n",
    "      if old_pin == self.pin :\n",
    "        new_pin = int(input(\"Enter The New Pin \"))\n",
    "        self.pin = new_pin\n",
    "        print(\"Pin Has Changed Successfully!\")\n",
    "      else:\n",
    "        print(\"Oops Wrong Pin!\") \n",
    "        self.menu()\n",
    "\n",
    "    def check_balance(self):\n",
    "      pin_ = int(input(\"Enter The Pin \"))\n",
    "      if pin_ == self.pin:\n",
    "        print(\"Your available balance is {}\".format (self.__balance))\n",
    "        self.menu()\n",
    "      else:\n",
    "        print(\"Wrong pin entered!\")  \n",
    "        self.menu()\n",
    "\n",
    "    def withdrawl(self):\n",
    "      pin_ = int(input(\"Enter The Pin Here\"))\n",
    "      if pin_ == self.pin:\n",
    "        amount = int(input(\"Enter the amount want to withdraw\"))\n",
    "        if self.__balance >= amount:\n",
    "          self.__balance = self.__balance - amount\n",
    "          print(\"you have withdrawn {}\".format(amount))\n",
    "          self.menu()\n",
    "        else:\n",
    "          print(\"Insufficient fund!\") \n",
    "          self.menu() "
   ]
  },
  {
   "cell_type": "code",
   "execution_count": 18,
   "metadata": {},
   "outputs": [
    {
     "name": "stdout",
     "output_type": "stream",
     "text": [
      "Exited\n"
     ]
    }
   ],
   "source": [
    "obj = Atm()"
   ]
  },
  {
   "cell_type": "code",
   "execution_count": 10,
   "metadata": {},
   "outputs": [
    {
     "name": "stdout",
     "output_type": "stream",
     "text": [
      "Pin Set Successfully!\n",
      "you have withdrawn 1000\n",
      "Exited\n"
     ]
    }
   ],
   "source": [
    "obj.create_pin()\n",
    "obj._Atm__balance = 'hehe'"
   ]
  },
  {
   "cell_type": "code",
   "execution_count": 11,
   "metadata": {},
   "outputs": [
    {
     "ename": "ValueError",
     "evalue": "invalid literal for int() with base 10: ''",
     "output_type": "error",
     "traceback": [
      "\u001b[1;31m---------------------------------------------------------------------------\u001b[0m",
      "\u001b[1;31mValueError\u001b[0m                                Traceback (most recent call last)",
      "\u001b[1;32m<ipython-input-11-7f5542e6a227>\u001b[0m in \u001b[0;36m<module>\u001b[1;34m\u001b[0m\n\u001b[1;32m----> 1\u001b[1;33m \u001b[0mobj\u001b[0m\u001b[1;33m.\u001b[0m\u001b[0mwithdrawl\u001b[0m\u001b[1;33m(\u001b[0m\u001b[1;33m)\u001b[0m\u001b[1;33m\u001b[0m\u001b[1;33m\u001b[0m\u001b[0m\n\u001b[0m",
      "\u001b[1;32m<ipython-input-8-357abb0e017a>\u001b[0m in \u001b[0;36mwithdrawl\u001b[1;34m(self)\u001b[0m\n\u001b[0;32m     70\u001b[0m       \u001b[0mpin_\u001b[0m \u001b[1;33m=\u001b[0m \u001b[0mint\u001b[0m\u001b[1;33m(\u001b[0m\u001b[0minput\u001b[0m\u001b[1;33m(\u001b[0m\u001b[1;34m\"Enter The Pin Here\"\u001b[0m\u001b[1;33m)\u001b[0m\u001b[1;33m)\u001b[0m\u001b[1;33m\u001b[0m\u001b[1;33m\u001b[0m\u001b[0m\n\u001b[0;32m     71\u001b[0m       \u001b[1;32mif\u001b[0m \u001b[0mpin_\u001b[0m \u001b[1;33m==\u001b[0m \u001b[0mself\u001b[0m\u001b[1;33m.\u001b[0m\u001b[0mpin\u001b[0m\u001b[1;33m:\u001b[0m\u001b[1;33m\u001b[0m\u001b[1;33m\u001b[0m\u001b[0m\n\u001b[1;32m---> 72\u001b[1;33m         \u001b[0mamount\u001b[0m \u001b[1;33m=\u001b[0m \u001b[0mint\u001b[0m\u001b[1;33m(\u001b[0m\u001b[0minput\u001b[0m\u001b[1;33m(\u001b[0m\u001b[1;34m\"Enter the amount want to withdraw\"\u001b[0m\u001b[1;33m)\u001b[0m\u001b[1;33m)\u001b[0m\u001b[1;33m\u001b[0m\u001b[1;33m\u001b[0m\u001b[0m\n\u001b[0m\u001b[0;32m     73\u001b[0m         \u001b[1;32mif\u001b[0m \u001b[0mself\u001b[0m\u001b[1;33m.\u001b[0m\u001b[0m__balance\u001b[0m \u001b[1;33m>=\u001b[0m \u001b[0mamount\u001b[0m\u001b[1;33m:\u001b[0m\u001b[1;33m\u001b[0m\u001b[1;33m\u001b[0m\u001b[0m\n\u001b[0;32m     74\u001b[0m           \u001b[0mself\u001b[0m\u001b[1;33m.\u001b[0m\u001b[0m__balance\u001b[0m \u001b[1;33m=\u001b[0m \u001b[0mself\u001b[0m\u001b[1;33m.\u001b[0m\u001b[0m__balance\u001b[0m \u001b[1;33m-\u001b[0m \u001b[0mamount\u001b[0m\u001b[1;33m\u001b[0m\u001b[1;33m\u001b[0m\u001b[0m\n",
      "\u001b[1;31mValueError\u001b[0m: invalid literal for int() with base 10: ''"
     ]
    }
   ],
   "source": [
    "obj.withdrawl()"
   ]
  },
  {
   "cell_type": "markdown",
   "metadata": {},
   "source": [
    "# So from above we can conclude that **``nothing is private``** **``in python ``**"
   ]
  },
  {
   "cell_type": "markdown",
   "metadata": {},
   "source": [
    "**Let suppose a sceneria**\n",
    "- where you want to give a permission to junior programmer to access \n",
    "- the private ``__balance`` part \n",
    "- but you don't want to give direct access so in that you\n",
    "- can create two more methods in the class \n",
    "- i.e., ``get_balance()`` and ``set_balance(new_value)``"
   ]
  },
  {
   "cell_type": "code",
   "execution_count": 19,
   "metadata": {},
   "outputs": [
    {
     "data": {
      "text/plain": [
       "0"
      ]
     },
     "execution_count": 19,
     "metadata": {},
     "output_type": "execute_result"
    }
   ],
   "source": [
    "obj.get_balance()"
   ]
  },
  {
   "cell_type": "code",
   "execution_count": 20,
   "metadata": {},
   "outputs": [
    {
     "name": "stdout",
     "output_type": "stream",
     "text": [
      "beta bohot maarenge\n"
     ]
    }
   ],
   "source": [
    "# passed condition to paas only int\n",
    "# data-type\n",
    "obj.set_balance(\"heehe!!!\")"
   ]
  },
  {
   "cell_type": "code",
   "execution_count": 21,
   "metadata": {},
   "outputs": [
    {
     "data": {
      "text/plain": [
       "0"
      ]
     },
     "execution_count": 21,
     "metadata": {},
     "output_type": "execute_result"
    }
   ],
   "source": [
    "obj.get_balance()"
   ]
  },
  {
   "cell_type": "code",
   "execution_count": 22,
   "metadata": {},
   "outputs": [],
   "source": [
    "obj.set_balance(12300000)"
   ]
  },
  {
   "cell_type": "code",
   "execution_count": 23,
   "metadata": {},
   "outputs": [
    {
     "data": {
      "text/plain": [
       "12300000"
      ]
     },
     "execution_count": 23,
     "metadata": {},
     "output_type": "execute_result"
    }
   ],
   "source": [
    "obj.get_balance()"
   ]
  },
  {
   "cell_type": "code",
   "execution_count": 33,
   "metadata": {},
   "outputs": [
    {
     "name": "stdout",
     "output_type": "stream",
     "text": [
      "--------------------------------------------------------------------------------------\n"
     ]
    }
   ],
   "source": [
    "print(\"--\"*43)"
   ]
  },
  {
   "cell_type": "code",
   "execution_count": 40,
   "metadata": {},
   "outputs": [
    {
     "name": "stdout",
     "output_type": "stream",
     "text": [
      "male nitish\n",
      "Male Amit\n"
     ]
    }
   ],
   "source": [
    "#list of objects\n",
    "class Person:\n",
    "\n",
    "    def __init__(self,name,gender):\n",
    "        self.name = name\n",
    "        self.gender = gender\n",
    "\n",
    "p1 = Person(\"nitish\",'male')\n",
    "p2 = Person(\"Amit\",\"Male\")\n",
    "\n",
    "\n",
    "L = [p1,p2] # can store objects into list\n",
    "#for i in L:\n",
    "    #print(i.name,i.gender)\n",
    "\n",
    "#same with dictionary\n",
    "d = {\"p1\":p1,\"p2\":p2}\n",
    "\n",
    "for i in d:\n",
    "    print(d[i].gender,d[i].name)"
   ]
  },
  {
   "cell_type": "markdown",
   "metadata": {},
   "source": [
    "# Static Variables (Vs instance variables)\n",
    "\n",
    "- SV is the var for which values \n",
    "- will be same for different objects\n",
    "\n",
    "- static var is of class\n",
    "- whereas inst var is of objects\n",
    "\n",
    "\n",
    "- EG: balance in bank >>> instance var.. \n",
    "- EG2: name of holder in bank >>> instance var..\n",
    "- EG3: IFSc code of Acc.Holder is static vra.. since it is same \n",
    "- for almost all customers\n",
    "\n",
    "\n",
    "- Always to identify static var..\n",
    "- remember this >>> class_name.variable\n",
    "\n",
    "- Always to identify instance var..\n",
    "- remember this >>> object_name.variable"
   ]
  },
  {
   "cell_type": "code",
   "execution_count": 83,
   "metadata": {},
   "outputs": [],
   "source": [
    "class Atm:\n",
    "\n",
    "    counter = 1\n",
    "\n",
    "    #constructor\n",
    "    def __init__(self):\n",
    "      self.pin = ''\n",
    "      self.__balance = 0 \n",
    "      self.cid = Atm.__counter\n",
    "      Atm.__counter = Atm.__counter + 1\n",
    "      self.menu()\n",
    "\n",
    "   \n",
    "    def get_counter():\n",
    "      return Atm.__counter\n",
    "\n",
    "    \n",
    "    def get_balance(self):\n",
    "      return self.__balance\n",
    "\n",
    "    def set_balance(self,new_value):\n",
    "      if type(new_value) == int:\n",
    "        self.__balance = new_value\n",
    "      else:\n",
    "        print(\"beta bohot maarenge\")    \n",
    "\n",
    "\n",
    "    def menu(self):\n",
    "      user = input(\"\"\"\n",
    "      Hi How Can I Help You?\n",
    "      1. Press 1 to create pin\n",
    "      2. Press 2 to change pin\n",
    "      3. Press 3 to check balance\n",
    "      4. Press 4 to withdraw\n",
    "      5. Anything else to exit\n",
    "      \"\"\")\n",
    "      if user == '1':\n",
    "        self.create_pin()\n",
    "        \n",
    "      elif user == '2':\n",
    "        # change pin \n",
    "        self.change_pin()\n",
    "\n",
    "      elif user == '3':\n",
    "        # check balance\n",
    "        self.check_balance()\n",
    "      elif user == '4':\n",
    "        # withdraw  \n",
    "        self.withdrawl()\n",
    "\n",
    "      else:\n",
    "        print(\"Exited\")\n",
    "\n",
    "\n",
    "    def create_pin(self):\n",
    "\n",
    "      user_pin = int(input(\"Enter pin\"))\n",
    "      self.pin = user_pin\n",
    "          \n",
    "      user_balance = int(input(\"Enter Balance \"))\n",
    "      self.__balance = user_balance\n",
    "      print(\"Pin Set Successfully!\")  \n",
    "      self.menu()\n",
    "\n",
    "    def change_pin(self):\n",
    "      \n",
    "      old_pin = int(input(\"Enter the old pin\"))\n",
    "      if old_pin == self.pin :\n",
    "        new_pin = int(input(\"Enter The New Pin \"))\n",
    "        self.pin = new_pin\n",
    "        print(\"Pin Has Changed Successfully!\")\n",
    "      else:\n",
    "        print(\"Oops Wrong Pin!\") \n",
    "        self.menu()\n",
    "\n",
    "    def check_balance(self):\n",
    "      pin_ = int(input(\"Enter The Pin \"))\n",
    "      if pin_ == self.pin:\n",
    "        print(\"Your available balance is {}\".format (self.__balance))\n",
    "        self.menu()\n",
    "      else:\n",
    "        print(\"Wrong pin entered!\")  \n",
    "        self.menu()\n",
    "\n",
    "    def withdrawl(self):\n",
    "      pin_ = int(input(\"Enter The Pin Here\"))\n",
    "      if pin_ == self.pin:\n",
    "        amount = int(input(\"Enter the amount want to withdraw\"))\n",
    "        if self.__balance >= amount:\n",
    "          self.__balance = self.__balance - amount\n",
    "          print(\"you have withdrawn {}\".format(amount))\n",
    "          self.menu()\n",
    "        else:\n",
    "          print(\"Insufficient fund!\") \n",
    "          self.menu() "
   ]
  },
  {
   "cell_type": "code",
   "execution_count": 75,
   "metadata": {},
   "outputs": [],
   "source": [
    "obj = Atm()"
   ]
  },
  {
   "cell_type": "code",
   "execution_count": null,
   "metadata": {},
   "outputs": [],
   "source": [
    "Atm.get_counter() # accessing static method"
   ]
  },
  {
   "cell_type": "code",
   "execution_count": 85,
   "metadata": {},
   "outputs": [
    {
     "name": "stdout",
     "output_type": "stream",
     "text": [
      "1\n",
      "2\n",
      "3\n"
     ]
    }
   ],
   "source": [
    "print(c1.cid)\n",
    "print(c2.cid)\n",
    "print(c3.cid)"
   ]
  },
  {
   "cell_type": "code",
   "execution_count": null,
   "metadata": {},
   "outputs": [],
   "source": []
  }
 ],
 "metadata": {
  "kernelspec": {
   "display_name": "Python 3.8.8 ('base')",
   "language": "python",
   "name": "python3"
  },
  "language_info": {
   "codemirror_mode": {
    "name": "ipython",
    "version": 3
   },
   "file_extension": ".py",
   "mimetype": "text/x-python",
   "name": "python",
   "nbconvert_exporter": "python",
   "pygments_lexer": "ipython3",
   "version": "3.8.8"
  },
  "orig_nbformat": 4,
  "vscode": {
   "interpreter": {
    "hash": "ad2bdc8ecc057115af97d19610ffacc2b4e99fae6737bb82f5d7fb13d2f2c186"
   }
  }
 },
 "nbformat": 4,
 "nbformat_minor": 2
}

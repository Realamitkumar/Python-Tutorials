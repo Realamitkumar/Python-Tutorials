{
 "cells": [
  {
   "cell_type": "markdown",
   "metadata": {},
   "source": [
    "# OOPs Day -3"
   ]
  },
  {
   "cell_type": "markdown",
   "metadata": {},
   "source": [
    "**Class Relationship**\n",
    "- Aggregation\n",
    "- Inheritance"
   ]
  },
  {
   "cell_type": "markdown",
   "metadata": {},
   "source": [
    "# Aggregation (Has-A relationship)\n",
    "\n",
    "- basically when two classes ``has a realtionship``\n",
    "- or with``in`` the ``object`` of the ``main class`` ``pass``ing the ``obj``ect `of` ``another`` ``class`` as ``input`` to the ``custructor``.\n",
    "- if you use aggregation can't access private variable that is ``__``"
   ]
  },
  {
   "cell_type": "code",
   "execution_count": 18,
   "metadata": {},
   "outputs": [
    {
     "name": "stdout",
     "output_type": "stream",
     "text": [
      "Delhi 110037 New Delhi\n"
     ]
    }
   ],
   "source": [
    "#eg\n",
    "class Customer:\n",
    "\n",
    "    def __init__(self,name , gender, address):\n",
    "        self.name = name\n",
    "        self.gender = gender\n",
    "        self.address = address\n",
    "\n",
    "    def print_address(self):\n",
    "        print(self.address.city,self.address.pin,self.address.state)\n",
    "\n",
    "class Address:\n",
    "\n",
    "    def __init__(self,city,pin,state):\n",
    "        self.city = city\n",
    "        self.pin = pin\n",
    "        self.state = state\n",
    "\n",
    "\n",
    "add1  = Address(\"Delhi\",\"110037\",\"New Delhi\")\n",
    "cust = Customer(\"Amit\",\"Male\",add1) \n",
    "cust.print_address()"
   ]
  },
  {
   "cell_type": "code",
   "execution_count": 15,
   "metadata": {},
   "outputs": [
    {
     "name": "stdout",
     "output_type": "stream",
     "text": [
      "Delhi 110037 New Delhi\n"
     ]
    }
   ],
   "source": [
    "# But if you want to access private\n",
    "# var then can create ``get()`` function\n",
    "\n",
    "\n",
    "\n",
    "#eg\n",
    "class Customer:\n",
    "\n",
    "    def __init__(self,name , gender, address):\n",
    "        self.name = name\n",
    "        self.gender = gender\n",
    "        self.address = address\n",
    "\n",
    "    def print_address(self):\n",
    "        print(self.address.get_city(),self.address.pin,self.address.state)\n",
    "\n",
    "class Address:\n",
    "\n",
    "    def __init__(self,city,pin,state):\n",
    "        self.__city = city\n",
    "        self.pin = pin\n",
    "        self.state = state\n",
    "\n",
    "    def get_city(self):\n",
    "        return self.__city\n",
    "\n",
    "\n",
    "add1  = Address(\"Delhi\",\"110037\",\"New Delhi\")\n",
    "cust = Customer(\"Amit\",\"Male\",add1) \n",
    "cust.print_address()"
   ]
  },
  {
   "cell_type": "code",
   "execution_count": 26,
   "metadata": {},
   "outputs": [
    {
     "name": "stdout",
     "output_type": "stream",
     "text": [
      "Delhi 110037 New Delhi\n",
      "Mumbai 122089 Maharashtra\n"
     ]
    }
   ],
   "source": [
    "#eg\n",
    "class Customer:\n",
    "\n",
    "    def __init__(self,name , gender, address):\n",
    "        self.name = name\n",
    "        self.gender = gender\n",
    "        self.address = address\n",
    "\n",
    "\n",
    "    def print_address(self):\n",
    "        print(self.address.city,self.address.pin,self.address.state)\n",
    "\n",
    "    def edit_profile(self,new_name,new_city,new_pin,new_state):\n",
    "        self.name = new_name\n",
    "        self.address.edit_address(new_city,new_pin,new_state)\n",
    "\n",
    "\n",
    "class Address:\n",
    "\n",
    "    def __init__(self,city,pin,state):\n",
    "        self.city = city\n",
    "        self.pin = pin\n",
    "        self.state = state\n",
    "\n",
    "    def edit_address(self,new_city,new_pin,new_state):\n",
    "        self.city = new_city\n",
    "        self.pin = new_pin\n",
    "        self.state = new_state\n",
    "\n",
    "\n",
    "add1  = Address(\"Delhi\",\"110037\",\"New Delhi\")\n",
    "cust = Customer(\"Amit\",\"Male\",add1) \n",
    "cust.print_address()\n",
    "\n",
    "cust.edit_profile(\"Shradha\",\"Mumbai\",\"122089\",\"Maharashtra\")\n",
    "cust.print_address()"
   ]
  },
  {
   "cell_type": "markdown",
   "metadata": {},
   "source": [
    "# **Inheritance**\n",
    "- What is inheritence\n",
    "- Example\n",
    "- What gets inherited?"
   ]
  },
  {
   "cell_type": "code",
   "execution_count": 30,
   "metadata": {},
   "outputs": [],
   "source": [
    "# Inheritance and it's benefits"
   ]
  },
  {
   "cell_type": "code",
   "execution_count": 38,
   "metadata": {},
   "outputs": [
    {
     "name": "stdout",
     "output_type": "stream",
     "text": [
      "Amit\n"
     ]
    }
   ],
   "source": [
    "# Example\n",
    "\n",
    "#parent class\n",
    "class user:\n",
    "\n",
    "    def __init__(self):\n",
    "        self.name = \"Amit\"\n",
    "\n",
    "    def login(self):\n",
    "        print(\"Login\")\n",
    "\n",
    "#child class\n",
    "class student(user):\n",
    "\n",
    "    def enroll(self):\n",
    "        print(\"enroll into the course\")         \n",
    "\n",
    "\n",
    "u = user()\n",
    "s = student()\n",
    "print(s.name)# can access with stu. obj .. \n",
    "# method of parent(user) class"
   ]
  },
  {
   "cell_type": "markdown",
   "metadata": {},
   "source": []
  },
  {
   "cell_type": "code",
   "execution_count": 29,
   "metadata": {},
   "outputs": [],
   "source": [
    "# Class diagram"
   ]
  },
  {
   "cell_type": "markdown",
   "metadata": {},
   "source": [
    "**What gets inherited?**\n",
    "- Constructor\n",
    "- Non- private attributes or methods"
   ]
  },
  {
   "cell_type": "code",
   "execution_count": 44,
   "metadata": {},
   "outputs": [
    {
     "name": "stdout",
     "output_type": "stream",
     "text": [
      "Inside phone constructor\n"
     ]
    }
   ],
   "source": [
    "# constructor example\n",
    "\n",
    "class Phone:\n",
    "    def __init__(self,price,brand,camera):\n",
    "        print(\"Inside phone constructor\")\n",
    "        self.price = price\n",
    "        self.brand = brand\n",
    "        self.camera = camera\n",
    "\n",
    "    def buy(self):\n",
    "        print(\"Buying a phone\")\n",
    "\n",
    "class SmartPhone(Phone):\n",
    "    pass\n",
    "\n",
    "\n",
    "s = SmartPhone(20000,\"Apple\",48)"
   ]
  },
  {
   "cell_type": "code",
   "execution_count": 48,
   "metadata": {},
   "outputs": [
    {
     "name": "stdout",
     "output_type": "stream",
     "text": [
      "Inside SmartPhone Constructor\n"
     ]
    }
   ],
   "source": [
    "# constructor example\n",
    "\n",
    "class Phone:\n",
    "    def __init__(self,price,brand,camera):\n",
    "        print(\"Inside phone constructor\")\n",
    "        self.price = price\n",
    "        self.brand = brand\n",
    "        self.camera = camera\n",
    "\n",
    "    def buy(self):\n",
    "        print(\"Buying a phone\")\n",
    "\n",
    "class SmartPhone(Phone):\n",
    "\n",
    "    def __init__(self,os,ram):\n",
    "        self.os = os\n",
    "        self.ram = ram\n",
    "        print(\"Inside SmartPhone Constructor\")\n",
    "\n",
    "s = SmartPhone(\"IOS\",4)\n",
    "\n",
    "# Time Stamp -- Camp..X (01:01:00)"
   ]
  },
  {
   "cell_type": "code",
   "execution_count": 2,
   "metadata": {},
   "outputs": [
    {
     "name": "stdout",
     "output_type": "stream",
     "text": [
      "Inside phone constructor\n"
     ]
    },
    {
     "ename": "AttributeError",
     "evalue": "'SmartPhone' object has no attribute '_SmartPhone__price'",
     "output_type": "error",
     "traceback": [
      "\u001b[1;31m---------------------------------------------------------------------------\u001b[0m",
      "\u001b[1;31mAttributeError\u001b[0m                            Traceback (most recent call last)",
      "\u001b[1;32mc:\\Users\\amitt\\OneDrive\\Desktop\\OOPs Day -3 poly,inheritence.ipynb Cell 15\u001b[0m in \u001b[0;36m<cell line: 19>\u001b[1;34m()\u001b[0m\n\u001b[0;32m     <a href='vscode-notebook-cell:/c%3A/Users/amitt/OneDrive/Desktop/OOPs%20Day%20-3%20poly%2Cinheritence.ipynb#X20sZmlsZQ%3D%3D?line=15'>16</a>\u001b[0m         \u001b[39mprint\u001b[39m(\u001b[39mself\u001b[39m\u001b[39m.\u001b[39m__price)\n\u001b[0;32m     <a href='vscode-notebook-cell:/c%3A/Users/amitt/OneDrive/Desktop/OOPs%20Day%20-3%20poly%2Cinheritence.ipynb#X20sZmlsZQ%3D%3D?line=17'>18</a>\u001b[0m s \u001b[39m=\u001b[39m SmartPhone(\u001b[39m20000\u001b[39m,\u001b[39m\"\u001b[39m\u001b[39mIOS\u001b[39m\u001b[39m\"\u001b[39m,\u001b[39m40\u001b[39m)\n\u001b[1;32m---> <a href='vscode-notebook-cell:/c%3A/Users/amitt/OneDrive/Desktop/OOPs%20Day%20-3%20poly%2Cinheritence.ipynb#X20sZmlsZQ%3D%3D?line=18'>19</a>\u001b[0m s\u001b[39m.\u001b[39;49mcheck()\n",
      "\u001b[1;32mc:\\Users\\amitt\\OneDrive\\Desktop\\OOPs Day -3 poly,inheritence.ipynb Cell 15\u001b[0m in \u001b[0;36mSmartPhone.check\u001b[1;34m(self)\u001b[0m\n\u001b[0;32m     <a href='vscode-notebook-cell:/c%3A/Users/amitt/OneDrive/Desktop/OOPs%20Day%20-3%20poly%2Cinheritence.ipynb#X20sZmlsZQ%3D%3D?line=14'>15</a>\u001b[0m \u001b[39mdef\u001b[39;00m \u001b[39mcheck\u001b[39m(\u001b[39mself\u001b[39m):\n\u001b[1;32m---> <a href='vscode-notebook-cell:/c%3A/Users/amitt/OneDrive/Desktop/OOPs%20Day%20-3%20poly%2Cinheritence.ipynb#X20sZmlsZQ%3D%3D?line=15'>16</a>\u001b[0m     \u001b[39mprint\u001b[39m(\u001b[39mself\u001b[39;49m\u001b[39m.\u001b[39;49m__price)\n",
      "\u001b[1;31mAttributeError\u001b[0m: 'SmartPhone' object has no attribute '_SmartPhone__price'"
     ]
    }
   ],
   "source": [
    "# child can't access private members of the parent class\n",
    "\n",
    "class Phone:\n",
    "    def __init__(self,price,brand,camera):\n",
    "        print(\"Inside phone constructor\")\n",
    "        self.__price = price\n",
    "        self.brand = brand\n",
    "        self.camera = camera\n",
    "\n",
    "    def show(self):\n",
    "        print(self.__price)\n",
    "\n",
    "class SmartPhone(Phone):\n",
    "\n",
    "    def check(self):\n",
    "        print(self.__price)\n",
    "\n",
    "s = SmartPhone(20000,\"IOS\",40)\n",
    "s.check()"
   ]
  },
  {
   "cell_type": "code",
   "execution_count": 3,
   "metadata": {},
   "outputs": [
    {
     "name": "stdout",
     "output_type": "stream",
     "text": [
      "100\n",
      "This is in child class\n"
     ]
    }
   ],
   "source": [
    "#but you can access private mem of parent class\n",
    "# from child class with the help of\n",
    "# getter method that is ``get_num()``\n",
    "class parent:\n",
    "\n",
    "    def __init__(self,num):\n",
    "        self.__num = num\n",
    "\n",
    "    def get_num(self):\n",
    "        return self.__num\n",
    "\n",
    "class child(parent):\n",
    "\n",
    "    def show(self):\n",
    "        print(\"This is in child class\")\n",
    "\n",
    "son = child(100)\n",
    "print(son.get_num())\n",
    "son.show()                    "
   ]
  },
  {
   "cell_type": "code",
   "execution_count": 7,
   "metadata": {},
   "outputs": [
    {
     "name": "stdout",
     "output_type": "stream",
     "text": [
      "class A : 100\n"
     ]
    }
   ],
   "source": [
    "class A:\n",
    "    def __init__(self):\n",
    "        self.var1 = 100\n",
    "\n",
    "    def display1(self,var1):\n",
    "        print(\"class A :\",self.var1)\n",
    "\n",
    "class B(A):\n",
    "\n",
    "    def display2(self,var1):\n",
    "        print(\"class B : \",self.var1)\n",
    "\n",
    "obj = B()\n",
    "obj.display1(200)                    "
   ]
  },
  {
   "cell_type": "code",
   "execution_count": 8,
   "metadata": {},
   "outputs": [
    {
     "name": "stdout",
     "output_type": "stream",
     "text": [
      "class A : 200\n"
     ]
    }
   ],
   "source": [
    "class A:\n",
    "    def __init__(self):\n",
    "        self.var1 = 100\n",
    "\n",
    "    def display1(self,var1):\n",
    "        self.var1 = var1\n",
    "        print(\"class A :\",self.var1)\n",
    "\n",
    "class B(A):\n",
    "\n",
    "    def display2(self,var1):\n",
    "        print(\"class B : \",self.var1)\n",
    "\n",
    "obj = B()\n",
    "obj.display1(200)                    "
   ]
  },
  {
   "cell_type": "markdown",
   "metadata": {},
   "source": [
    "**Method Overriding**\n",
    "\n",
    "- if parents and child are both have methods of same name\n",
    "- then by inheritence always method of child class will get \n",
    "- executed \n",
    "- like , you can see in below example"
   ]
  },
  {
   "cell_type": "code",
   "execution_count": 9,
   "metadata": {},
   "outputs": [
    {
     "name": "stdout",
     "output_type": "stream",
     "text": [
      "Inside phone constructor\n",
      "Buying a smartphone\n"
     ]
    }
   ],
   "source": [
    "class Phone:\n",
    "\n",
    "    def __init__(self,price,brand,camera):\n",
    "        print(\"Inside phone constructor\")\n",
    "        self.__price = price\n",
    "        self.brand = brand\n",
    "        self.camera  = camera\n",
    "\n",
    "    def buy(Self):\n",
    "        print(\"Buying a phone\")\n",
    "\n",
    "class smartphone(Phone):\n",
    "\n",
    "    def buy(self):\n",
    "        print(\"Buying a smartphone\")\n",
    "\n",
    "s = smartphone(65000,\"Apple\",12.5)\n",
    "s.buy()        \n",
    "    "
   ]
  },
  {
   "cell_type": "markdown",
   "metadata": {},
   "source": [
    "**Super Keyword**\n",
    "- **``Super key``** is a way to access the method or constructor of parent class "
   ]
  },
  {
   "cell_type": "code",
   "execution_count": 10,
   "metadata": {},
   "outputs": [
    {
     "name": "stdout",
     "output_type": "stream",
     "text": [
      "Inside phone constructor\n",
      "Buying a smartphone\n",
      "Buying a phone\n"
     ]
    }
   ],
   "source": [
    "class Phone:\n",
    "\n",
    "    def __init__(self,price,brand,camera):\n",
    "        print(\"Inside phone constructor\")\n",
    "        self.__price = price\n",
    "        self.brand = brand\n",
    "        self.camera  = camera\n",
    "\n",
    "    def buy(Self):\n",
    "        print(\"Buying a phone\")\n",
    "\n",
    "class smartphone(Phone):\n",
    "\n",
    "    def buy(self):\n",
    "        print(\"Buying a smartphone\")\n",
    "        # syntax to call parent ka buy() method\n",
    "        super().buy()\n",
    "\n",
    "s = smartphone(65000,\"Apple\",12.5)\n",
    "s.buy()"
   ]
  },
  {
   "cell_type": "code",
   "execution_count": 15,
   "metadata": {},
   "outputs": [
    {
     "name": "stdout",
     "output_type": "stream",
     "text": [
      "Inside smartphone constructor\n",
      "Inside phone constructor\n",
      "inside smartphone constructor\n",
      "IOS\n",
      "4\n"
     ]
    }
   ],
   "source": [
    "# here super()---> constructor--> parent\n",
    "class Phone:\n",
    "\n",
    "    def __init__(self,price,brand,camera):\n",
    "        print(\"Inside phone constructor\")\n",
    "        self.__price = price\n",
    "        self.brand = brand\n",
    "        self.camera  = camera\n",
    "\n",
    "    def buy(Self):\n",
    "        print(\"Buying a phone\")\n",
    "\n",
    "class smartphone(Phone):\n",
    "\n",
    "    def __init__(self,price,brand,camera,os,ram):\n",
    "        print(\"Inside smartphone constructor\")\n",
    "        super().__init__(price,brand,camera) # transfer to parent constructor\n",
    "        self.os = os\n",
    "        self.ram = ram\n",
    "        print(\"inside smartphone constructor\")\n",
    "    \n",
    "s = smartphone(65000,\"Apple\",12.5,\"IOS\",4)\n",
    "print(s.os)\n",
    "print(s.ram)"
   ]
  },
  {
   "cell_type": "code",
   "execution_count": 3,
   "metadata": {},
   "outputs": [],
   "source": [
    "# using super outside the class\n",
    "# not work\n",
    "# super()  will always in child class\n",
    "# to call parent ka method"
   ]
  },
  {
   "cell_type": "code",
   "execution_count": 5,
   "metadata": {},
   "outputs": [
    {
     "name": "stdout",
     "output_type": "stream",
     "text": [
      "Inside smartphone constructor\n"
     ]
    },
    {
     "ename": "AttributeError",
     "evalue": "'super' object has no attribute 'brand'",
     "output_type": "error",
     "traceback": [
      "\u001b[1;31m---------------------------------------------------------------------------\u001b[0m",
      "\u001b[1;31mAttributeError\u001b[0m                            Traceback (most recent call last)",
      "\u001b[1;32mc:\\Users\\amitt\\OneDrive\\Desktop\\OOPs Day -3 poly,inheritence.ipynb Cell 25\u001b[0m in \u001b[0;36m<cell line: 25>\u001b[1;34m()\u001b[0m\n\u001b[0;32m     <a href='vscode-notebook-cell:/c%3A/Users/amitt/OneDrive/Desktop/OOPs%20Day%20-3%20poly%2Cinheritence.ipynb#X33sZmlsZQ%3D%3D?line=21'>22</a>\u001b[0m         \u001b[39mself\u001b[39m\u001b[39m.\u001b[39mram \u001b[39m=\u001b[39m ram\n\u001b[0;32m     <a href='vscode-notebook-cell:/c%3A/Users/amitt/OneDrive/Desktop/OOPs%20Day%20-3%20poly%2Cinheritence.ipynb#X33sZmlsZQ%3D%3D?line=22'>23</a>\u001b[0m         \u001b[39mprint\u001b[39m(\u001b[39m\"\u001b[39m\u001b[39minside smartphone constructor\u001b[39m\u001b[39m\"\u001b[39m)\n\u001b[1;32m---> <a href='vscode-notebook-cell:/c%3A/Users/amitt/OneDrive/Desktop/OOPs%20Day%20-3%20poly%2Cinheritence.ipynb#X33sZmlsZQ%3D%3D?line=24'>25</a>\u001b[0m s \u001b[39m=\u001b[39m smartphone(\u001b[39m65000\u001b[39;49m,\u001b[39m\"\u001b[39;49m\u001b[39mApple\u001b[39;49m\u001b[39m\"\u001b[39;49m,\u001b[39m12.5\u001b[39;49m,\u001b[39m\"\u001b[39;49m\u001b[39mIOS\u001b[39;49m\u001b[39m\"\u001b[39;49m,\u001b[39m4\u001b[39;49m)\n\u001b[0;32m     <a href='vscode-notebook-cell:/c%3A/Users/amitt/OneDrive/Desktop/OOPs%20Day%20-3%20poly%2Cinheritence.ipynb#X33sZmlsZQ%3D%3D?line=25'>26</a>\u001b[0m \u001b[39mprint\u001b[39m(s\u001b[39m.\u001b[39mos)\n\u001b[0;32m     <a href='vscode-notebook-cell:/c%3A/Users/amitt/OneDrive/Desktop/OOPs%20Day%20-3%20poly%2Cinheritence.ipynb#X33sZmlsZQ%3D%3D?line=26'>27</a>\u001b[0m \u001b[39mprint\u001b[39m(s\u001b[39m.\u001b[39mram)\n",
      "\u001b[1;32mc:\\Users\\amitt\\OneDrive\\Desktop\\OOPs Day -3 poly,inheritence.ipynb Cell 25\u001b[0m in \u001b[0;36msmartphone.__init__\u001b[1;34m(self, price, brand, camera, os, ram)\u001b[0m\n\u001b[0;32m     <a href='vscode-notebook-cell:/c%3A/Users/amitt/OneDrive/Desktop/OOPs%20Day%20-3%20poly%2Cinheritence.ipynb#X33sZmlsZQ%3D%3D?line=17'>18</a>\u001b[0m \u001b[39mdef\u001b[39;00m \u001b[39m__init__\u001b[39m(\u001b[39mself\u001b[39m,price,brand,camera,os,ram):\n\u001b[0;32m     <a href='vscode-notebook-cell:/c%3A/Users/amitt/OneDrive/Desktop/OOPs%20Day%20-3%20poly%2Cinheritence.ipynb#X33sZmlsZQ%3D%3D?line=18'>19</a>\u001b[0m     \u001b[39mprint\u001b[39m(\u001b[39m\"\u001b[39m\u001b[39mInside smartphone constructor\u001b[39m\u001b[39m\"\u001b[39m)\n\u001b[1;32m---> <a href='vscode-notebook-cell:/c%3A/Users/amitt/OneDrive/Desktop/OOPs%20Day%20-3%20poly%2Cinheritence.ipynb#X33sZmlsZQ%3D%3D?line=19'>20</a>\u001b[0m     \u001b[39msuper\u001b[39;49m()\u001b[39m.\u001b[39;49mbrand() \n\u001b[0;32m     <a href='vscode-notebook-cell:/c%3A/Users/amitt/OneDrive/Desktop/OOPs%20Day%20-3%20poly%2Cinheritence.ipynb#X33sZmlsZQ%3D%3D?line=20'>21</a>\u001b[0m     \u001b[39mself\u001b[39m\u001b[39m.\u001b[39mos \u001b[39m=\u001b[39m os\n\u001b[0;32m     <a href='vscode-notebook-cell:/c%3A/Users/amitt/OneDrive/Desktop/OOPs%20Day%20-3%20poly%2Cinheritence.ipynb#X33sZmlsZQ%3D%3D?line=21'>22</a>\u001b[0m     \u001b[39mself\u001b[39m\u001b[39m.\u001b[39mram \u001b[39m=\u001b[39m ram\n",
      "\u001b[1;31mAttributeError\u001b[0m: 'super' object has no attribute 'brand'"
     ]
    }
   ],
   "source": [
    "# can super access parent ka data?\n",
    "# Ans: can 't access attrib.. of parent\n",
    "# class with super()\n",
    "\n",
    "class Phone:\n",
    "\n",
    "    def __init__(self,price,brand,camera):\n",
    "        print(\"Inside phone constructor\")\n",
    "        self.__price = price\n",
    "        self.brand = brand\n",
    "        self.camera  = camera\n",
    "\n",
    "    def buy(Self):\n",
    "        print(\"Buying a phone\")\n",
    "\n",
    "class smartphone(Phone):\n",
    "\n",
    "    def __init__(self,price,brand,camera,os,ram):\n",
    "        print(\"Inside smartphone constructor\")\n",
    "        super().brand() \n",
    "        self.os = os\n",
    "        self.ram = ram\n",
    "        print(\"inside smartphone constructor\")\n",
    "    \n",
    "s = smartphone(65000,\"Apple\",12.5,\"IOS\",4)\n",
    "print(s.os)\n",
    "print(s.ram)"
   ]
  },
  {
   "cell_type": "code",
   "execution_count": 14,
   "metadata": {},
   "outputs": [
    {
     "name": "stdout",
     "output_type": "stream",
     "text": [
      "100\n",
      "200\n"
     ]
    }
   ],
   "source": [
    "# practice 1\n",
    "class Parent:\n",
    "\n",
    "    def __init__(self,num):\n",
    "        self.__num = num\n",
    "\n",
    "    def get_num(self):\n",
    "        return self.__num\n",
    "\n",
    "class Child(Parent):\n",
    "\n",
    "    def __init__(self,num,val):\n",
    "        super().__init__(num)\n",
    "        self.__val = val\n",
    "\n",
    "    def get_val(self):\n",
    "        return self.__val\n",
    "\n",
    "son = Child(100,200)\n",
    "print(son.get_num())\n",
    "print(son.get_val())                                "
   ]
  },
  {
   "cell_type": "code",
   "execution_count": 15,
   "metadata": {},
   "outputs": [
    {
     "name": "stdout",
     "output_type": "stream",
     "text": [
      "100\n",
      "200\n"
     ]
    }
   ],
   "source": [
    "#practice 2\n",
    "class Parent:\n",
    "\n",
    "    def __init__(self):\n",
    "        self.num = 100\n",
    "\n",
    "class Child(Parent):\n",
    "\n",
    "    def __init__(self):\n",
    "        super().__init__()\n",
    "        self.val = 200\n",
    "\n",
    "    def show(self):\n",
    "        print(self.num)\n",
    "        print(self.val)\n",
    "\n",
    "son = Child()\n",
    "son.show()"
   ]
  },
  {
   "cell_type": "code",
   "execution_count": 16,
   "metadata": {},
   "outputs": [
    {
     "name": "stdout",
     "output_type": "stream",
     "text": [
      "Child : 10\n"
     ]
    }
   ],
   "source": [
    "#practice 3\n",
    "class Parent:\n",
    "\n",
    "    def __init__(self):\n",
    "        self.__num = 100\n",
    "\n",
    "    def show(self):\n",
    "        print(\"Parent:\",self.__num)\n",
    "\n",
    "\n",
    "class Child(Parent):\n",
    "\n",
    "    def __init__(self):\n",
    "        super().__init__()\n",
    "        self.__val = 10\n",
    "\n",
    "    def show(self):\n",
    "        print(\"Child :\",self.__val)\n",
    "\n",
    "son = Child()\n",
    "son.show()"
   ]
  },
  {
   "cell_type": "markdown",
   "metadata": {},
   "source": [
    "# **Types of inheritance**\n",
    "\n",
    "- Single Inheritance(**That we did in above ``example``**)\n",
    "- Multilevel Inheritance\n",
    "- Hierarchical Inheritance\n",
    "- Multiple Inheritance"
   ]
  },
  {
   "cell_type": "code",
   "execution_count": 18,
   "metadata": {},
   "outputs": [],
   "source": [
    "# Single inheritance we have already seen"
   ]
  },
  {
   "cell_type": "code",
   "execution_count": 24,
   "metadata": {},
   "outputs": [
    {
     "name": "stdout",
     "output_type": "stream",
     "text": [
      "Inside phone constructor\n",
      "Buying a phone\n",
      "Product customer review\n"
     ]
    }
   ],
   "source": [
    "# multi-level inheritance\n",
    "class Product:\n",
    "    def review(self):\n",
    "        print(\"Product customer review\")\n",
    "\n",
    "class Phone(Product):\n",
    "    def __init__(self,price,brand,camera):\n",
    "        print(\"Inside phone constructor\")\n",
    "        self.__price = price\n",
    "        self.brand = brand\n",
    "        self.camera = camera\n",
    "\n",
    "    def get_price(self):\n",
    "        return (\"Price is :\",self.__price)    \n",
    "\n",
    "    def buy(self):\n",
    "        print(\"Buying a phone\")\n",
    "\n",
    "class SmartPhone(Phone):\n",
    "    pass\n",
    "\n",
    "\n",
    "s = SmartPhone(100000,\"Apple\",48)\n",
    "s.buy()\n",
    "s.review()"
   ]
  },
  {
   "cell_type": "code",
   "execution_count": 26,
   "metadata": {},
   "outputs": [
    {
     "name": "stdout",
     "output_type": "stream",
     "text": [
      "Inside phone constructor\n",
      "Buying a phone\n",
      "Inside phone constructor\n",
      "Buying a phone\n"
     ]
    }
   ],
   "source": [
    "# Hierarchical\n",
    "class Phone: # Parent\n",
    "    def __init__(self,price,brand,camera):\n",
    "        print(\"Inside phone constructor\")\n",
    "        self.__price = price\n",
    "        self.brand = brand\n",
    "        self.camera = camera\n",
    "\n",
    "    def buy(self):\n",
    "        print(\"Buying a phone\")\n",
    "\n",
    "class SmartPhone(Phone):#child\n",
    "    pass\n",
    "\n",
    "class FeaturePhone(Phone):#child\n",
    "    pass\n",
    "\n",
    "SmartPhone(100000,\"Apple\",48).buy()\n",
    "FeaturePhone(10,\"Lava\",13).buy()"
   ]
  },
  {
   "cell_type": "code",
   "execution_count": 27,
   "metadata": {},
   "outputs": [
    {
     "name": "stdout",
     "output_type": "stream",
     "text": [
      "Inside phone constructor\n",
      "Buying a phone\n",
      "Customer review\n"
     ]
    }
   ],
   "source": [
    "# Multiple \n",
    "class Phone: # 1st Parent\n",
    "    def __init__(self,price,brand,camera):\n",
    "        print(\"Inside phone constructor\")\n",
    "        self.__price = price\n",
    "        self.brand = brand\n",
    "        self.camera = camera\n",
    "\n",
    "    def buy(self):\n",
    "        print(\"Buying a phone\")\n",
    "\n",
    "class Product: # 2nd Parent\n",
    "    def review(self):\n",
    "        print(\"Customer review\")\n",
    "\n",
    "class SmartPhone(Phone,Product):#child class inherit both parents\n",
    "    pass\n",
    "\n",
    "s = SmartPhone(200000,\"Macbook\",8)\n",
    "s.buy()\n",
    "s.review()"
   ]
  },
  {
   "cell_type": "code",
   "execution_count": 31,
   "metadata": {},
   "outputs": [
    {
     "name": "stdout",
     "output_type": "stream",
     "text": [
      "Inside phone constructor\n",
      "Product buy method\n"
     ]
    }
   ],
   "source": [
    "# But there is a problem of ambiguity\n",
    "# with Multiple Inheritence\n",
    "# whether i should call buy () of Phone parent or\n",
    "# buy() of Product parent\n",
    "\n",
    "\n",
    "# SmartPhone(first_Parent,second_parent):\n",
    "# so, first_parent ka buy method get executed\n",
    "# in this case.\n",
    "# and this is called ''Method Resolution Order''\n",
    "\n",
    "class Phone: # 1st Parent\n",
    "    def __init__(self,price,brand,camera):\n",
    "        print(\"Inside phone constructor\")\n",
    "        self.__price = price\n",
    "        self.brand = brand\n",
    "        self.camera = camera\n",
    "\n",
    "    def buy(self):\n",
    "        print(\"Buying a phone\")\n",
    "\n",
    "class Product: # 2nd Parent\n",
    "    def buy(self):\n",
    "        print(\"Product buy method\")\n",
    "\n",
    "class SmartPhone(Product,Phone):#child class inherit both parents\n",
    "    pass\n",
    "\n",
    "s = SmartPhone(200000,\"Macbook\",8)\n",
    "s.buy()"
   ]
  },
  {
   "cell_type": "code",
   "execution_count": 32,
   "metadata": {},
   "outputs": [
    {
     "name": "stdout",
     "output_type": "stream",
     "text": [
      "70\n"
     ]
    }
   ],
   "source": [
    "# Practice Qus..\n",
    "class A:\n",
    "    def m1(self):\n",
    "        return 20\n",
    "\n",
    "class B(A):\n",
    "    def m1(self):\n",
    "        return 30\n",
    "\n",
    "    def m2(self):\n",
    "        return 40\n",
    "\n",
    "class C(B):\n",
    "    def m2(self):\n",
    "        return 20\n",
    "\n",
    "obj1=A()\n",
    "obj2=B()\n",
    "obj3 = C()\n",
    "print(obj1.m1()+obj3.m1()+obj3.m2())"
   ]
  },
  {
   "cell_type": "code",
   "execution_count": 38,
   "metadata": {},
   "outputs": [
    {
     "ename": "RecursionError",
     "evalue": "maximum recursion depth exceeded",
     "output_type": "error",
     "traceback": [
      "\u001b[1;31m---------------------------------------------------------------------------\u001b[0m",
      "\u001b[1;31mRecursionError\u001b[0m                            Traceback (most recent call last)",
      "\u001b[1;32mc:\\Users\\amitt\\OneDrive\\Desktop\\OOPs Day -3 poly,inheritence.ipynb Cell 36\u001b[0m in \u001b[0;36m<cell line: 23>\u001b[1;34m()\u001b[0m\n\u001b[0;32m     <a href='vscode-notebook-cell:/c%3A/Users/amitt/OneDrive/Desktop/OOPs%20Day%20-3%20poly%2Cinheritence.ipynb#X50sZmlsZQ%3D%3D?line=19'>20</a>\u001b[0m         \u001b[39mreturn\u001b[39;00m val\n\u001b[0;32m     <a href='vscode-notebook-cell:/c%3A/Users/amitt/OneDrive/Desktop/OOPs%20Day%20-3%20poly%2Cinheritence.ipynb#X50sZmlsZQ%3D%3D?line=21'>22</a>\u001b[0m obj \u001b[39m=\u001b[39m C()\n\u001b[1;32m---> <a href='vscode-notebook-cell:/c%3A/Users/amitt/OneDrive/Desktop/OOPs%20Day%20-3%20poly%2Cinheritence.ipynb#X50sZmlsZQ%3D%3D?line=22'>23</a>\u001b[0m \u001b[39mprint\u001b[39m(obj\u001b[39m.\u001b[39;49mm1())\n",
      "\u001b[1;32mc:\\Users\\amitt\\OneDrive\\Desktop\\OOPs Day -3 poly,inheritence.ipynb Cell 36\u001b[0m in \u001b[0;36mC.m1\u001b[1;34m(self)\u001b[0m\n\u001b[0;32m     <a href='vscode-notebook-cell:/c%3A/Users/amitt/OneDrive/Desktop/OOPs%20Day%20-3%20poly%2Cinheritence.ipynb#X50sZmlsZQ%3D%3D?line=17'>18</a>\u001b[0m \u001b[39mdef\u001b[39;00m \u001b[39mm1\u001b[39m(\u001b[39mself\u001b[39m):\n\u001b[1;32m---> <a href='vscode-notebook-cell:/c%3A/Users/amitt/OneDrive/Desktop/OOPs%20Day%20-3%20poly%2Cinheritence.ipynb#X50sZmlsZQ%3D%3D?line=18'>19</a>\u001b[0m     val \u001b[39m=\u001b[39m \u001b[39mself\u001b[39;49m\u001b[39m.\u001b[39;49mm1()\u001b[39m+\u001b[39m\u001b[39m20\u001b[39m\n\u001b[0;32m     <a href='vscode-notebook-cell:/c%3A/Users/amitt/OneDrive/Desktop/OOPs%20Day%20-3%20poly%2Cinheritence.ipynb#X50sZmlsZQ%3D%3D?line=19'>20</a>\u001b[0m     \u001b[39mreturn\u001b[39;00m val\n",
      "\u001b[1;32mc:\\Users\\amitt\\OneDrive\\Desktop\\OOPs Day -3 poly,inheritence.ipynb Cell 36\u001b[0m in \u001b[0;36mC.m1\u001b[1;34m(self)\u001b[0m\n\u001b[0;32m     <a href='vscode-notebook-cell:/c%3A/Users/amitt/OneDrive/Desktop/OOPs%20Day%20-3%20poly%2Cinheritence.ipynb#X50sZmlsZQ%3D%3D?line=17'>18</a>\u001b[0m \u001b[39mdef\u001b[39;00m \u001b[39mm1\u001b[39m(\u001b[39mself\u001b[39m):\n\u001b[1;32m---> <a href='vscode-notebook-cell:/c%3A/Users/amitt/OneDrive/Desktop/OOPs%20Day%20-3%20poly%2Cinheritence.ipynb#X50sZmlsZQ%3D%3D?line=18'>19</a>\u001b[0m     val \u001b[39m=\u001b[39m \u001b[39mself\u001b[39;49m\u001b[39m.\u001b[39;49mm1()\u001b[39m+\u001b[39m\u001b[39m20\u001b[39m\n\u001b[0;32m     <a href='vscode-notebook-cell:/c%3A/Users/amitt/OneDrive/Desktop/OOPs%20Day%20-3%20poly%2Cinheritence.ipynb#X50sZmlsZQ%3D%3D?line=19'>20</a>\u001b[0m     \u001b[39mreturn\u001b[39;00m val\n",
      "    \u001b[1;31m[... skipping similar frames: C.m1 at line 19 (2970 times)]\u001b[0m\n",
      "\u001b[1;32mc:\\Users\\amitt\\OneDrive\\Desktop\\OOPs Day -3 poly,inheritence.ipynb Cell 36\u001b[0m in \u001b[0;36mC.m1\u001b[1;34m(self)\u001b[0m\n\u001b[0;32m     <a href='vscode-notebook-cell:/c%3A/Users/amitt/OneDrive/Desktop/OOPs%20Day%20-3%20poly%2Cinheritence.ipynb#X50sZmlsZQ%3D%3D?line=17'>18</a>\u001b[0m \u001b[39mdef\u001b[39;00m \u001b[39mm1\u001b[39m(\u001b[39mself\u001b[39m):\n\u001b[1;32m---> <a href='vscode-notebook-cell:/c%3A/Users/amitt/OneDrive/Desktop/OOPs%20Day%20-3%20poly%2Cinheritence.ipynb#X50sZmlsZQ%3D%3D?line=18'>19</a>\u001b[0m     val \u001b[39m=\u001b[39m \u001b[39mself\u001b[39;49m\u001b[39m.\u001b[39;49mm1()\u001b[39m+\u001b[39m\u001b[39m20\u001b[39m\n\u001b[0;32m     <a href='vscode-notebook-cell:/c%3A/Users/amitt/OneDrive/Desktop/OOPs%20Day%20-3%20poly%2Cinheritence.ipynb#X50sZmlsZQ%3D%3D?line=19'>20</a>\u001b[0m     \u001b[39mreturn\u001b[39;00m val\n",
      "\u001b[1;31mRecursionError\u001b[0m: maximum recursion depth exceeded"
     ]
    }
   ],
   "source": [
    "# Practice\n",
    "class A:\n",
    "\n",
    "    def m1(Self):\n",
    "        return 20\n",
    "\n",
    "class B(A):\n",
    "\n",
    "    def m1(self):\n",
    "        val = super().m1()+30\n",
    "        return val\n",
    "\n",
    "class C(B):\n",
    "\n",
    "    # below method calculates itself\n",
    "    # again and again\n",
    "    # and because of that maximum recursion exceeded\n",
    "    def m1(self):\n",
    "        val = self.m1()+20\n",
    "        return val\n",
    "\n",
    "obj = C()\n",
    "print(obj.m1())"
   ]
  },
  {
   "cell_type": "markdown",
   "metadata": {},
   "source": [
    "# **Polymorphism**\n",
    "- Method Overriding\n",
    "- Method Overloading\n",
    "- Operator Overloading\n",
    "\n",
    "\n",
    "***Method Overriding***\n",
    "- if parents and child are both have methods of same name\n",
    "- then by inheritence always method of child class will get \n",
    "- executed \n",
    "\n",
    "***Method Overloading***\n",
    "- Method overloa.. is something \n",
    "- in which there are some same methods within a class \n",
    "- but they behave differently\n",
    "as per the inputs like, you can\n",
    "- see in below example\n",
    "- ultimately it makes code more cleaner\n",
    "\n",
    "- ***``BUT``*** unfortunately \n",
    "- method overloading not work in python but in ***``JAVA``*** Works\n",
    "\n",
    "\n",
    "***Operator Overloading***\n",
    "- means operator (like add,sub ) is same but as per input they return output different\n",
    "- see example below"
   ]
  },
  {
   "cell_type": "code",
   "execution_count": 42,
   "metadata": {},
   "outputs": [
    {
     "ename": "TypeError",
     "evalue": "shape.area() missing 1 required positional argument: 'b'",
     "output_type": "error",
     "traceback": [
      "\u001b[1;31m---------------------------------------------------------------------------\u001b[0m",
      "\u001b[1;31mTypeError\u001b[0m                                 Traceback (most recent call last)",
      "\u001b[1;32mc:\\Users\\amitt\\OneDrive\\Desktop\\OOPs Day -3 poly,inheritence.ipynb Cell 38\u001b[0m in \u001b[0;36m<cell line: 12>\u001b[1;34m()\u001b[0m\n\u001b[0;32m      <a href='vscode-notebook-cell:/c%3A/Users/amitt/OneDrive/Desktop/OOPs%20Day%20-3%20poly%2Cinheritence.ipynb#X51sZmlsZQ%3D%3D?line=7'>8</a>\u001b[0m         \u001b[39mreturn\u001b[39;00m l\u001b[39m*\u001b[39mb    \n\u001b[0;32m     <a href='vscode-notebook-cell:/c%3A/Users/amitt/OneDrive/Desktop/OOPs%20Day%20-3%20poly%2Cinheritence.ipynb#X51sZmlsZQ%3D%3D?line=9'>10</a>\u001b[0m s \u001b[39m=\u001b[39m shape()\n\u001b[1;32m---> <a href='vscode-notebook-cell:/c%3A/Users/amitt/OneDrive/Desktop/OOPs%20Day%20-3%20poly%2Cinheritence.ipynb#X51sZmlsZQ%3D%3D?line=11'>12</a>\u001b[0m s\u001b[39m.\u001b[39;49marea(\u001b[39m3\u001b[39;49m)\n\u001b[0;32m     <a href='vscode-notebook-cell:/c%3A/Users/amitt/OneDrive/Desktop/OOPs%20Day%20-3%20poly%2Cinheritence.ipynb#X51sZmlsZQ%3D%3D?line=12'>13</a>\u001b[0m s\u001b[39m.\u001b[39marea(\u001b[39m3\u001b[39m,\u001b[39m4\u001b[39m)\n",
      "\u001b[1;31mTypeError\u001b[0m: shape.area() missing 1 required positional argument: 'b'"
     ]
    }
   ],
   "source": [
    "#example of Method Overloading\n",
    "class shape:\n",
    "\n",
    "    def area(self,radius):\n",
    "        return 3.14*radius*radius\n",
    "\n",
    "    def area(self,l,b):\n",
    "        return l*b    \n",
    "\n",
    "s = shape()\n",
    "\n",
    "s.area(3)\n",
    "s.area(3,4)"
   ]
  },
  {
   "cell_type": "markdown",
   "metadata": {},
   "source": [
    "# But, indirectly we can use **``Method Overloading``** in python \n",
    "\n",
    "- with help of ``default arguement``"
   ]
  },
  {
   "cell_type": "code",
   "execution_count": 46,
   "metadata": {},
   "outputs": [
    {
     "name": "stdout",
     "output_type": "stream",
     "text": [
      "28.259999999999998\n",
      "6\n"
     ]
    }
   ],
   "source": [
    "class shape:\n",
    "\n",
    "    def area(self,a,b=0):\n",
    "        if b == 0:\n",
    "            return 3.14*a*a\n",
    "        else:\n",
    "            return a*b    \n",
    "\n",
    "a = shape()\n",
    "print(a.area(3))\n",
    "print(a.area(2,3))"
   ]
  },
  {
   "cell_type": "markdown",
   "metadata": {},
   "source": [
    "**Operator Overloading Examples**"
   ]
  },
  {
   "cell_type": "code",
   "execution_count": 49,
   "metadata": {},
   "outputs": [
    {
     "data": {
      "text/plain": [
       "7"
      ]
     },
     "execution_count": 49,
     "metadata": {},
     "output_type": "execute_result"
    }
   ],
   "source": [
    "3 + 4 #addition"
   ]
  },
  {
   "cell_type": "code",
   "execution_count": 48,
   "metadata": {},
   "outputs": [
    {
     "data": {
      "text/plain": [
       "'HelloWorld'"
      ]
     },
     "execution_count": 48,
     "metadata": {},
     "output_type": "execute_result"
    }
   ],
   "source": [
    "\"Hello\" + \"World\" # merging"
   ]
  },
  {
   "cell_type": "markdown",
   "metadata": {},
   "source": [
    "# Done With OOPs Day - 3 Class"
   ]
  }
 ],
 "metadata": {
  "kernelspec": {
   "display_name": "Python 3.10.0 64-bit",
   "language": "python",
   "name": "python3"
  },
  "language_info": {
   "codemirror_mode": {
    "name": "ipython",
    "version": 3
   },
   "file_extension": ".py",
   "mimetype": "text/x-python",
   "name": "python",
   "nbconvert_exporter": "python",
   "pygments_lexer": "ipython3",
   "version": "3.10.0"
  },
  "orig_nbformat": 4,
  "vscode": {
   "interpreter": {
    "hash": "26de051ba29f2982a8de78e945f0abaf191376122a1563185a90213a26c5da77"
   }
  }
 },
 "nbformat": 4,
 "nbformat_minor": 2
}
